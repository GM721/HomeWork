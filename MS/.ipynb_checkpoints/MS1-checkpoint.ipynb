{
 "cells": [
  {
   "cell_type": "code",
   "execution_count": 92,
   "metadata": {},
   "outputs": [],
   "source": [
    "import pandas as pd\n",
    "import math\n",
    "import numpy as np\n",
    "import matplotlib.pyplot as plt\n",
    "import scipy.stats as sc\n",
    "import sympy as sp\n",
    "from IPython.display import *\n",
    "\n",
    "s='''\n",
    " 9.974   8.769  11.169   6.089   9.497  10.914  17.721   8.847  13.410  7.966\n",
    " 2.097   7.470   7.498  15.914   9.336  13.731  12.941  11.747   6.995  23.857\n",
    " 7.943   6.636   8.725   9.728   6.427   8.422   4.367  20.900   8.030  9.831\n",
    " 9.369   9.933   8.242   4.476   7.178  11.306  11.095  14.297  12.923  22.787\n",
    " 5.911  19.797   6.734   6.024   6.086   8.644  13.809   6.906   6.339  6.228\n",
    "13.436   9.803  13.899   3.473  13.693   6.658   3.544  14.835   8.934  12.180\n",
    " 7.366  14.966  11.168   7.616   5.919   4.987   9.858  14.669   9.285  13.856\n",
    " 4.873  10.896   7.461   7.497   7.088   7.122   8.463   9.898  15.343  3.870\n",
    " 8.198   6.425  17.598  12.493   8.655  10.662  14.056   8.354  11.957  22.368\n",
    "18.069   8.902   7.868  10.460   2.759  10.486   5.042   8.146   3.510  6.876\n",
    "10.082   6.567  14.522  11.860   3.998  15.943   7.685  12.459   5.407  9.684\n",
    " 6.562   4.830  12.677  14.424   9.893   7.860  19.988  15.974  11.315  10.337 '''\n",
    "\n",
    "n=120"
   ]
  },
  {
   "cell_type": "markdown",
   "metadata": {},
   "source": [
    "### Первоначальная обработка статистических данных\n",
    "\n",
    "По данной выборке\n",
    "\n",
    "1. Найдите крайние члены вариационного ряда и размах выборки"
   ]
  },
  {
   "cell_type": "markdown",
   "metadata": {},
   "source": [
    "2. Осуществите группировку данных (количество интервалов находим по правилу Стерджеса)"
   ]
  },
  {
   "cell_type": "markdown",
   "metadata": {},
   "source": [
    "3. По сгруппированным данным постройте гистограмму относительных частот"
   ]
  },
  {
   "cell_type": "markdown",
   "metadata": {},
   "source": [
    "4. Вычислите выборочное среднее и выборочную дисперсию."
   ]
  },
  {
   "cell_type": "markdown",
   "metadata": {},
   "source": [
    "5. По виду гистограммы определите возможный закон распределения, оцените параметры этого закона по методу моментов, постройте совмещенные графики гистограммы и плотности предполагаемого закона"
   ]
  },
  {
   "cell_type": "markdown",
   "metadata": {},
   "source": [
    "6. Найдите эмпирическую функцию распределения и постройте совмещенные графики эмпирической и теоретической функций распределения"
   ]
  },
  {
   "cell_type": "code",
   "execution_count": 328,
   "metadata": {
    "scrolled": false
   },
   "outputs": [
    {
     "name": "stdout",
     "output_type": "stream",
     "text": [
      "Данная выборка: \n",
      "\n"
     ]
    },
    {
     "data": {
      "text/html": [
       "<div>\n",
       "<style scoped>\n",
       "    .dataframe tbody tr th:only-of-type {\n",
       "        vertical-align: middle;\n",
       "    }\n",
       "\n",
       "    .dataframe tbody tr th {\n",
       "        vertical-align: top;\n",
       "    }\n",
       "\n",
       "    .dataframe thead th {\n",
       "        text-align: right;\n",
       "    }\n",
       "</style>\n",
       "<table border=\"1\" class=\"dataframe\">\n",
       "  <thead>\n",
       "    <tr style=\"text-align: right;\">\n",
       "      <th></th>\n",
       "      <th>0</th>\n",
       "      <th>1</th>\n",
       "      <th>2</th>\n",
       "      <th>3</th>\n",
       "      <th>4</th>\n",
       "      <th>5</th>\n",
       "      <th>6</th>\n",
       "      <th>7</th>\n",
       "      <th>8</th>\n",
       "      <th>9</th>\n",
       "    </tr>\n",
       "  </thead>\n",
       "  <tbody>\n",
       "    <tr>\n",
       "      <th>0</th>\n",
       "      <td>9.974</td>\n",
       "      <td>8.769</td>\n",
       "      <td>11.169</td>\n",
       "      <td>6.089</td>\n",
       "      <td>9.497</td>\n",
       "      <td>10.914</td>\n",
       "      <td>17.721</td>\n",
       "      <td>8.847</td>\n",
       "      <td>13.410</td>\n",
       "      <td>7.966</td>\n",
       "    </tr>\n",
       "    <tr>\n",
       "      <th>1</th>\n",
       "      <td>2.097</td>\n",
       "      <td>7.470</td>\n",
       "      <td>7.498</td>\n",
       "      <td>15.914</td>\n",
       "      <td>9.336</td>\n",
       "      <td>13.731</td>\n",
       "      <td>12.941</td>\n",
       "      <td>11.747</td>\n",
       "      <td>6.995</td>\n",
       "      <td>23.857</td>\n",
       "    </tr>\n",
       "    <tr>\n",
       "      <th>2</th>\n",
       "      <td>7.943</td>\n",
       "      <td>6.636</td>\n",
       "      <td>8.725</td>\n",
       "      <td>9.728</td>\n",
       "      <td>6.427</td>\n",
       "      <td>8.422</td>\n",
       "      <td>4.367</td>\n",
       "      <td>20.900</td>\n",
       "      <td>8.030</td>\n",
       "      <td>9.831</td>\n",
       "    </tr>\n",
       "    <tr>\n",
       "      <th>3</th>\n",
       "      <td>9.369</td>\n",
       "      <td>9.933</td>\n",
       "      <td>8.242</td>\n",
       "      <td>4.476</td>\n",
       "      <td>7.178</td>\n",
       "      <td>11.306</td>\n",
       "      <td>11.095</td>\n",
       "      <td>14.297</td>\n",
       "      <td>12.923</td>\n",
       "      <td>22.787</td>\n",
       "    </tr>\n",
       "    <tr>\n",
       "      <th>4</th>\n",
       "      <td>5.911</td>\n",
       "      <td>19.797</td>\n",
       "      <td>6.734</td>\n",
       "      <td>6.024</td>\n",
       "      <td>6.086</td>\n",
       "      <td>8.644</td>\n",
       "      <td>13.809</td>\n",
       "      <td>6.906</td>\n",
       "      <td>6.339</td>\n",
       "      <td>6.228</td>\n",
       "    </tr>\n",
       "    <tr>\n",
       "      <th>5</th>\n",
       "      <td>13.436</td>\n",
       "      <td>9.803</td>\n",
       "      <td>13.899</td>\n",
       "      <td>3.473</td>\n",
       "      <td>13.693</td>\n",
       "      <td>6.658</td>\n",
       "      <td>3.544</td>\n",
       "      <td>14.835</td>\n",
       "      <td>8.934</td>\n",
       "      <td>12.180</td>\n",
       "    </tr>\n",
       "    <tr>\n",
       "      <th>6</th>\n",
       "      <td>7.366</td>\n",
       "      <td>14.966</td>\n",
       "      <td>11.168</td>\n",
       "      <td>7.616</td>\n",
       "      <td>5.919</td>\n",
       "      <td>4.987</td>\n",
       "      <td>9.858</td>\n",
       "      <td>14.669</td>\n",
       "      <td>9.285</td>\n",
       "      <td>13.856</td>\n",
       "    </tr>\n",
       "    <tr>\n",
       "      <th>7</th>\n",
       "      <td>4.873</td>\n",
       "      <td>10.896</td>\n",
       "      <td>7.461</td>\n",
       "      <td>7.497</td>\n",
       "      <td>7.088</td>\n",
       "      <td>7.122</td>\n",
       "      <td>8.463</td>\n",
       "      <td>9.898</td>\n",
       "      <td>15.343</td>\n",
       "      <td>3.870</td>\n",
       "    </tr>\n",
       "    <tr>\n",
       "      <th>8</th>\n",
       "      <td>8.198</td>\n",
       "      <td>6.425</td>\n",
       "      <td>17.598</td>\n",
       "      <td>12.493</td>\n",
       "      <td>8.655</td>\n",
       "      <td>10.662</td>\n",
       "      <td>14.056</td>\n",
       "      <td>8.354</td>\n",
       "      <td>11.957</td>\n",
       "      <td>22.368</td>\n",
       "    </tr>\n",
       "    <tr>\n",
       "      <th>9</th>\n",
       "      <td>18.069</td>\n",
       "      <td>8.902</td>\n",
       "      <td>7.868</td>\n",
       "      <td>10.460</td>\n",
       "      <td>2.759</td>\n",
       "      <td>10.486</td>\n",
       "      <td>5.042</td>\n",
       "      <td>8.146</td>\n",
       "      <td>3.510</td>\n",
       "      <td>6.876</td>\n",
       "    </tr>\n",
       "    <tr>\n",
       "      <th>10</th>\n",
       "      <td>10.082</td>\n",
       "      <td>6.567</td>\n",
       "      <td>14.522</td>\n",
       "      <td>11.860</td>\n",
       "      <td>3.998</td>\n",
       "      <td>15.943</td>\n",
       "      <td>7.685</td>\n",
       "      <td>12.459</td>\n",
       "      <td>5.407</td>\n",
       "      <td>9.684</td>\n",
       "    </tr>\n",
       "    <tr>\n",
       "      <th>11</th>\n",
       "      <td>6.562</td>\n",
       "      <td>4.830</td>\n",
       "      <td>12.677</td>\n",
       "      <td>14.424</td>\n",
       "      <td>9.893</td>\n",
       "      <td>7.860</td>\n",
       "      <td>19.988</td>\n",
       "      <td>15.974</td>\n",
       "      <td>11.315</td>\n",
       "      <td>10.337</td>\n",
       "    </tr>\n",
       "  </tbody>\n",
       "</table>\n",
       "</div>"
      ],
      "text/plain": [
       "         0       1       2       3       4       5       6       7       8  \\\n",
       "0    9.974   8.769  11.169   6.089   9.497  10.914  17.721   8.847  13.410   \n",
       "1    2.097   7.470   7.498  15.914   9.336  13.731  12.941  11.747   6.995   \n",
       "2    7.943   6.636   8.725   9.728   6.427   8.422   4.367  20.900   8.030   \n",
       "3    9.369   9.933   8.242   4.476   7.178  11.306  11.095  14.297  12.923   \n",
       "4    5.911  19.797   6.734   6.024   6.086   8.644  13.809   6.906   6.339   \n",
       "5   13.436   9.803  13.899   3.473  13.693   6.658   3.544  14.835   8.934   \n",
       "6    7.366  14.966  11.168   7.616   5.919   4.987   9.858  14.669   9.285   \n",
       "7    4.873  10.896   7.461   7.497   7.088   7.122   8.463   9.898  15.343   \n",
       "8    8.198   6.425  17.598  12.493   8.655  10.662  14.056   8.354  11.957   \n",
       "9   18.069   8.902   7.868  10.460   2.759  10.486   5.042   8.146   3.510   \n",
       "10  10.082   6.567  14.522  11.860   3.998  15.943   7.685  12.459   5.407   \n",
       "11   6.562   4.830  12.677  14.424   9.893   7.860  19.988  15.974  11.315   \n",
       "\n",
       "         9  \n",
       "0    7.966  \n",
       "1   23.857  \n",
       "2    9.831  \n",
       "3   22.787  \n",
       "4    6.228  \n",
       "5   12.180  \n",
       "6   13.856  \n",
       "7    3.870  \n",
       "8   22.368  \n",
       "9    6.876  \n",
       "10   9.684  \n",
       "11  10.337  "
      ]
     },
     "execution_count": 328,
     "metadata": {},
     "output_type": "execute_result"
    }
   ],
   "source": [
    "xx=np.array([float(i) for i in s.split()])\n",
    "\n",
    "print(\"Данная выборка: \\n\")\n",
    "pd.DataFrame(np.reshape(xx,(12,10)))"
   ]
  },
  {
   "cell_type": "markdown",
   "metadata": {},
   "source": [
    "#### Найдем крайние члены вариационного ряда и размах выборки"
   ]
  },
  {
   "cell_type": "code",
   "execution_count": 56,
   "metadata": {},
   "outputs": [
    {
     "name": "stdout",
     "output_type": "stream",
     "text": [
      "Крайние члены вариационного ряда:\n",
      "max = 23.857 \n",
      "min = 2.097 \n",
      "\n",
      "Размах выборки: 21.76\n"
     ]
    }
   ],
   "source": [
    "print(\"Крайние члены вариационного ряда:\")\n",
    "print('max =', max(xx),'\\nmin =',min(xx),'\\n')\n",
    "\n",
    "omega =max(xx)-min(xx)\n",
    "print('Размах выборки:',round(omega,3))"
   ]
  },
  {
   "cell_type": "markdown",
   "metadata": {},
   "source": [
    "#### Осуществите группировку данных"
   ]
  },
  {
   "cell_type": "code",
   "execution_count": 134,
   "metadata": {},
   "outputs": [
    {
     "name": "stdout",
     "output_type": "stream",
     "text": [
      "Количество интервалов найденых по правилу Стерджа: 7\n"
     ]
    }
   ],
   "source": [
    "l= math.trunc(1+math.log(120,2))\n",
    "print('Количество интервалов найденых по правилу Стерджа:',l)"
   ]
  },
  {
   "cell_type": "code",
   "execution_count": 151,
   "metadata": {},
   "outputs": [
    {
     "name": "stdout",
     "output_type": "stream",
     "text": [
      "Сгруппированые данные:\n"
     ]
    },
    {
     "data": {
      "text/html": [
       "<div>\n",
       "<style scoped>\n",
       "    .dataframe tbody tr th:only-of-type {\n",
       "        vertical-align: middle;\n",
       "    }\n",
       "\n",
       "    .dataframe tbody tr th {\n",
       "        vertical-align: top;\n",
       "    }\n",
       "\n",
       "    .dataframe thead th {\n",
       "        text-align: right;\n",
       "    }\n",
       "</style>\n",
       "<table border=\"1\" class=\"dataframe\">\n",
       "  <thead>\n",
       "    <tr style=\"text-align: right;\">\n",
       "      <th></th>\n",
       "      <th>(2.097 : 5.206)</th>\n",
       "      <th>(5.206 : 8.314)</th>\n",
       "      <th>(8.314 : 11.423)</th>\n",
       "      <th>(11.423 : 14.531)</th>\n",
       "      <th>(14.531 : 17.64)</th>\n",
       "      <th>(17.64 : 20.748)</th>\n",
       "      <th>(20.748 : 23.857)</th>\n",
       "    </tr>\n",
       "  </thead>\n",
       "  <tbody>\n",
       "    <tr>\n",
       "      <th>частоты</th>\n",
       "      <td>13.0000</td>\n",
       "      <td>36.0000</td>\n",
       "      <td>35.0000</td>\n",
       "      <td>20.0000</td>\n",
       "      <td>8.0000</td>\n",
       "      <td>4.0000</td>\n",
       "      <td>4.0000</td>\n",
       "    </tr>\n",
       "    <tr>\n",
       "      <th>отн. частоты</th>\n",
       "      <td>0.0348</td>\n",
       "      <td>0.0965</td>\n",
       "      <td>0.0938</td>\n",
       "      <td>0.0536</td>\n",
       "      <td>0.0214</td>\n",
       "      <td>0.0107</td>\n",
       "      <td>0.0107</td>\n",
       "    </tr>\n",
       "  </tbody>\n",
       "</table>\n",
       "</div>"
      ],
      "text/plain": [
       "               (2.097 : 5.206)  (5.206 : 8.314)  (8.314 : 11.423)  \\\n",
       "частоты                13.0000          36.0000           35.0000   \n",
       " отн. частоты           0.0348           0.0965            0.0938   \n",
       "\n",
       "               (11.423 : 14.531)  (14.531 : 17.64)  (17.64 : 20.748)  \\\n",
       "частоты                  20.0000            8.0000            4.0000   \n",
       " отн. частоты             0.0536            0.0214            0.0107   \n",
       "\n",
       "               (20.748 : 23.857)  \n",
       "частоты                   4.0000  \n",
       " отн. частоты             0.0107  "
      ]
     },
     "metadata": {},
     "output_type": "display_data"
    }
   ],
   "source": [
    "print(\"Сгруппированые данные:\")\n",
    "interval = ['(' + str(round(i,3)) + \" : \" + str(round(i+ omega/l,3)) + ')' for i in out[1][:-1]]\n",
    "display(pd.DataFrame([out[0]*(n*(omega/l)), [round(i,4) for i in out[0]]], index = [\"частоты\",\" отн. частоты\"], columns = interval ))"
   ]
  },
  {
   "cell_type": "markdown",
   "metadata": {},
   "source": [
    "#### По сгруппированным данным постройте гистограмму относительных частот"
   ]
  },
  {
   "cell_type": "code",
   "execution_count": 150,
   "metadata": {},
   "outputs": [
    {
     "data": {
      "image/png": "[encoded data removed]",
      "text/plain": [
       "<Figure size 648x360 with 1 Axes>"
      ]
     },
     "metadata": {
      "needs_background": "light"
     },
     "output_type": "display_data"
    }
   ],
   "source": [
    "plt.figure(figsize=(9,5))\n",
    "out = plt.hist(xx,l,density = True)\n",
    "\n",
    "a=(out[1][1]-out[1][0])/2\n",
    "b=[out[1][i]+a for i in range(len(out[1])-1) ]\n",
    "\n",
    "plt.plot(b,out[0],'k', linewidth = 3)\n",
    "plt.title('Гистограмма относительных частот',fontsize = 17)\n",
    "plt.show()"
   ]
  },
  {
   "cell_type": "markdown",
   "metadata": {},
   "source": [
    "#### Вычислите выборочное среднее и выборочную дисперсию."
   ]
  },
  {
   "cell_type": "code",
   "execution_count": 300,
   "metadata": {},
   "outputs": [
    {
     "name": "stdout",
     "output_type": "stream",
     "text": [
      "Выборочное среднее: 10.022016666666666\n",
      "Выборочная дисперсия: 19.001969466388886\n"
     ]
    }
   ],
   "source": [
    "xm = np.average(xx)\n",
    "print('Выборочное среднее:',xm )\n",
    "\n",
    "s2=np.average(xx*xx) - np.average(xx) ** 2\n",
    "print('Выборочная дисперсия:',s2)"
   ]
  },
  {
   "cell_type": "markdown",
   "metadata": {},
   "source": [
    "### По виду гистограммы заключаем, что распределение эмпирических частот похоже на гамма закон\n",
    "\n",
    "#### Оценим параметры по методу моментов"
   ]
  },
  {
   "cell_type": "code",
   "execution_count": 161,
   "metadata": {
    "scrolled": true
   },
   "outputs": [
    {
     "name": "stdout",
     "output_type": "stream",
     "text": [
      "Первый момент:\n"
     ]
    },
    {
     "data": {
      "text/latex": [
       "$\\displaystyle \\int\\limits_{0}^{\\infty} \\frac{x^{λ} α^{λ} e^{- x α}}{\\Gamma\\left(λ\\right)}\\, dx = \\frac{λ}{α}$"
      ],
      "text/plain": [
       "Eq(Integral(x**λ*α**λ*exp(-x*α)/gamma(λ), (x, 0, oo)), λ/α)"
      ]
     },
     "execution_count": 161,
     "metadata": {},
     "output_type": "execute_result"
    }
   ],
   "source": [
    "x = sp.Symbol('x') \n",
    "al = sp.Symbol('\\u03B1') \n",
    "lm = sp.Symbol('\\u03BB') \n",
    "f = sp.Function('f')\n",
    "G = ((al**lm)*(x**(lm-1))*sp.exp(-al*x))/ sp.gamma(lm)\n",
    "\n",
    "print(\"Первый момент:\")\n",
    "g1 = sp.integrate(x*G,(x,0,sp.oo))\n",
    "g1 = sp.simplify(g1).args[0][0]\n",
    "sp.Eq(sp.Integral(sp.simplify(x*G),(x,0,sp.oo)),g1)"
   ]
  },
  {
   "cell_type": "code",
   "execution_count": 160,
   "metadata": {},
   "outputs": [
    {
     "name": "stdout",
     "output_type": "stream",
     "text": [
      "Второй момент:\n"
     ]
    },
    {
     "data": {
      "text/latex": [
       "$\\displaystyle \\int\\limits_{0}^{\\infty} \\frac{x^{λ + 1} α^{λ} e^{- x α}}{\\Gamma\\left(λ\\right)}\\, dx = \\frac{λ \\left(λ + 1\\right)}{α^{2}}$"
      ],
      "text/plain": [
       "Eq(Integral(x**(λ + 1)*α**λ*exp(-x*α)/gamma(λ), (x, 0, oo)), λ*(λ + 1)/α**2)"
      ]
     },
     "execution_count": 160,
     "metadata": {},
     "output_type": "execute_result"
    }
   ],
   "source": [
    "print(\"Второй момент:\")\n",
    "g2 = sp.integrate((x**2)*G,(x,0,sp.oo))\n",
    "g2 = sp.simplify(g2).args[0][0]\n",
    "sp.Eq(sp.Integral(sp.simplify((x**2)*G),(x,0,sp.oo)),g2)"
   ]
  },
  {
   "cell_type": "code",
   "execution_count": 162,
   "metadata": {},
   "outputs": [
    {
     "name": "stdout",
     "output_type": "stream",
     "text": [
      "Второй центрированый момент:\n"
     ]
    },
    {
     "data": {
      "text/latex": [
       "$\\displaystyle - \\frac{λ^{2}}{α^{2}} + \\frac{λ \\left(λ + 1\\right)}{α^{2}} = \\frac{λ}{α^{2}}$"
      ],
      "text/plain": [
       "Eq(-λ**2/α**2 + λ*(λ + 1)/α**2, λ/α**2)"
      ]
     },
     "execution_count": 162,
     "metadata": {},
     "output_type": "execute_result"
    }
   ],
   "source": [
    "print(\"Второй центрированый момент:\")\n",
    "g3 = g2 - g1**2\n",
    "g3 = sp.simplify(g3)\n",
    "sp.Eq(g2-g1**2,g3)"
   ]
  },
  {
   "cell_type": "code",
   "execution_count": 172,
   "metadata": {},
   "outputs": [
    {
     "name": "stdout",
     "output_type": "stream",
     "text": [
      "Решим систему уравнений:\n"
     ]
    },
    {
     "data": {
      "text/latex": [
       "$\\displaystyle \\frac{λ}{α} = 10.0220166666667$"
      ],
      "text/plain": [
       "Eq(λ/α, 10.0220166666667)"
      ]
     },
     "metadata": {},
     "output_type": "display_data"
    },
    {
     "data": {
      "text/latex": [
       "$\\displaystyle \\frac{λ}{α^{2}} = 19.0019694663889$"
      ],
      "text/plain": [
       "Eq(λ/α**2, 19.0019694663889)"
      ]
     },
     "metadata": {},
     "output_type": "display_data"
    }
   ],
   "source": [
    "print('Решим систему уравнений:')\n",
    "display(sp.Eq(g1,xm),sp.Eq(g3,s2))"
   ]
  },
  {
   "cell_type": "code",
   "execution_count": 320,
   "metadata": {},
   "outputs": [
    {
     "name": "stdout",
     "output_type": "stream",
     "text": [
      "Результат решения уравнения: \n",
      "\n",
      "α = 0.5274\n",
      "λ = 5.2858\n"
     ]
    }
   ],
   "source": [
    "alr,lmr = sp.solve([sp.Eq(g1,xm),sp.Eq(g3,s2)],[al,lm])[0]\n",
    "print(\"Результат решения уравнения: \\n\")\n",
    "print(al,\"=\", round(alr,4))\n",
    "print(lm,\"=\", round(lmr,4))"
   ]
  },
  {
   "cell_type": "markdown",
   "metadata": {},
   "source": [
    "### Построем совмещенные графики гистограммы и плотности предполагаемого закона"
   ]
  },
  {
   "cell_type": "code",
   "execution_count": 309,
   "metadata": {},
   "outputs": [
    {
     "data": {
      "image/png": "[encoded data removed]",
      "text/plain": [
       "<Figure size 648x360 with 1 Axes>"
      ]
     },
     "metadata": {
      "needs_background": "light"
     },
     "output_type": "display_data"
    }
   ],
   "source": [
    "xlin = np.linspace(0,25,100)\n",
    "plt.figure(figsize=(9,5))\n",
    "plt.hist(xx,l,density = True)\n",
    "plt.plot(xlin,sc.gamma.pdf(xlin,a = float(lmr), scale = float(1/alr)),color = \"black\")\n",
    "plt.title('Cовмещенные графики',fontsize = 17)\n",
    "plt.show()"
   ]
  },
  {
   "cell_type": "markdown",
   "metadata": {},
   "source": [
    "#### Построем совмещенные  графики эмпирической и теоретической функций распределения"
   ]
  },
  {
   "cell_type": "code",
   "execution_count": 327,
   "metadata": {
    "scrolled": false
   },
   "outputs": [
    {
     "data": {
      "image/png": "[encoded data removed]",
      "text/plain": [
       "<Figure size 792x504 with 1 Axes>"
      ]
     },
     "metadata": {
      "needs_background": "light"
     },
     "output_type": "display_data"
    }
   ],
   "source": [
    "xlin = np.linspace(0,23.6,1000)\n",
    "plt.figure(figsize=(11,7))\n",
    "plt.plot(xlin,sc.gamma.cdf(xlin,a = float(lmr), loc = -min(xx) ,scale = float(1/alr)),color = \"black\")\n",
    "plt.hist(xx,7,density = True,color='blue',cumulative=True)\n",
    "plt.title('Cовмещенные графики эмпирической и теоретической функций распределения',fontsize = 15)\n",
    "plt.show()"
   ]
  },
  {
   "cell_type": "markdown",
   "metadata": {},
   "source": [
    "#### Вывод: Первоначальная обработка позволяет предварительно отнести выборку к гамма закону с параметрами α = 0.5274, λ = 5.2858 . "
   ]
  }
 ],
 "metadata": {
  "kernelspec": {
   "display_name": "Python 3",
   "language": "python",
   "name": "python3"
  },
  "language_info": {
   "codemirror_mode": {
    "name": "ipython",
    "version": 3
   },
   "file_extension": ".py",
   "mimetype": "text/x-python",
   "name": "python",
   "nbconvert_exporter": "python",
   "pygments_lexer": "ipython3",
   "version": "3.7.5"
  }
 },
 "nbformat": 4,
 "nbformat_minor": 4
}
