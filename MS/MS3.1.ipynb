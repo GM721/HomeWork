{
 "cells": [
  {
   "cell_type": "code",
   "execution_count": 6,
   "metadata": {},
   "outputs": [],
   "source": [
    "import math \n",
    "import numpy as np\n",
    "import matplotlib.pyplot as plt\n",
    "import scipy.integrate as integrate\n",
    "import pandas as pd\n",
    "import scipy.stats as sc\n",
    "import sympy as sp"
   ]
  },
  {
   "cell_type": "code",
   "execution_count": 21,
   "metadata": {},
   "outputs": [
    {
     "data": {
      "text/plain": [
       "array([0.71366098, 0.09544797, 0.11463747, 0.88845345, 0.87217   ,\n",
       "       0.39230895, 0.6135917 , 0.01803391, 0.79347341, 0.58626677,\n",
       "       0.92533928, 0.46545823, 0.48569082, 0.44232151, 0.55125354,\n",
       "       0.95502646, 0.41733089, 0.64015934, 0.91056061, 0.42050523,\n",
       "       0.37071089, 0.03090711, 0.91139974, 0.07564054, 0.84668664,\n",
       "       0.22882716, 0.21095597, 0.87125243, 0.17329807, 0.52770771,\n",
       "       0.33054977, 0.08209567, 0.51563668, 0.36879115, 0.54223741,\n",
       "       0.66271767, 0.2074591 , 0.51653289, 0.087013  , 0.54390598,\n",
       "       0.17424262, 0.80464004, 0.87970301, 0.04219133, 0.0409177 ,\n",
       "       0.0495767 , 0.41020273, 0.78297775, 0.72187207, 0.87661807,\n",
       "       0.10560342, 0.19663772, 0.56724677, 0.29069071, 0.78114838,\n",
       "       0.84042282, 0.62403583, 0.99322294, 0.29630206, 0.50892473,\n",
       "       0.27270467, 0.43289321, 0.02092654, 0.99291888, 0.79707101,\n",
       "       0.39731076, 0.9018047 , 0.53725249, 0.25600267, 0.55419178,\n",
       "       0.31524909, 0.74015471, 0.80130274, 0.28879129, 0.02349106,\n",
       "       0.29431744, 0.28958587, 0.48313875, 0.23046531, 0.58244561,\n",
       "       0.34187644, 0.55196196, 0.51371381, 0.56743316, 0.36085408,\n",
       "       0.06510246, 0.64990057, 0.2345123 , 0.80739644, 0.72028975,\n",
       "       0.09253324, 0.35749596, 0.57946678, 0.42594246, 0.73569973,\n",
       "       0.70839036, 0.04715117, 0.47842911, 0.05411286, 0.55714741,\n",
       "       0.89573125, 0.39239603, 0.03968133, 0.32304726, 0.09983864,\n",
       "       0.82069923, 0.3854523 , 0.32358449, 0.68048232, 0.10020586,\n",
       "       0.22775214, 0.59373393, 0.78174442, 0.01189701, 0.87807883,\n",
       "       0.61530843, 0.26639925, 0.63710288, 0.21067707, 0.42546207])"
      ]
     },
     "execution_count": 21,
     "metadata": {},
     "output_type": "execute_result"
    }
   ],
   "source": [
    "k=2.5\n",
    "n=120\n",
    "random_y=np.random.sample(n)\n",
    "random_y"
   ]
  },
  {
   "cell_type": "code",
   "execution_count": 22,
   "metadata": {},
   "outputs": [
    {
     "name": "stdout",
     "output_type": "stream",
     "text": [
      "-1.0*2.71828182845905**(-x**2.5)\n"
     ]
    },
    {
     "data": {
      "text/latex": [
       "$\\displaystyle 1 - 2.71828182845905^{- x^{2.5}}$"
      ],
      "text/plain": [
       "1 - 2.71828182845905**(-x**2.5)"
      ]
     },
     "execution_count": 22,
     "metadata": {},
     "output_type": "execute_result"
    }
   ],
   "source": [
    "x = sympy.symbols('x')\n",
    "p_x=k*(x**(k-1))*(math.e**(-x**k))\n",
    "i = sympy.integrate(p_x)\n",
    "print(i)\n",
    "f_x=lambda x:1-math.e**(-x**k)\n",
    "f_x(x)-f_x(0)"
   ]
  },
  {
   "cell_type": "code",
   "execution_count": 23,
   "metadata": {
    "scrolled": false
   },
   "outputs": [
    {
     "name": "stdout",
     "output_type": "stream",
     "text": [
      " 1.094    0.399    0.431    1.369    1.334    0.757    0.980    0.201    1.200   0.951\n",
      " 1.464    0.829    0.849    0.806    0.915    1.573    0.782    1.009    1.423   0.785\n",
      " 0.735    0.250    1.425    0.362    1.286    0.583    0.562    1.333    0.515   0.891\n",
      " 0.694    0.374    0.879    0.733    0.906    1.034    0.558    0.880    0.383   0.908\n",
      " 0.516    1.217    1.350    0.284    0.281    0.304    0.775    1.185    1.104   1.344\n",
      " 0.416    0.545    0.932    0.652    1.182    1.275    0.991    1.903    0.658   0.873\n",
      " 0.633    0.797    0.214    1.896    1.205    0.762    1.400    0.901    0.614   0.918\n",
      " 0.678    1.127    1.212    0.650    0.224    0.656    0.651    0.847    0.585   0.947\n",
      " 0.706    0.916    0.877    0.932    0.725    0.340    1.020    0.590    1.221   1.102\n",
      " 0.393    0.722    0.944    0.790    1.121    1.087    0.298    0.842    0.315   0.921\n",
      " 1.386    0.757    0.277    0.686    0.406    1.242    0.750    0.687    1.054   0.407\n",
      " 0.582    0.959    1.183    0.170    1.347    0.982    0.626    1.005    0.562   0.790\n"
     ]
    }
   ],
   "source": [
    "vyborka=[]\n",
    "f_y=lambda y:(-math.log(1-y))**(1/k)\n",
    "for i in range(len(random_y)):\n",
    "    vyborka.append(f_y(random_y[i]))\n",
    "for i in range(120):\n",
    "    if (i+1)%10==0 and i!=0:\n",
    "        print(\"%.3f\" % vyborka[i])\n",
    "    else:\n",
    "        print(\" %.3f\" % vyborka[i],end='   ')"
   ]
  },
  {
   "cell_type": "code",
   "execution_count": 29,
   "metadata": {},
   "outputs": [
    {
     "name": "stdout",
     "output_type": "stream",
     "text": [
      "Mξ = 0.887\n",
      "Dξ = 0.143\n"
     ]
    }
   ],
   "source": [
    "M=0.887\n",
    "D=0.143\n",
    "print(\"M\\u03BE =\",M)\n",
    "print(\"D\\u03BE =\",D)"
   ]
  },
  {
   "cell_type": "code",
   "execution_count": 24,
   "metadata": {
    "scrolled": false
   },
   "outputs": [
    {
     "data": {
      "text/plain": [
       "(array([0.67341136, 0.6397408 , 1.07745818, 0.80809364, 0.6397408 ,\n",
       "        0.13468227, 0.06734114]),\n",
       " array([0.17029963, 0.4177957 , 0.66529177, 0.91278784, 1.16028391,\n",
       "        1.40777998, 1.65527605, 1.90277213]),\n",
       " <BarContainer object of 7 artists>)"
      ]
     },
     "execution_count": 24,
     "metadata": {},
     "output_type": "execute_result"
    },
    {
     "data": {
      "image/png": "[encoded data removed]",
      "text/plain": [
       "<Figure size 792x504 with 1 Axes>"
      ]
     },
     "metadata": {
      "needs_background": "light"
     },
     "output_type": "display_data"
    }
   ],
   "source": [
    "p_x=lambda x2:k*(x2**(k-1))*(math.e**(-x2**k))\n",
    "x2=np.linspace(0,2.2,100)\n",
    "plt.figure(figsize=(11,7))\n",
    "plt.plot(x2,p_x(x2),'k',linewidth = 2)\n",
    "plt.hist(vyborka,7,density = True)"
   ]
  },
  {
   "cell_type": "code",
   "execution_count": 25,
   "metadata": {},
   "outputs": [
    {
     "data": {
      "text/plain": [
       "0.8405325140632371"
      ]
     },
     "execution_count": 25,
     "metadata": {},
     "output_type": "execute_result"
    }
   ],
   "source": [
    "sum=0\n",
    "for i in range(len(vyborka)):\n",
    "    sum+=vyborka[i]\n",
    "M2=sum/n\n",
    "M2"
   ]
  },
  {
   "cell_type": "code",
   "execution_count": 28,
   "metadata": {},
   "outputs": [
    {
     "data": {
      "text/plain": [
       "0.128923979025921"
      ]
     },
     "execution_count": 28,
     "metadata": {},
     "output_type": "execute_result"
    }
   ],
   "source": [
    "sum=0\n",
    "for i in range(len(vyborka)):\n",
    "    sum+=vyborka[i]**2\n",
    "mean=sum/n\n",
    "D2=mean-M2**2\n",
    "D2"
   ]
  },
  {
   "cell_type": "code",
   "execution_count": 30,
   "metadata": {},
   "outputs": [
    {
     "name": "stdout",
     "output_type": "stream",
     "text": [
      "0.046467485936762865\n",
      "0.014076020974078979\n"
     ]
    }
   ],
   "source": [
    "print(abs(M-M2))\n",
    "print(abs(D-D2))"
   ]
  },
  {
   "cell_type": "markdown",
   "metadata": {},
   "source": [
    "Неравенство (Дворецкий-Кифер-Волфовиц)\n",
    "\n",
    "                                    𝑃(sup|𝐹𝑛̂(𝑥)−𝐹(𝑥)|>𝜀)≤2𝑒^(−2𝑛𝜀^2)\n",
    "                                      𝑥∈ℝ\n",
    "\n",
    "Таким образом, если 2𝑒^(−2𝑛𝜀^2)=𝛼, ln(2/𝛼)=2𝑛𝜀^2, 𝜀=√((1/2𝑛)ln(2/𝛼)), то с вероятностью 1−𝛼\n",
    "\n",
    "                                            𝐿(𝑥)≤𝐹𝑛̂(𝑥)≤𝑅(𝑥)\n",
    "где\n",
    "                       𝐿(𝑥)=max{𝐹𝑛̂(𝑥)−√(1/2𝑛)ln(2/𝛼),0}, 𝑅(𝑥)=min{𝐹𝑛̂(𝑥)+√(1/2𝑛)ln(2/𝛼),1}.\n",
    "                  \n",
    "                  \n",
    "Построение доверительного интервала"
   ]
  },
  {
   "cell_type": "code",
   "execution_count": 31,
   "metadata": {},
   "outputs": [
    {
     "name": "stdout",
     "output_type": "stream",
     "text": [
      "ε = 0.1117238461854718\n"
     ]
    }
   ],
   "source": [
    "eps=(-math.log(0.1/2)/(2*n))**(1/2)\n",
    "print(\"\\u03B5 =\",eps)"
   ]
  },
  {
   "cell_type": "code",
   "execution_count": 33,
   "metadata": {},
   "outputs": [],
   "source": [
    "def ind(x):\n",
    "    if (x>0):\n",
    "        return 1\n",
    "    else :\n",
    "        return 0\n",
    "    \n",
    "def F_emp(x):\n",
    "    sum_array=[]\n",
    "    for j in x:\n",
    "        sum=0\n",
    "        for i in vyborka:\n",
    "            sum+=ind(j-i)/n\n",
    "        sum_array.append(sum)\n",
    "    return sum_array"
   ]
  },
  {
   "cell_type": "code",
   "execution_count": 12,
   "metadata": {},
   "outputs": [],
   "source": [
    "def R_x(x):\n",
    "    femp=F_emp(x)\n",
    "    ret=[]\n",
    "    for i in range(len(femp)):\n",
    "        if (femp[i]+eps<1):\n",
    "            ret.append(femp[i]+eps)\n",
    "        else:\n",
    "            ret.append(1)\n",
    "    return ret\n",
    "\n",
    "def L_x(x):\n",
    "    femp=F_emp(x)\n",
    "    ret=[]\n",
    "    for i in range(len(femp)):\n",
    "        if (femp[i]-eps>0):\n",
    "            ret.append(femp[i]-eps)\n",
    "        else:\n",
    "            ret.append(0)\n",
    "    return ret"
   ]
  },
  {
   "cell_type": "code",
   "execution_count": 34,
   "metadata": {
    "scrolled": false
   },
   "outputs": [
    {
     "data": {
      "text/plain": [
       "[<matplotlib.lines.Line2D at 0x7f8fdf4f28e0>]"
      ]
     },
     "execution_count": 34,
     "metadata": {},
     "output_type": "execute_result"
    },
    {
     "data": {
      "image/png": "[encoded data removed]",
      "text/plain": [
       "<Figure size 792x504 with 1 Axes>"
      ]
     },
     "metadata": {
      "needs_background": "light"
     },
     "output_type": "display_data"
    }
   ],
   "source": [
    "f_x=lambda x:1-math.e**(-x**k)\n",
    "x=np.linspace(0,2.2,100)\n",
    "plt.figure(figsize=(11,7))\n",
    "F_emp(x2)\n",
    "plt.plot(x,F_emp(x),'b',linewidth = 2)\n",
    "plt.plot(x,f_x(x),'k',linewidth = 2)\n",
    "plt.plot(x,R_x(x),'r',linewidth = 2)\n",
    "plt.plot(x,L_x(x),'y',linewidth = 2)"
   ]
  }
 ],
 "metadata": {
  "kernelspec": {
   "display_name": "Python 3",
   "language": "python",
   "name": "python3"
  },
  "language_info": {
   "codemirror_mode": {
    "name": "ipython",
    "version": 3
   },
   "file_extension": ".py",
   "mimetype": "text/x-python",
   "name": "python",
   "nbconvert_exporter": "python",
   "pygments_lexer": "ipython3",
   "version": "3.8.10"
  }
 },
 "nbformat": 4,
 "nbformat_minor": 4
}
