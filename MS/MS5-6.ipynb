{
 "cells": [
  {
   "cell_type": "code",
   "execution_count": 1,
   "metadata": {},
   "outputs": [],
   "source": [
    "import pandas as pd\n",
    "import math\n",
    "import numpy as np\n",
    "import matplotlib.pyplot as plt\n",
    "import scipy.stats as sc\n",
    "import sympy as sp\n",
    "from IPython.display import *"
   ]
  },
  {
   "cell_type": "code",
   "execution_count": 2,
   "metadata": {},
   "outputs": [],
   "source": [
    "strx=''' \n",
    "-7.370   0.597   4.594   2.377   7.227   0.329   5.853   1.902  -1.129  -0.078  12.213  -0.565\n",
    "-4.965   4.094   4.754   0.214   3.342  -2.046   6.699   3.984   8.074  10.108   4.165   3.448\n",
    " 7.834   6.653  13.887   4.848   1.490   7.481   2.629   5.501  -4.981   1.598   4.622   7.443\n",
    " 3.660   6.223   3.410   6.231   4.728   6.124   4.475  -0.010   3.102   3.959   6.314   0.255\n",
    " 3.725   5.738  -0.074  -0.171   5.665   3.115  10.582   0.016   7.211   0.570   7.147   0.052\n",
    " 6.090   1.639   5.554   5.978  -0.492   7.399   3.958   3.112   9.862   4.261   3.538   7.587\n",
    " 3.392  11.640   6.171   0.633   7.471   3.808  -3.300   4.477   4.091   7.526   5.302   7.512\n",
    "-0.739   2.008   1.710  -0.193   7.399   4.740   1.336  -7.093   6.997   0.824   4.295  -0.665\n",
    " 6.322   4.204   3.211   5.700   3.210   4.527   5.015   3.838   5.695   0.551   0.390   3.405\n",
    "-0.994  -1.062   9.302   8.430   1.033   2.965   5.009   3.350   4.717   7.712   4.977   4.413 '''"
   ]
  },
  {
   "cell_type": "code",
   "execution_count": 3,
   "metadata": {},
   "outputs": [],
   "source": [
    "n = 120\n",
    "alfa = 0.1\n",
    "a_0 = 3.5\n",
    "a_1 = 4\n",
    "sigma_0 = 4.1\n",
    "sigma_1 = 3.7\n",
    "eps = 0.05\n",
    "x_i = [float(i) for i in strx.split()]\n",
    "x_j = []\n",
    "for i in range(10):\n",
    "    for j in range(len(x_i)):\n",
    "        if j%10 == i :\n",
    "            x_j.append(x_i[j])"
   ]
  },
  {
   "cell_type": "markdown",
   "metadata": {},
   "source": [
    "## Задача №5 Проверка гипотез  о параметрах нормального распределения"
   ]
  },
  {
   "cell_type": "markdown",
   "metadata": {},
   "source": [
    "### Исходные данные:\n",
    "$\\alpha = 0.1 $\n",
    "\n",
    "$a_0 = 3.5 $\n",
    "\n",
    "$a_1 = 4 $\n",
    "\n",
    "$\\sigma_0 = 4.1 $\n",
    "\n",
    "$\\sigma_1 = 3.7 $\n",
    "\n",
    "$\\varepsilon = 3.5 $\n",
    "\n",
    "n = 120\n"
   ]
  },
  {
   "cell_type": "code",
   "execution_count": 4,
   "metadata": {},
   "outputs": [
    {
     "name": "stdout",
     "output_type": "stream",
     "text": [
      "Выборка:\n"
     ]
    },
    {
     "data": {
      "text/html": [
       "<div>\n",
       "<style scoped>\n",
       "    .dataframe tbody tr th:only-of-type {\n",
       "        vertical-align: middle;\n",
       "    }\n",
       "\n",
       "    .dataframe tbody tr th {\n",
       "        vertical-align: top;\n",
       "    }\n",
       "\n",
       "    .dataframe thead th {\n",
       "        text-align: right;\n",
       "    }\n",
       "</style>\n",
       "<table border=\"1\" class=\"dataframe\">\n",
       "  <thead>\n",
       "    <tr style=\"text-align: right;\">\n",
       "      <th></th>\n",
       "      <th></th>\n",
       "      <th></th>\n",
       "      <th></th>\n",
       "      <th></th>\n",
       "      <th></th>\n",
       "      <th></th>\n",
       "      <th></th>\n",
       "      <th></th>\n",
       "      <th></th>\n",
       "      <th></th>\n",
       "    </tr>\n",
       "  </thead>\n",
       "  <tbody>\n",
       "    <tr>\n",
       "      <th></th>\n",
       "      <td>-7.370</td>\n",
       "      <td>0.597</td>\n",
       "      <td>4.594</td>\n",
       "      <td>2.377</td>\n",
       "      <td>7.227</td>\n",
       "      <td>0.329</td>\n",
       "      <td>5.853</td>\n",
       "      <td>1.902</td>\n",
       "      <td>-1.129</td>\n",
       "      <td>-0.078</td>\n",
       "    </tr>\n",
       "    <tr>\n",
       "      <th></th>\n",
       "      <td>12.213</td>\n",
       "      <td>-0.565</td>\n",
       "      <td>-4.965</td>\n",
       "      <td>4.094</td>\n",
       "      <td>4.754</td>\n",
       "      <td>0.214</td>\n",
       "      <td>3.342</td>\n",
       "      <td>-2.046</td>\n",
       "      <td>6.699</td>\n",
       "      <td>3.984</td>\n",
       "    </tr>\n",
       "    <tr>\n",
       "      <th></th>\n",
       "      <td>8.074</td>\n",
       "      <td>10.108</td>\n",
       "      <td>4.165</td>\n",
       "      <td>3.448</td>\n",
       "      <td>7.834</td>\n",
       "      <td>6.653</td>\n",
       "      <td>13.887</td>\n",
       "      <td>4.848</td>\n",
       "      <td>1.490</td>\n",
       "      <td>7.481</td>\n",
       "    </tr>\n",
       "    <tr>\n",
       "      <th></th>\n",
       "      <td>2.629</td>\n",
       "      <td>5.501</td>\n",
       "      <td>-4.981</td>\n",
       "      <td>1.598</td>\n",
       "      <td>4.622</td>\n",
       "      <td>7.443</td>\n",
       "      <td>3.660</td>\n",
       "      <td>6.223</td>\n",
       "      <td>3.410</td>\n",
       "      <td>6.231</td>\n",
       "    </tr>\n",
       "    <tr>\n",
       "      <th></th>\n",
       "      <td>4.728</td>\n",
       "      <td>6.124</td>\n",
       "      <td>4.475</td>\n",
       "      <td>-0.010</td>\n",
       "      <td>3.102</td>\n",
       "      <td>3.959</td>\n",
       "      <td>6.314</td>\n",
       "      <td>0.255</td>\n",
       "      <td>3.725</td>\n",
       "      <td>5.738</td>\n",
       "    </tr>\n",
       "    <tr>\n",
       "      <th></th>\n",
       "      <td>-0.074</td>\n",
       "      <td>-0.171</td>\n",
       "      <td>5.665</td>\n",
       "      <td>3.115</td>\n",
       "      <td>10.582</td>\n",
       "      <td>0.016</td>\n",
       "      <td>7.211</td>\n",
       "      <td>0.570</td>\n",
       "      <td>7.147</td>\n",
       "      <td>0.052</td>\n",
       "    </tr>\n",
       "    <tr>\n",
       "      <th></th>\n",
       "      <td>6.090</td>\n",
       "      <td>1.639</td>\n",
       "      <td>5.554</td>\n",
       "      <td>5.978</td>\n",
       "      <td>-0.492</td>\n",
       "      <td>7.399</td>\n",
       "      <td>3.958</td>\n",
       "      <td>3.112</td>\n",
       "      <td>9.862</td>\n",
       "      <td>4.261</td>\n",
       "    </tr>\n",
       "    <tr>\n",
       "      <th></th>\n",
       "      <td>3.538</td>\n",
       "      <td>7.587</td>\n",
       "      <td>3.392</td>\n",
       "      <td>11.640</td>\n",
       "      <td>6.171</td>\n",
       "      <td>0.633</td>\n",
       "      <td>7.471</td>\n",
       "      <td>3.808</td>\n",
       "      <td>-3.300</td>\n",
       "      <td>4.477</td>\n",
       "    </tr>\n",
       "    <tr>\n",
       "      <th></th>\n",
       "      <td>4.091</td>\n",
       "      <td>7.526</td>\n",
       "      <td>5.302</td>\n",
       "      <td>7.512</td>\n",
       "      <td>-0.739</td>\n",
       "      <td>2.008</td>\n",
       "      <td>1.710</td>\n",
       "      <td>-0.193</td>\n",
       "      <td>7.399</td>\n",
       "      <td>4.740</td>\n",
       "    </tr>\n",
       "    <tr>\n",
       "      <th></th>\n",
       "      <td>1.336</td>\n",
       "      <td>-7.093</td>\n",
       "      <td>6.997</td>\n",
       "      <td>0.824</td>\n",
       "      <td>4.295</td>\n",
       "      <td>-0.665</td>\n",
       "      <td>6.322</td>\n",
       "      <td>4.204</td>\n",
       "      <td>3.211</td>\n",
       "      <td>5.700</td>\n",
       "    </tr>\n",
       "    <tr>\n",
       "      <th></th>\n",
       "      <td>3.210</td>\n",
       "      <td>4.527</td>\n",
       "      <td>5.015</td>\n",
       "      <td>3.838</td>\n",
       "      <td>5.695</td>\n",
       "      <td>0.551</td>\n",
       "      <td>0.390</td>\n",
       "      <td>3.405</td>\n",
       "      <td>-0.994</td>\n",
       "      <td>-1.062</td>\n",
       "    </tr>\n",
       "    <tr>\n",
       "      <th></th>\n",
       "      <td>9.302</td>\n",
       "      <td>8.430</td>\n",
       "      <td>1.033</td>\n",
       "      <td>2.965</td>\n",
       "      <td>5.009</td>\n",
       "      <td>3.350</td>\n",
       "      <td>4.717</td>\n",
       "      <td>7.712</td>\n",
       "      <td>4.977</td>\n",
       "      <td>4.413</td>\n",
       "    </tr>\n",
       "  </tbody>\n",
       "</table>\n",
       "</div>"
      ],
      "text/plain": [
       "                                                                            \n",
       "   -7.370   0.597  4.594   2.377   7.227  0.329   5.853  1.902 -1.129 -0.078\n",
       "   12.213  -0.565 -4.965   4.094   4.754  0.214   3.342 -2.046  6.699  3.984\n",
       "    8.074  10.108  4.165   3.448   7.834  6.653  13.887  4.848  1.490  7.481\n",
       "    2.629   5.501 -4.981   1.598   4.622  7.443   3.660  6.223  3.410  6.231\n",
       "    4.728   6.124  4.475  -0.010   3.102  3.959   6.314  0.255  3.725  5.738\n",
       "   -0.074  -0.171  5.665   3.115  10.582  0.016   7.211  0.570  7.147  0.052\n",
       "    6.090   1.639  5.554   5.978  -0.492  7.399   3.958  3.112  9.862  4.261\n",
       "    3.538   7.587  3.392  11.640   6.171  0.633   7.471  3.808 -3.300  4.477\n",
       "    4.091   7.526  5.302   7.512  -0.739  2.008   1.710 -0.193  7.399  4.740\n",
       "    1.336  -7.093  6.997   0.824   4.295 -0.665   6.322  4.204  3.211  5.700\n",
       "    3.210   4.527  5.015   3.838   5.695  0.551   0.390  3.405 -0.994 -1.062\n",
       "    9.302   8.430  1.033   2.965   5.009  3.350   4.717  7.712  4.977  4.413"
      ]
     },
     "metadata": {},
     "output_type": "display_data"
    }
   ],
   "source": [
    "print('Выборка:')\n",
    "display(pd.DataFrame((np.reshape(x_i,(12,10))),[\" \" for i in range(12)],[\" \" for i in range(10)]))"
   ]
  },
  {
   "cell_type": "code",
   "execution_count": 5,
   "metadata": {},
   "outputs": [
    {
     "name": "stdout",
     "output_type": "stream",
     "text": [
      "Выборочное среднее: 3.771841666666667\n",
      "Выборочная дисперсия: 13.289793983263886\n",
      "Выборочная дисперсия (n-1): 13.401472924299725\n"
     ]
    }
   ],
   "source": [
    "xm =np.average(np.array(x_i))\n",
    "print('Выборочное среднее:',xm )\n",
    "\n",
    "s=np.average(np.array(x_i) * np.array(x_i)) - np.average(np.array(x_i))**2\n",
    "print('Выборочная дисперсия:',s)\n",
    "\n",
    "ss = 0\n",
    "for i in x_i: ss += (i - xm)**2\n",
    "ss = ss/(n-1)\n",
    "print('Выборочная дисперсия (n-1):',ss)"
   ]
  },
  {
   "cell_type": "markdown",
   "metadata": {},
   "source": [
    "### Постройте критерий $S_{2}$ уровня $\\alpha$ и проверьте гипотезу $H_{0}$: a = $a_{0}$  против  односторонней альтернативы $H_{2}$: a > $a_{0}$ , если $\\sigma$ неизвестно"
   ]
  },
  {
   "cell_type": "markdown",
   "metadata": {},
   "source": [
    "$ S_{2} $ = $ \\{  \\frac{\\overline{X} - a}{S}  \\sqrt{n}  \\geq t_{1-\\alpha}(n-1) \\} $ "
   ]
  },
  {
   "cell_type": "markdown",
   "metadata": {},
   "source": [
    "$ S_{2} $ = $ \\{ \\overline{X} \\geq \\frac{t_{1-\\alpha}(n-1)*S}{\\sqrt{n}} + a_0 \\} $ "
   ]
  },
  {
   "cell_type": "code",
   "execution_count": 7,
   "metadata": {},
   "outputs": [
    {
     "data": {
      "text/latex": [
       "$\\displaystyle t_{0.9}(119) = 1.2887061912187294$"
      ],
      "text/plain": [
       "<IPython.core.display.Math object>"
      ]
     },
     "metadata": {},
     "output_type": "display_data"
    },
    {
     "data": {
      "text/latex": [
       "$\\displaystyle  \\frac{t_{1-\\alpha}(n-1)*S}{\\sqrt{n}} + a_0 = 3.9288667890238766 $"
      ],
      "text/plain": [
       "<IPython.core.display.Math object>"
      ]
     },
     "metadata": {},
     "output_type": "display_data"
    }
   ],
   "source": [
    "t_alfa = sc.t.ppf(1-alfa,n-1)\n",
    "display(Math(r't_{{0.9}}(119) = {0}'.format(t_alfa)))\n",
    "display(Math(r' \\frac{{t_{{1-\\alpha}}(n-1)*S}}{{\\sqrt{{n}}}} + a_0 = {0} '.format(((t_alfa * s**(1/2))/n**(1/2)) + a_0)))"
   ]
  },
  {
   "cell_type": "markdown",
   "metadata": {},
   "source": [
    "$ S_{2} = \\{ \\overline{X} \\geq 3.92886 \\} ;$ \n",
    "$ \\overline{X} = 3.77184 \\notin S_2 ;$\n",
    "Гипотеза $H_{0}$ принимается"
   ]
  },
  {
   "cell_type": "markdown",
   "metadata": {},
   "source": [
    "### Постройте критерий $S_{3}$ уровня $\\alpha$ и проверьте гипотезу $H_{01}$: $\\sigma = \\sigma_{0}$  против альтернативы $H_{3}: \\sigma < \\sigma_{0}$ , если a неизвестно"
   ]
  },
  {
   "cell_type": "markdown",
   "metadata": {},
   "source": [
    "$ S_3 = \\{ \\frac{S^2(n-1)*n}{\\sigma^2_0} \\leq \\chi^2_\\alpha (n-1) \\} $"
   ]
  },
  {
   "cell_type": "markdown",
   "metadata": {},
   "source": [
    "$ S_3 = \\{S^2(n-1) \\leq \\frac{\\chi^2_\\alpha(n-1) * \\sigma^2_0}{n} \\} $"
   ]
  },
  {
   "cell_type": "code",
   "execution_count": 69,
   "metadata": {},
   "outputs": [
    {
     "data": {
      "text/latex": [
       "$\\displaystyle \\chi^2_{0.1}(119) = 99.7067333606213$"
      ],
      "text/plain": [
       "<IPython.core.display.Math object>"
      ]
     },
     "metadata": {},
     "output_type": "display_data"
    },
    {
     "data": {
      "text/latex": [
       "$\\displaystyle   \\frac{\\chi^2_\\alpha(n-1) * \\sigma^2_0}{n} = 13.967251564933699$"
      ],
      "text/plain": [
       "<IPython.core.display.Math object>"
      ]
     },
     "metadata": {},
     "output_type": "display_data"
    }
   ],
   "source": [
    "display(Math(r'\\chi^2_{{0.1}}(119) = {0}'.format(sc.chi2.ppf(alfa,n-1))))\n",
    "display(Math(r'  \\frac{{\\chi^2_\\alpha(n-1) * \\sigma^2_0}}{{n}} = {0}'.format((sc.chi2.ppf(alfa,n-1) * sigma_0**2)/n)))"
   ]
  },
  {
   "cell_type": "markdown",
   "metadata": {},
   "source": [
    "$ S_3 = \\{ S^2(n-1) \\leq 13.96725 \\} ;$ \n",
    "$ S^2(n-1) = 13.40147 \\in S_3 ;$\n",
    "Гипотеза $H_{01}$ отклоняется "
   ]
  },
  {
   "cell_type": "markdown",
   "metadata": {},
   "source": [
    "### Постройте оптимальный критерий $S_1$ уровня  $\\alpha$ и проверьте $H_0$  против простой альтернативы $H_1: a=a_1$, если  известно $ \\sigma = \\sigma_{1}$;"
   ]
  },
  {
   "cell_type": "markdown",
   "metadata": {},
   "source": [
    "$ \\alpha = P(\\overline{X} \\in S_1 | H_0) = P(\\overline{X} \\geq C | a = a_0) = P( \\frac{\\overline{X} - a_0}{\\sigma}\\sqrt{n}  \\geq \\frac{C - a_0}{\\sigma}\\sqrt{n} ) = 1-Ф( \\frac{C - a_0}{\\sigma}\\sqrt{n} )$"
   ]
  },
  {
   "cell_type": "markdown",
   "metadata": {},
   "source": [
    "$ \\frac{C - a_0}{\\sigma} \\sqrt{n} = u_{0.9} \\implies C = \\frac{u_{0.9} \\sigma}{\\sqrt{n}} + a_0 $"
   ]
  },
  {
   "cell_type": "code",
   "execution_count": 70,
   "metadata": {},
   "outputs": [
    {
     "data": {
      "text/latex": [
       "$\\displaystyle  C=3.93285973231715$"
      ],
      "text/plain": [
       "<IPython.core.display.Math object>"
      ]
     },
     "metadata": {},
     "output_type": "display_data"
    }
   ],
   "source": [
    "C = ((sc.norm.ppf(1 - alfa)*sigma_1)/n**(1/2)) + a_0\n",
    "display(Math(r' C={0}'.format(C)))"
   ]
  },
  {
   "cell_type": "markdown",
   "metadata": {},
   "source": [
    "$ S_{1} = \\{ \\overline{X} \\geq 3.9328597 \\} ;$ \n",
    "$ \\overline{X} = 3.77184 \\notin S_1 ;$\n",
    "Гипотеза $H_{0}$ принимается"
   ]
  },
  {
   "cell_type": "markdown",
   "metadata": {},
   "source": [
    "###  Найдите ошибку второго рода $ \\beta = P( \\overline{S}_1 | H_1 ) $ критерия $ S_1 $ ;"
   ]
  },
  {
   "cell_type": "markdown",
   "metadata": {},
   "source": [
    "$ \\beta = P(\\overline{X} \\notin S_1 | H_1) = P(\\overline{X} < C | a = a_1) = P( \\frac{\\overline{X} - a_1}{\\sigma}\\sqrt{n}  < \\frac{C - a_1}{\\sigma}\\sqrt{n} ) = Ф( \\frac{C - a_1}{\\sigma}\\sqrt{n} )$"
   ]
  },
  {
   "cell_type": "code",
   "execution_count": 71,
   "metadata": {},
   "outputs": [
    {
     "data": {
      "text/latex": [
       "$\\displaystyle  \\beta=0.4212175494383277$"
      ],
      "text/plain": [
       "<IPython.core.display.Math object>"
      ]
     },
     "metadata": {},
     "output_type": "display_data"
    }
   ],
   "source": [
    "beta = sc.norm.cdf(((C - a_1)/sigma_1)*n**(1/2))\n",
    "display(Math(r' \\beta={0}'.format(beta)))"
   ]
  },
  {
   "cell_type": "markdown",
   "metadata": {},
   "source": [
    "### Найдите такие значения $a_1$ для которых ошибка второго рода  критерия  $S_1$ не превосходит $\\varepsilon = 0.05$ ;"
   ]
  },
  {
   "cell_type": "markdown",
   "metadata": {},
   "source": [
    "$ \\varepsilon \\geq Ф( \\frac{C - a_1}{\\sigma}\\sqrt{n} ) \\implies a_1 \\geq C - \\frac{u_{\\varepsilon} \\sigma}{\\sqrt{n}}$"
   ]
  },
  {
   "cell_type": "markdown",
   "metadata": {},
   "source": [
    "$ a_1 \\geq C - \\frac{u_{0.05} \\sigma}{\\sqrt{n}} $"
   ]
  },
  {
   "cell_type": "code",
   "execution_count": 72,
   "metadata": {},
   "outputs": [
    {
     "data": {
      "text/latex": [
       "$\\displaystyle a_1 \\geq 4.488429184070381$"
      ],
      "text/plain": [
       "<IPython.core.display.Math object>"
      ]
     },
     "metadata": {},
     "output_type": "display_data"
    }
   ],
   "source": [
    "a = C - ((sc.norm.ppf(eps)*sigma_1)/n**(1/2))\n",
    "display(Math(r'a_1 \\geq {0}'.format(a)))"
   ]
  },
  {
   "cell_type": "markdown",
   "metadata": {},
   "source": [
    "### Постройте совмещенные графики гистограммы относительных частот данной выборки и плотностей нормального распределения с параметрами $(a_0,\\sigma_1)$ и $(a_0,\\sigma_1)$"
   ]
  },
  {
   "cell_type": "code",
   "execution_count": 73,
   "metadata": {
    "scrolled": false
   },
   "outputs": [
    {
     "data": {
      "text/plain": [
       "<matplotlib.legend.Legend at 0x7fda009f5370>"
      ]
     },
     "execution_count": 73,
     "metadata": {},
     "output_type": "execute_result"
    },
    {
     "data": {
      "image/png": "[encoded data removed]",
      "text/plain": [
       "<Figure size 648x360 with 1 Axes>"
      ]
     },
     "metadata": {
      "needs_background": "light"
     },
     "output_type": "display_data"
    }
   ],
   "source": [
    "xlin = np.linspace(-10,15,100)\n",
    "plt.figure(figsize=(9,5))\n",
    "plt.hist(x_i,7,density = True)\n",
    "plt.plot(xlin,sc.norm.pdf(xlin,loc = a_0, scale = sigma_1),color = \"black\",label = '$ N(a_0,\\sigma_1)$')\n",
    "plt.plot(xlin,sc.norm.pdf(xlin,loc = a, scale = sigma_1),color = \"y\",label = '$ N(a_1,\\sigma_1)$')\n",
    "plt.legend()"
   ]
  },
  {
   "cell_type": "markdown",
   "metadata": {},
   "source": [
    "## Задача №6 Последовательный критерий отношения правдоподобия"
   ]
  },
  {
   "cell_type": "markdown",
   "metadata": {},
   "source": [
    "### Постройте последовательный критерий Вальда для проверки гипотезы $ H_0: a = a_0 $ против альтернативы $ H_1: a = a_1 $ при известном $ \\sigma = \\sigma_1 $ ."
   ]
  },
  {
   "cell_type": "code",
   "execution_count": 74,
   "metadata": {},
   "outputs": [
    {
     "name": "stdout",
     "output_type": "stream",
     "text": [
      "A = 5.787824505616723\n",
      "B = 0.46801949937591963\n"
     ]
    }
   ],
   "source": [
    "A = (1-beta)/alfa\n",
    "B = beta/(1-alfa)\n",
    "\n",
    "print(\"A =\", A)\n",
    "print(\"B =\", B)"
   ]
  },
  {
   "cell_type": "markdown",
   "metadata": {},
   "source": [
    "### Примените построенный критерий к заданной выборке (порядок чтения - по столбцам), сформулируйте результат. Дайте графическую иллюстрацию последовательного критерия."
   ]
  },
  {
   "cell_type": "markdown",
   "metadata": {},
   "source": [
    "$ z(\\overline{X}_n) = \\frac{L(\\overline{X}_n,a_1)}{L(\\overline{X}_n,a_0)} = exp[ \\frac{\\Sigma(X_k - a_0)^2 - \\Sigma(X_k - a_1)^2}{2\\sigma^2} ]$"
   ]
  },
  {
   "cell_type": "code",
   "execution_count": 148,
   "metadata": {},
   "outputs": [],
   "source": [
    "def SUM (x,a,n):\n",
    "    sum = 0\n",
    "    for i in range(n+1):\n",
    "        sum += (x[i] - a)**2\n",
    "    return sum\n",
    "\n",
    "\n",
    "xx = []\n",
    "\n",
    "for i in range(len(x_j)):\n",
    "    xx.append(math.exp((SUM(x_j,a_0,i) - SUM(x_j,a_1,i))/(2*sigma_1**2)))"
   ]
  },
  {
   "cell_type": "code",
   "execution_count": 147,
   "metadata": {},
   "outputs": [
    {
     "data": {
      "text/plain": [
       "<matplotlib.legend.Legend at 0x7fd9ffaebb50>"
      ]
     },
     "execution_count": 147,
     "metadata": {},
     "output_type": "execute_result"
    },
    {
     "data": {
      "image/png": "[encoded data removed]",
      "text/plain": [
       "<Figure size 648x360 with 1 Axes>"
      ]
     },
     "metadata": {
      "needs_background": "light"
     },
     "output_type": "display_data"
    }
   ],
   "source": [
    "plt.figure(figsize=(9,5))\n",
    "plt.plot(range(len(xx)),xx,label = '$ z(\\overline{X}_n) $')\n",
    "plt.plot(range(len(xx)),[A for i in xx],label = 'A')\n",
    "plt.plot(range(len(xx)),[B for i in xx],label = 'B')\n",
    "plt.legend()"
   ]
  },
  {
   "cell_type": "markdown",
   "metadata": {},
   "source": [
    "### Вычислите математическое ожидание момента принятия решения при основной гипотезе $ H_0 $ и при альтернативе  $H_1$."
   ]
  },
  {
   "cell_type": "markdown",
   "metadata": {},
   "source": [
    "$ Z_n = ln \\frac{L(\\overline{X}_n,a_1)}{L(\\overline{X}_n,a_0)} = \\frac{\\Sigma(X_k - a_0)^2 - \\Sigma(X_k - a_1)^2}{2\\sigma^2} $"
   ]
  },
  {
   "cell_type": "markdown",
   "metadata": {},
   "source": [
    "$ Y_n = ln \\frac{p(X_n,\\Theta_1)}{p(X_n,\\Theta_0)} = \\frac{(X_k - a_0)^2 - (X_k - a_1)^2}{2\\sigma^2} $"
   ]
  },
  {
   "cell_type": "markdown",
   "metadata": {},
   "source": [
    "$ M_{a_0}Y_n = M_{a_1}\\frac{\\Sigma(X_k - a_0)^2 - \\Sigma(X_k - a_1)^2}{2\\sigma^2} = - \\frac{(a_0-a_1)^2}{2\\sigma^2}$"
   ]
  },
  {
   "cell_type": "markdown",
   "metadata": {},
   "source": [
    "$ M_{a_1}Y_n = M_{a_1}\\frac{\\Sigma(X_k - a_0)^2 - \\Sigma(X_k - a_1)^2}{2\\sigma^2} = \\frac{(a_0-a_1)^2}{2\\sigma^2}$"
   ]
  },
  {
   "cell_type": "code",
   "execution_count": 87,
   "metadata": {},
   "outputs": [
    {
     "data": {
      "text/latex": [
       "$\\displaystyle M_{a_0}Y_n = -0.009131$"
      ],
      "text/plain": [
       "<IPython.core.display.Math object>"
      ]
     },
     "metadata": {},
     "output_type": "display_data"
    },
    {
     "data": {
      "text/latex": [
       "$\\displaystyle M_{a_1}Y_n = 0.009131$"
      ],
      "text/plain": [
       "<IPython.core.display.Math object>"
      ]
     },
     "metadata": {},
     "output_type": "display_data"
    }
   ],
   "source": [
    "MZn_0 = -(a_0 - a_1)**2/(2*sigma_1**2)\n",
    "MZn_1 = (a_0 - a_1)**2/(2*sigma_1**2)\n",
    "\n",
    "display(Math(r'M_{{a_0}}Y_n = {0}'.format(round(MZn_0,6))))\n",
    "display(Math(r'M_{{a_1}}Y_n = {0}'.format(round(MZn_1,6))))"
   ]
  },
  {
   "cell_type": "code",
   "execution_count": 79,
   "metadata": {},
   "outputs": [
    {
     "data": {
      "text/latex": [
       "$\\displaystyle M_{a_0}Z_\\nu = -0.507745$"
      ],
      "text/plain": [
       "<IPython.core.display.Math object>"
      ]
     },
     "metadata": {},
     "output_type": "display_data"
    },
    {
     "data": {
      "text/latex": [
       "$\\displaystyle M_{a_1}Z_\\nu = 0.696394$"
      ],
      "text/plain": [
       "<IPython.core.display.Math object>"
      ]
     },
     "metadata": {},
     "output_type": "display_data"
    }
   ],
   "source": [
    "MZv_0 = alfa*math.log(A) + (1-alfa)*math.log(B)\n",
    "MZv_1 = (1-beta)*math.log(A) + beta*math.log(B)\n",
    "\n",
    "display(Math(r'M_{{a_0}}Z_\\nu = {0}'.format(round(MZv_0,6))))\n",
    "display(Math(r'M_{{a_1}}Z_\\nu = {0}'.format(round(MZv_1,6))))"
   ]
  },
  {
   "cell_type": "code",
   "execution_count": 88,
   "metadata": {},
   "outputs": [
    {
     "data": {
      "text/latex": [
       "$\\displaystyle M_{a_0}\\nu = 55.608248$"
      ],
      "text/plain": [
       "<IPython.core.display.Math object>"
      ]
     },
     "metadata": {},
     "output_type": "display_data"
    },
    {
     "data": {
      "text/latex": [
       "$\\displaystyle M_{a_1}\\nu = 76.269026$"
      ],
      "text/plain": [
       "<IPython.core.display.Math object>"
      ]
     },
     "metadata": {},
     "output_type": "display_data"
    }
   ],
   "source": [
    "Mv_0 = MZv_0/MZn_0\n",
    "Mv_1 = MZv_1/MZn_1\n",
    "\n",
    "display(Math(r'M_{{a_0}}\\nu = {0}'.format(round(Mv_0,6))))\n",
    "display(Math(r'M_{{a_1}}\\nu = {0}'.format(round(Mv_1,6))))"
   ]
  },
  {
   "cell_type": "markdown",
   "metadata": {},
   "source": [
    "### Перепишите критическое множество из пункта 3 в виде $( \\frac{L(\\overline{X}_n,a_1)}{L(\\overline{X}_n,a_0)} \\geq C) $  , отметьте на графике и сравните результаты применения критериев Вальда и Неймана-Пирсона."
   ]
  },
  {
   "cell_type": "markdown",
   "metadata": {},
   "source": [
    "$ S = (\\frac{L(\\overline{X}_n,a_1)}{L(\\overline{X}_n,a_0)} = exp[ \\frac{\\Sigma(X_k - a_0)^2 - \\Sigma(X_k - a_1)^2}{2\\sigma^2}] \\geq C = 3.9328597)$"
   ]
  },
  {
   "cell_type": "code",
   "execution_count": 114,
   "metadata": {},
   "outputs": [
    {
     "data": {
      "text/plain": [
       "<matplotlib.legend.Legend at 0x7fda00939700>"
      ]
     },
     "execution_count": 114,
     "metadata": {},
     "output_type": "execute_result"
    },
    {
     "data": {
      "image/png": "[encoded data removed]",
      "text/plain": [
       "<Figure size 648x360 with 1 Axes>"
      ]
     },
     "metadata": {
      "needs_background": "light"
     },
     "output_type": "display_data"
    }
   ],
   "source": [
    "plt.figure(figsize=(9,5))\n",
    "plt.plot(range(len(xx)),xx,label = '$ z(\\overline{X}_n) $')\n",
    "plt.plot(range(len(xx)),[A for i in xx],label = 'A')\n",
    "plt.plot(range(len(xx)),[B for i in xx],label = 'B')\n",
    "plt.plot(range(len(xx)),[C for i in xx],label = 'C')\n",
    "plt.legend()"
   ]
  }
 ],
 "metadata": {
  "kernelspec": {
   "display_name": "Python 3",
   "language": "python",
   "name": "python3"
  },
  "language_info": {
   "codemirror_mode": {
    "name": "ipython",
    "version": 3
   },
   "file_extension": ".py",
   "mimetype": "text/x-python",
   "name": "python",
   "nbconvert_exporter": "python",
   "pygments_lexer": "ipython3",
   "version": "3.7.5"
  }
 },
 "nbformat": 4,
 "nbformat_minor": 4
}
