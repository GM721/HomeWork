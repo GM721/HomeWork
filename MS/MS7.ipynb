{
 "cells": [
  {
   "cell_type": "code",
   "execution_count": 17,
   "metadata": {},
   "outputs": [],
   "source": [
    "import pandas as pd\n",
    "import math\n",
    "import numpy as np\n",
    "import matplotlib.pyplot as plt\n",
    "import scipy.stats as sc\n",
    "import sympy as sp\n",
    "from IPython.display import *"
   ]
  },
  {
   "cell_type": "markdown",
   "metadata": {},
   "source": [
    "### Исходные данные:"
   ]
  },
  {
   "cell_type": "markdown",
   "metadata": {},
   "source": [
    "Основная гипотеза:Выборка получена из закона распределения, совпадающего с распределением η = 1 - √ξ, ξ~R[0;1]"
   ]
  },
  {
   "cell_type": "markdown",
   "metadata": {},
   "source": [
    "n = 1000"
   ]
  },
  {
   "cell_type": "markdown",
   "metadata": {},
   "source": [
    "$ D(n, l) = ∑_j \\frac{(v_j - np_j)^2}{np_j(n - np_j)}$\n"
   ]
  },
  {
   "cell_type": "markdown",
   "metadata": {},
   "source": [
    "### Задание:"
   ]
  },
  {
   "cell_type": "markdown",
   "metadata": {},
   "source": [
    "Постройте с помощью стохастического эксперимента на основе указанной метрики приближенный критерий для проверки основной гипотезы. Найдите критические значения $D_{кр}$ для трех уровней значимости $ \\alpha = 0.1 , 0.05 $ и 0.01.\n",
    "Протестируйте критерий на двух-трех примерах и сформулируйте выводы. "
   ]
  },
  {
   "cell_type": "markdown",
   "metadata": {},
   "source": [
    "#### Смоделируем выборку, подчиняющуюся закону η = 1 - √ξ, ξ~R[0; 1] размером n = 1000, m = 1000 раз"
   ]
  },
  {
   "cell_type": "code",
   "execution_count": 18,
   "metadata": {},
   "outputs": [],
   "source": [
    "m = 1000\n",
    "n = 1000\n",
    "\n",
    "rand = np.random.default_rng()\n",
    "data = 1 - np.sqrt(rand.random((m , n)))"
   ]
  },
  {
   "cell_type": "markdown",
   "metadata": {},
   "source": [
    "#### Определим теоретические вероятности попадания случайной величины, распределённой как η, в интервалы."
   ]
  },
  {
   "cell_type": "markdown",
   "metadata": {},
   "source": [
    "Для этого необходимо найти функцию распределения η. Значения η определяются значениями ξ. Заметим, что:\n",
    "$ F_η(x) = P(η ∈ [0; x]) = P(1 - √ξ ∈ [0; x]) = P(ξ ∈ [(1 - x)^2; 0 ]) = 1 - F_ξ((1-x)^2) $"
   ]
  },
  {
   "cell_type": "markdown",
   "metadata": {},
   "source": [
    "#### Определим функцию, которая подсчитает частоту попадания элементов выборки в заданный интервал и функцию, что возвращает теоретическую вероятность попадания в интервал:"
   ]
  },
  {
   "cell_type": "code",
   "execution_count": 19,
   "metadata": {},
   "outputs": [],
   "source": [
    "p = lambda j: (2 - 2*j)*0.1\n",
    "\n",
    "def D (v,n):\n",
    "    sum = 0\n",
    "    for j in range(math.trunc(1+math.log(n,2))):\n",
    "        i = j*0.1 + 0.05\n",
    "        sum += ((v[j] - n*p(i))**2)/(n*p(i)*(n-n*p(i)))\n",
    "    return sum"
   ]
  },
  {
   "cell_type": "code",
   "execution_count": 20,
   "metadata": {},
   "outputs": [
    {
     "data": {
      "image/png": "[encoded data removed]",
      "text/plain": [
       "<Figure size 432x288 with 1 Axes>"
      ]
     },
     "metadata": {
      "needs_background": "light"
     },
     "output_type": "display_data"
    }
   ],
   "source": [
    "v = []\n",
    "trunc = math.trunc(1+math.log(n,2))\n",
    "\n",
    "for i in range(m): \n",
    "    (vp, bins_1, patches_1) = plt.hist(data[i],trunc,range = (0,1))\n",
    "    v.append(vp)"
   ]
  },
  {
   "cell_type": "markdown",
   "metadata": {},
   "source": [
    "#### Теперь, умея считать теоретические вероятности и частоты, вычислим метрику"
   ]
  },
  {
   "cell_type": "markdown",
   "metadata": {},
   "source": [
    "$ D(n, l) = ∑_j \\frac{(v_j - np_j)^2}{np_j(n - np_j)}$\n"
   ]
  },
  {
   "cell_type": "markdown",
   "metadata": {},
   "source": [
    "#### Выведем на печать теоретические частоты:"
   ]
  },
  {
   "cell_type": "code",
   "execution_count": 21,
   "metadata": {},
   "outputs": [
    {
     "data": {
      "text/html": [
       "<div>\n",
       "<style scoped>\n",
       "    .dataframe tbody tr th:only-of-type {\n",
       "        vertical-align: middle;\n",
       "    }\n",
       "\n",
       "    .dataframe tbody tr th {\n",
       "        vertical-align: top;\n",
       "    }\n",
       "\n",
       "    .dataframe thead th {\n",
       "        text-align: right;\n",
       "    }\n",
       "</style>\n",
       "<table border=\"1\" class=\"dataframe\">\n",
       "  <thead>\n",
       "    <tr style=\"text-align: right;\">\n",
       "      <th></th>\n",
       "      <th>0</th>\n",
       "      <th>1</th>\n",
       "      <th>2</th>\n",
       "      <th>3</th>\n",
       "      <th>4</th>\n",
       "      <th>5</th>\n",
       "      <th>6</th>\n",
       "      <th>7</th>\n",
       "      <th>8</th>\n",
       "      <th>9</th>\n",
       "    </tr>\n",
       "  </thead>\n",
       "  <tbody>\n",
       "    <tr>\n",
       "      <th>Интервал</th>\n",
       "      <td>(0.0;0.1]</td>\n",
       "      <td>(0.1;0.2]</td>\n",
       "      <td>(0.2;0.3]</td>\n",
       "      <td>(0.3;0.4]</td>\n",
       "      <td>(0.4;0.5]</td>\n",
       "      <td>(0.5;0.6]</td>\n",
       "      <td>(0.6;0.7]</td>\n",
       "      <td>(0.7;0.8]</td>\n",
       "      <td>(0.8;0.9]</td>\n",
       "      <td>(0.9;1.0]</td>\n",
       "    </tr>\n",
       "    <tr>\n",
       "      <th>Вероятность</th>\n",
       "      <td>0.19</td>\n",
       "      <td>0.17</td>\n",
       "      <td>0.15</td>\n",
       "      <td>0.13</td>\n",
       "      <td>0.11</td>\n",
       "      <td>0.09</td>\n",
       "      <td>0.07</td>\n",
       "      <td>0.05</td>\n",
       "      <td>0.03</td>\n",
       "      <td>0.01</td>\n",
       "    </tr>\n",
       "  </tbody>\n",
       "</table>\n",
       "</div>"
      ],
      "text/plain": [
       "                     0          1          2          3          4          5  \\\n",
       "Интервал     (0.0;0.1]  (0.1;0.2]  (0.2;0.3]  (0.3;0.4]  (0.4;0.5]  (0.5;0.6]   \n",
       "Вероятность       0.19       0.17       0.15       0.13       0.11       0.09   \n",
       "\n",
       "                     6          7          8          9  \n",
       "Интервал     (0.6;0.7]  (0.7;0.8]  (0.8;0.9]  (0.9;1.0]  \n",
       "Вероятность       0.07       0.05       0.03       0.01  "
      ]
     },
     "execution_count": 21,
     "metadata": {},
     "output_type": "execute_result"
    }
   ],
   "source": [
    "inter = bins_1\n",
    "prob = p(inter[0:10] + 0.05)\n",
    "intervals = [\"(\"+f'{inter[i-1]:.1f}'+\";\"+f'{inter[i]:.1f}'+\"]\" for i in range(1, len(inter))]\n",
    "probabilities = pd.DataFrame([intervals, prob], index = [\"Интервал\", \"Вероятность\"])\n",
    "probabilities"
   ]
  },
  {
   "cell_type": "markdown",
   "metadata": {},
   "source": [
    "#### Подсчитаем массив метрик и отрисуем в виде гистограммы подсчитанные метрики:"
   ]
  },
  {
   "cell_type": "code",
   "execution_count": 22,
   "metadata": {},
   "outputs": [
    {
     "name": "stdout",
     "output_type": "stream",
     "text": [
      "Минимальная вычисленная метрика:0.0010383470500138184\n",
      "Максимальная вычисленная метрика:0.03274831932758649\n",
      "Размах:0.03170997227757267\n",
      "Количество интервалов по правилу Стёрджеса:10\n"
     ]
    }
   ],
   "source": [
    "d = []\n",
    "for i in range(m): d.append(D(v[i],n))\n",
    "\n",
    "print(\"Минимальная вычисленная метрика:\" + str(min(d)))\n",
    "print(\"Максимальная вычисленная метрика:\" + str(max(d)))\n",
    "print(\"Размах:\" + str(max(d)-min(d)))\n",
    "print(\"Количество интервалов по правилу Стёрджеса:\" + str(10))"
   ]
  },
  {
   "cell_type": "code",
   "execution_count": 23,
   "metadata": {},
   "outputs": [
    {
     "data": {
      "text/plain": [
       "(array([ 60., 224., 338., 168., 119.,  53.,  27.,   6.,   4.,   1.]),\n",
       " array([0.00103835, 0.00420934, 0.00738034, 0.01055134, 0.01372234,\n",
       "        0.01689333, 0.02006433, 0.02323533, 0.02640632, 0.02957732,\n",
       "        0.03274832]),\n",
       " <BarContainer object of 10 artists>)"
      ]
     },
     "execution_count": 23,
     "metadata": {},
     "output_type": "execute_result"
    },
    {
     "data": {
      "image/png": "[encoded data removed]",
      "text/plain": [
       "<Figure size 432x288 with 1 Axes>"
      ]
     },
     "metadata": {
      "needs_background": "light"
     },
     "output_type": "display_data"
    }
   ],
   "source": [
    "plt.hist(d,math.trunc(1+math.log(m,2)))"
   ]
  },
  {
   "cell_type": "markdown",
   "metadata": {},
   "source": [
    "#### Найдём критические значения $ D_{кр} $ для трёх уровней значимости: α = 0.1, 0.05, 0.01"
   ]
  },
  {
   "cell_type": "markdown",
   "metadata": {},
   "source": [
    "Для этого определим эмпирическую функцию распределения $F_{D_{кр}}(x) $ и найдём x, при которых $F_{D_{кр}}(x) $ = [0.9, 0.95, 0.99]"
   ]
  },
  {
   "cell_type": "code",
   "execution_count": 24,
   "metadata": {},
   "outputs": [
    {
     "data": {
      "text/html": [
       "<div>\n",
       "<style scoped>\n",
       "    .dataframe tbody tr th:only-of-type {\n",
       "        vertical-align: middle;\n",
       "    }\n",
       "\n",
       "    .dataframe tbody tr th {\n",
       "        vertical-align: top;\n",
       "    }\n",
       "\n",
       "    .dataframe thead th {\n",
       "        text-align: right;\n",
       "    }\n",
       "</style>\n",
       "<table border=\"1\" class=\"dataframe\">\n",
       "  <thead>\n",
       "    <tr style=\"text-align: right;\">\n",
       "      <th></th>\n",
       "      <th>0</th>\n",
       "      <th>1</th>\n",
       "      <th>2</th>\n",
       "    </tr>\n",
       "  </thead>\n",
       "  <tbody>\n",
       "    <tr>\n",
       "      <th>Верхняя граница</th>\n",
       "      <td>0.0166901</td>\n",
       "      <td>0.0192288</td>\n",
       "      <td>0.0242726</td>\n",
       "    </tr>\n",
       "    <tr>\n",
       "      <th>Уровни значимости</th>\n",
       "      <td>0.90</td>\n",
       "      <td>0.95</td>\n",
       "      <td>0.99</td>\n",
       "    </tr>\n",
       "  </tbody>\n",
       "</table>\n",
       "</div>"
      ],
      "text/plain": [
       "                           0          1          2\n",
       "Верхняя граница    0.0166901  0.0192288  0.0242726\n",
       "Уровни значимости       0.90       0.95       0.99"
      ]
     },
     "execution_count": 24,
     "metadata": {},
     "output_type": "execute_result"
    }
   ],
   "source": [
    "d.sort()\n",
    "x = [d[900], d[950], d[990]]\n",
    "x = np.array(x)\n",
    "alpha = np.array([f'{0.9:.2f}', f'{0.95:.2f}', f'{0.99:.2f}'])\n",
    "df = pd.DataFrame([x, alpha],[\"Верхняя граница\", \"Уровни значимости\"])\n",
    "df"
   ]
  },
  {
   "cell_type": "markdown",
   "metadata": {},
   "source": [
    "#### Теперь применим критерий:"
   ]
  },
  {
   "cell_type": "markdown",
   "metadata": {},
   "source": [
    "Проверим, что будет, если применить построенный выше критерий к различным выборкам:"
   ]
  },
  {
   "cell_type": "markdown",
   "metadata": {},
   "source": [
    "1. Рассмотрим выборку, порождённую равномерным законом"
   ]
  },
  {
   "cell_type": "code",
   "execution_count": 25,
   "metadata": {},
   "outputs": [],
   "source": [
    "rand = np.random.default_rng()\n",
    "data = rand.random(n)"
   ]
  },
  {
   "cell_type": "code",
   "execution_count": 26,
   "metadata": {},
   "outputs": [
    {
     "data": {
      "text/html": [
       "<div>\n",
       "<style scoped>\n",
       "    .dataframe tbody tr th:only-of-type {\n",
       "        vertical-align: middle;\n",
       "    }\n",
       "\n",
       "    .dataframe tbody tr th {\n",
       "        vertical-align: top;\n",
       "    }\n",
       "\n",
       "    .dataframe thead th {\n",
       "        text-align: right;\n",
       "    }\n",
       "</style>\n",
       "<table border=\"1\" class=\"dataframe\">\n",
       "  <thead>\n",
       "    <tr style=\"text-align: right;\">\n",
       "      <th></th>\n",
       "      <th>0</th>\n",
       "      <th>1</th>\n",
       "      <th>2</th>\n",
       "      <th>3</th>\n",
       "      <th>4</th>\n",
       "      <th>5</th>\n",
       "      <th>6</th>\n",
       "      <th>7</th>\n",
       "      <th>8</th>\n",
       "      <th>9</th>\n",
       "    </tr>\n",
       "  </thead>\n",
       "  <tbody>\n",
       "    <tr>\n",
       "      <th>Интервалы</th>\n",
       "      <td>[0.0;0.1]</td>\n",
       "      <td>[0.1;0.2]</td>\n",
       "      <td>[0.2;0.3]</td>\n",
       "      <td>[0.3;0.4]</td>\n",
       "      <td>[0.4;0.5]</td>\n",
       "      <td>[0.5;0.6]</td>\n",
       "      <td>[0.6;0.7]</td>\n",
       "      <td>[0.7;0.8]</td>\n",
       "      <td>[0.8;0.9]</td>\n",
       "      <td>[0.9;1.0]</td>\n",
       "    </tr>\n",
       "    <tr>\n",
       "      <th>Вероятности</th>\n",
       "      <td>0.1</td>\n",
       "      <td>0.1</td>\n",
       "      <td>0.1</td>\n",
       "      <td>0.1</td>\n",
       "      <td>0.1</td>\n",
       "      <td>0.1</td>\n",
       "      <td>0.1</td>\n",
       "      <td>0.1</td>\n",
       "      <td>0.1</td>\n",
       "      <td>0.1</td>\n",
       "    </tr>\n",
       "  </tbody>\n",
       "</table>\n",
       "</div>"
      ],
      "text/plain": [
       "                     0          1          2          3          4          5  \\\n",
       "Интервалы    [0.0;0.1]  [0.1;0.2]  [0.2;0.3]  [0.3;0.4]  [0.4;0.5]  [0.5;0.6]   \n",
       "Вероятности        0.1        0.1        0.1        0.1        0.1        0.1   \n",
       "\n",
       "                     6          7          8          9  \n",
       "Интервалы    [0.6;0.7]  [0.7;0.8]  [0.8;0.9]  [0.9;1.0]  \n",
       "Вероятности        0.1        0.1        0.1        0.1  "
      ]
     },
     "execution_count": 26,
     "metadata": {},
     "output_type": "execute_result"
    }
   ],
   "source": [
    "intervals = [\"[\" + f'{inter[i-1]:.1f}'+ \";\" + f'{inter[i]:.1f}' + \"]\" for i in range(1, len(inter))]\n",
    "probs = np.array([inter[i]-inter[i-1] for i in range(1, len(inter))])\n",
    "pd.DataFrame([intervals, probs], [\"Интервалы\", \"Вероятности\"])"
   ]
  },
  {
   "cell_type": "markdown",
   "metadata": {},
   "source": [
    "Подсчитаем частоты попаданий в интервалы:"
   ]
  },
  {
   "cell_type": "code",
   "execution_count": 27,
   "metadata": {},
   "outputs": [
    {
     "data": {
      "text/html": [
       "<div>\n",
       "<style scoped>\n",
       "    .dataframe tbody tr th:only-of-type {\n",
       "        vertical-align: middle;\n",
       "    }\n",
       "\n",
       "    .dataframe tbody tr th {\n",
       "        vertical-align: top;\n",
       "    }\n",
       "\n",
       "    .dataframe thead th {\n",
       "        text-align: right;\n",
       "    }\n",
       "</style>\n",
       "<table border=\"1\" class=\"dataframe\">\n",
       "  <thead>\n",
       "    <tr style=\"text-align: right;\">\n",
       "      <th></th>\n",
       "      <th>0</th>\n",
       "      <th>1</th>\n",
       "      <th>2</th>\n",
       "      <th>3</th>\n",
       "      <th>4</th>\n",
       "      <th>5</th>\n",
       "      <th>6</th>\n",
       "      <th>7</th>\n",
       "      <th>8</th>\n",
       "      <th>9</th>\n",
       "    </tr>\n",
       "  </thead>\n",
       "  <tbody>\n",
       "    <tr>\n",
       "      <th>Интервалы</th>\n",
       "      <td>[0.0;0.1]</td>\n",
       "      <td>[0.1;0.2]</td>\n",
       "      <td>[0.2;0.3]</td>\n",
       "      <td>[0.3;0.4]</td>\n",
       "      <td>[0.4;0.5]</td>\n",
       "      <td>[0.5;0.6]</td>\n",
       "      <td>[0.6;0.7]</td>\n",
       "      <td>[0.7;0.8]</td>\n",
       "      <td>[0.8;0.9]</td>\n",
       "      <td>[0.9;1.0]</td>\n",
       "    </tr>\n",
       "    <tr>\n",
       "      <th>Эмпирические вероятности</th>\n",
       "      <td>80</td>\n",
       "      <td>98</td>\n",
       "      <td>109</td>\n",
       "      <td>104</td>\n",
       "      <td>90</td>\n",
       "      <td>103</td>\n",
       "      <td>103</td>\n",
       "      <td>101</td>\n",
       "      <td>97</td>\n",
       "      <td>115</td>\n",
       "    </tr>\n",
       "  </tbody>\n",
       "</table>\n",
       "</div>"
      ],
      "text/plain": [
       "                                  0          1          2          3  \\\n",
       "Интервалы                 [0.0;0.1]  [0.1;0.2]  [0.2;0.3]  [0.3;0.4]   \n",
       "Эмпирические вероятности         80         98        109        104   \n",
       "\n",
       "                                  4          5          6          7  \\\n",
       "Интервалы                 [0.4;0.5]  [0.5;0.6]  [0.6;0.7]  [0.7;0.8]   \n",
       "Эмпирические вероятности         90        103        103        101   \n",
       "\n",
       "                                  8          9  \n",
       "Интервалы                 [0.8;0.9]  [0.9;1.0]  \n",
       "Эмпирические вероятности         97        115  "
      ]
     },
     "execution_count": 27,
     "metadata": {},
     "output_type": "execute_result"
    },
    {
     "data": {
      "image/png": "[encoded data removed]",
      "text/plain": [
       "<Figure size 432x288 with 1 Axes>"
      ]
     },
     "metadata": {
      "needs_background": "light"
     },
     "output_type": "display_data"
    }
   ],
   "source": [
    "v_1 , bins_1, patches_1 = plt.hist(data,trunc,range = (0,1))\n",
    "pd.DataFrame([intervals, v_1], [\"Интервалы\", \"Эмпирические вероятности\"])"
   ]
  },
  {
   "cell_type": "markdown",
   "metadata": {},
   "source": [
    "Найдём значение метрики D:"
   ]
  },
  {
   "cell_type": "code",
   "execution_count": 28,
   "metadata": {},
   "outputs": [
    {
     "name": "stdout",
     "output_type": "stream",
     "text": [
      "D = 1.4800565393898548\n",
      "D = 1.4800565393898548 > 0.01669009063955043 => отклоняем гипотезу на уровне alpha = 0.1\n",
      "D = 1.4800565393898548 > 0.019228793055050833  => отклоняем гипотезу на уровне alpha = 0.05\n",
      "D = 1.4800565393898548 > 0.02427259083937356 => отклоняем гипотезу на уровне alpha = 0.01\n"
     ]
    }
   ],
   "source": [
    "print(\"D = \" + str(D(v_1,n)))\n",
    "print(\"D = \" + str(D(v_1,n)) + \" > \" + str(x[0]) + \" => отклоняем гипотезу на уровне alpha = 0.1\")\n",
    "print(\"D = \" + str(D(v_1,n)) + \" > \" + str(x[1]) + \"  => отклоняем гипотезу на уровне alpha = 0.05\")\n",
    "print(\"D = \" + str(D(v_1,n)) + \" > \" + str(x[2]) + \" => отклоняем гипотезу на уровне alpha = 0.01\")"
   ]
  },
  {
   "cell_type": "markdown",
   "metadata": {},
   "source": [
    "#### Вывод: данный критерий смог различить равномерное распределение и распределение η = 1 - √ξ."
   ]
  },
  {
   "cell_type": "markdown",
   "metadata": {},
   "source": [
    "##### 2. Рассмотрим выборку, порождённую законом η = 1 - √ξ"
   ]
  },
  {
   "cell_type": "code",
   "execution_count": 33,
   "metadata": {},
   "outputs": [],
   "source": [
    "rand = np.random.default_rng()\n",
    "data = 1 - np.sqrt(rand.random(n))"
   ]
  },
  {
   "cell_type": "code",
   "execution_count": 34,
   "metadata": {},
   "outputs": [
    {
     "data": {
      "text/html": [
       "<div>\n",
       "<style scoped>\n",
       "    .dataframe tbody tr th:only-of-type {\n",
       "        vertical-align: middle;\n",
       "    }\n",
       "\n",
       "    .dataframe tbody tr th {\n",
       "        vertical-align: top;\n",
       "    }\n",
       "\n",
       "    .dataframe thead th {\n",
       "        text-align: right;\n",
       "    }\n",
       "</style>\n",
       "<table border=\"1\" class=\"dataframe\">\n",
       "  <thead>\n",
       "    <tr style=\"text-align: right;\">\n",
       "      <th></th>\n",
       "      <th>0</th>\n",
       "      <th>1</th>\n",
       "      <th>2</th>\n",
       "      <th>3</th>\n",
       "      <th>4</th>\n",
       "      <th>5</th>\n",
       "      <th>6</th>\n",
       "      <th>7</th>\n",
       "      <th>8</th>\n",
       "      <th>9</th>\n",
       "    </tr>\n",
       "  </thead>\n",
       "  <tbody>\n",
       "    <tr>\n",
       "      <th>Интервалы</th>\n",
       "      <td>[0.0;0.1]</td>\n",
       "      <td>[0.1;0.2]</td>\n",
       "      <td>[0.2;0.3]</td>\n",
       "      <td>[0.3;0.4]</td>\n",
       "      <td>[0.4;0.5]</td>\n",
       "      <td>[0.5;0.6]</td>\n",
       "      <td>[0.6;0.7]</td>\n",
       "      <td>[0.7;0.8]</td>\n",
       "      <td>[0.8;0.9]</td>\n",
       "      <td>[0.9;1.0]</td>\n",
       "    </tr>\n",
       "    <tr>\n",
       "      <th>Вероятности</th>\n",
       "      <td>0.19</td>\n",
       "      <td>0.17</td>\n",
       "      <td>0.15</td>\n",
       "      <td>0.13</td>\n",
       "      <td>0.11</td>\n",
       "      <td>0.09</td>\n",
       "      <td>0.07</td>\n",
       "      <td>0.05</td>\n",
       "      <td>0.03</td>\n",
       "      <td>0.01</td>\n",
       "    </tr>\n",
       "  </tbody>\n",
       "</table>\n",
       "</div>"
      ],
      "text/plain": [
       "                     0          1          2          3          4          5  \\\n",
       "Интервалы    [0.0;0.1]  [0.1;0.2]  [0.2;0.3]  [0.3;0.4]  [0.4;0.5]  [0.5;0.6]   \n",
       "Вероятности       0.19       0.17       0.15       0.13       0.11       0.09   \n",
       "\n",
       "                     6          7          8          9  \n",
       "Интервалы    [0.6;0.7]  [0.7;0.8]  [0.8;0.9]  [0.9;1.0]  \n",
       "Вероятности       0.07       0.05       0.03       0.01  "
      ]
     },
     "execution_count": 34,
     "metadata": {},
     "output_type": "execute_result"
    }
   ],
   "source": [
    "probs = p(inter[0:10] + 0.05)\n",
    "intervals = [\"[\" + f'{inter[i-1]:.1f}'+ \";\" + f'{inter[i]:.1f}' + \"]\" for i in range(1, len(inter))]\n",
    "pd.DataFrame([intervals, probs], [\"Интервалы\", \"Вероятности\"])"
   ]
  },
  {
   "cell_type": "code",
   "execution_count": 35,
   "metadata": {},
   "outputs": [
    {
     "data": {
      "text/html": [
       "<div>\n",
       "<style scoped>\n",
       "    .dataframe tbody tr th:only-of-type {\n",
       "        vertical-align: middle;\n",
       "    }\n",
       "\n",
       "    .dataframe tbody tr th {\n",
       "        vertical-align: top;\n",
       "    }\n",
       "\n",
       "    .dataframe thead th {\n",
       "        text-align: right;\n",
       "    }\n",
       "</style>\n",
       "<table border=\"1\" class=\"dataframe\">\n",
       "  <thead>\n",
       "    <tr style=\"text-align: right;\">\n",
       "      <th></th>\n",
       "      <th>0</th>\n",
       "      <th>1</th>\n",
       "      <th>2</th>\n",
       "      <th>3</th>\n",
       "      <th>4</th>\n",
       "      <th>5</th>\n",
       "      <th>6</th>\n",
       "      <th>7</th>\n",
       "      <th>8</th>\n",
       "      <th>9</th>\n",
       "    </tr>\n",
       "  </thead>\n",
       "  <tbody>\n",
       "    <tr>\n",
       "      <th>Интервалы</th>\n",
       "      <td>[0.0;0.1]</td>\n",
       "      <td>[0.1;0.2]</td>\n",
       "      <td>[0.2;0.3]</td>\n",
       "      <td>[0.3;0.4]</td>\n",
       "      <td>[0.4;0.5]</td>\n",
       "      <td>[0.5;0.6]</td>\n",
       "      <td>[0.6;0.7]</td>\n",
       "      <td>[0.7;0.8]</td>\n",
       "      <td>[0.8;0.9]</td>\n",
       "      <td>[0.9;1.0]</td>\n",
       "    </tr>\n",
       "    <tr>\n",
       "      <th>Эмпирические вероятности</th>\n",
       "      <td>175</td>\n",
       "      <td>161</td>\n",
       "      <td>150</td>\n",
       "      <td>132</td>\n",
       "      <td>123</td>\n",
       "      <td>91</td>\n",
       "      <td>76</td>\n",
       "      <td>46</td>\n",
       "      <td>29</td>\n",
       "      <td>17</td>\n",
       "    </tr>\n",
       "  </tbody>\n",
       "</table>\n",
       "</div>"
      ],
      "text/plain": [
       "                                  0          1          2          3  \\\n",
       "Интервалы                 [0.0;0.1]  [0.1;0.2]  [0.2;0.3]  [0.3;0.4]   \n",
       "Эмпирические вероятности        175        161        150        132   \n",
       "\n",
       "                                  4          5          6          7  \\\n",
       "Интервалы                 [0.4;0.5]  [0.5;0.6]  [0.6;0.7]  [0.7;0.8]   \n",
       "Эмпирические вероятности        123         91         76         46   \n",
       "\n",
       "                                  8          9  \n",
       "Интервалы                 [0.8;0.9]  [0.9;1.0]  \n",
       "Эмпирические вероятности         29         17  "
      ]
     },
     "execution_count": 35,
     "metadata": {},
     "output_type": "execute_result"
    },
    {
     "data": {
      "image/png": "[encoded data removed]",
      "text/plain": [
       "<Figure size 432x288 with 1 Axes>"
      ]
     },
     "metadata": {
      "needs_background": "light"
     },
     "output_type": "display_data"
    }
   ],
   "source": [
    "v_2 , bins_2, patches_2 = plt.hist(data,trunc,range = (0,1))\n",
    "pd.DataFrame([intervals, v_2], [\"Интервалы\", \"Эмпирические вероятности\"])"
   ]
  },
  {
   "cell_type": "code",
   "execution_count": 36,
   "metadata": {},
   "outputs": [
    {
     "name": "stdout",
     "output_type": "stream",
     "text": [
      "D = 0.009683574182347967\n",
      "D = 0.009683574182347967 < 0.01669009063955043 => принимаем гипотезу на уровне alpha = 0.1\n",
      "D = 0.009683574182347967 < 0.019228793055050833  => принимаем гипотезу на уровне alpha = 0.05\n",
      "D = 0.009683574182347967 < 0.02427259083937356 => принимаем гипотезу на уровне alpha = 0.01\n"
     ]
    }
   ],
   "source": [
    "print(\"D = \" + str(D(v_2,n)))\n",
    "print(\"D = \" + str(D(v_2,n)) + \" < \" + str(x[0]) + \" => принимаем гипотезу на уровне alpha = 0.1\")\n",
    "print(\"D = \" + str(D(v_2,n)) + \" < \" + str(x[1]) + \"  => принимаем гипотезу на уровне alpha = 0.05\")\n",
    "print(\"D = \" + str(D(v_2,n)) + \" < \" + str(x[2]) + \" => принимаем гипотезу на уровне alpha = 0.01\")"
   ]
  },
  {
   "cell_type": "markdown",
   "metadata": {},
   "source": [
    "#### Вывод: полученный критерий дал правильный результат на равномерно распределении и распределении η = 1 - √ξ, что свидетельствует о его применимости."
   ]
  }
 ],
 "metadata": {
  "kernelspec": {
   "display_name": "Python 3",
   "language": "python",
   "name": "python3"
  },
  "language_info": {
   "codemirror_mode": {
    "name": "ipython",
    "version": 3
   },
   "file_extension": ".py",
   "mimetype": "text/x-python",
   "name": "python",
   "nbconvert_exporter": "python",
   "pygments_lexer": "ipython3",
   "version": "3.8.10"
  }
 },
 "nbformat": 4,
 "nbformat_minor": 4
}
