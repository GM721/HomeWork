{
 "cells": [
  {
   "cell_type": "code",
   "execution_count": 61,
   "metadata": {},
   "outputs": [],
   "source": [
    "import math \n",
    "import numpy as np\n",
    "import matplotlib.pyplot as plt\n",
    "import scipy.integrate as integrate\n",
    "import pandas as pd\n",
    "import scipy.stats as sc\n",
    "import scipy.special as ss\n",
    "import sympy as sp"
   ]
  },
  {
   "cell_type": "markdown",
   "metadata": {},
   "source": [
    "Задача 3\n",
    "\n",
    "Гусейнов Миран ФН11-53б Вариант 5\n",
    "\n",
    "## Моделирование выборки из абсолютно непрерывного закона распределения методом обратных функций.\n",
    "\n",
    "### Задание. \n",
    "1. Для данного n методом обратных функций смоделируйте выборку из закона распределения с заданной плотностью p(x).\n",
    "2. Для полученной выборки найдите гистограмму относительных частот.  Постройте на одном рисунке графики теоретической плотности p(x) и гистограмму относительных частот.\n",
    "3. Вычислите выборочное среднее и выборочную дисперсию и сравните с истинными значениями этих характеристик.\n",
    "4. Используя неравенство Dvoretzky-Kiefer-Wolfowitz, постройте 90% доверительный интервал для функции распределения F(x).\n",
    "Приведите графическую иллюстрацию\n",
    "\n",
    "    Бэта-раcпределение B(3,2)     \n",
    "    n = 170"
   ]
  },
  {
   "cell_type": "markdown",
   "metadata": {},
   "source": [
    "### Решение \n",
    "#### 1. Для  n = 170 методом обратных функций смоделируем выборку из закона распределения с плотностью  B(3,2)  ."
   ]
  },
  {
   "cell_type": "code",
   "execution_count": 151,
   "metadata": {},
   "outputs": [
    {
     "name": "stdout",
     "output_type": "stream",
     "text": [
      "Вектор сдучайных велечин от 0 до 1 длиной 170\n"
     ]
    },
    {
     "data": {
      "text/html": [
       "<div>\n",
       "<style scoped>\n",
       "    .dataframe tbody tr th:only-of-type {\n",
       "        vertical-align: middle;\n",
       "    }\n",
       "\n",
       "    .dataframe tbody tr th {\n",
       "        vertical-align: top;\n",
       "    }\n",
       "\n",
       "    .dataframe thead th {\n",
       "        text-align: right;\n",
       "    }\n",
       "</style>\n",
       "<table border=\"1\" class=\"dataframe\">\n",
       "  <thead>\n",
       "    <tr style=\"text-align: right;\">\n",
       "      <th></th>\n",
       "      <th>0</th>\n",
       "      <th>1</th>\n",
       "      <th>2</th>\n",
       "      <th>3</th>\n",
       "      <th>4</th>\n",
       "      <th>5</th>\n",
       "      <th>6</th>\n",
       "      <th>7</th>\n",
       "      <th>8</th>\n",
       "      <th>9</th>\n",
       "      <th>...</th>\n",
       "      <th>160</th>\n",
       "      <th>161</th>\n",
       "      <th>162</th>\n",
       "      <th>163</th>\n",
       "      <th>164</th>\n",
       "      <th>165</th>\n",
       "      <th>166</th>\n",
       "      <th>167</th>\n",
       "      <th>168</th>\n",
       "      <th>169</th>\n",
       "    </tr>\n",
       "  </thead>\n",
       "  <tbody>\n",
       "    <tr>\n",
       "      <th>0</th>\n",
       "      <td>0.4358</td>\n",
       "      <td>0.0346</td>\n",
       "      <td>0.5558</td>\n",
       "      <td>0.9586</td>\n",
       "      <td>0.7413</td>\n",
       "      <td>0.2953</td>\n",
       "      <td>0.0335</td>\n",
       "      <td>0.1477</td>\n",
       "      <td>0.5804</td>\n",
       "      <td>0.3252</td>\n",
       "      <td>...</td>\n",
       "      <td>0.5076</td>\n",
       "      <td>0.16</td>\n",
       "      <td>0.4052</td>\n",
       "      <td>0.4784</td>\n",
       "      <td>0.3535</td>\n",
       "      <td>0.6933</td>\n",
       "      <td>0.8708</td>\n",
       "      <td>0.1759</td>\n",
       "      <td>0.2454</td>\n",
       "      <td>0.5743</td>\n",
       "    </tr>\n",
       "  </tbody>\n",
       "</table>\n",
       "<p>1 rows × 170 columns</p>\n",
       "</div>"
      ],
      "text/plain": [
       "      0       1       2       3       4       5       6       7       8    \\\n",
       "0  0.4358  0.0346  0.5558  0.9586  0.7413  0.2953  0.0335  0.1477  0.5804   \n",
       "\n",
       "      9    ...     160   161     162     163     164     165     166     167  \\\n",
       "0  0.3252  ...  0.5076  0.16  0.4052  0.4784  0.3535  0.6933  0.8708  0.1759   \n",
       "\n",
       "      168     169  \n",
       "0  0.2454  0.5743  \n",
       "\n",
       "[1 rows x 170 columns]"
      ]
     },
     "execution_count": 151,
     "metadata": {},
     "output_type": "execute_result"
    }
   ],
   "source": [
    "k=2.5\n",
    "n=170\n",
    "\n",
    "random_y=np.random.sample(n)\n",
    "print('Вектор сдучайных велечин от 0 до 1 длиной 170')\n",
    "pd.DataFrame([[round(i,4) for i in random_y]])"
   ]
  },
  {
   "cell_type": "markdown",
   "metadata": {},
   "source": [
    "Смоделируем выборку используя встроенуй обратную функцию Бэта-раcпределения"
   ]
  },
  {
   "cell_type": "code",
   "execution_count": 211,
   "metadata": {},
   "outputs": [
    {
     "name": "stdout",
     "output_type": "stream",
     "text": [
      "Полученая выборка из закона Бэта-раcпределение B(3,2)\n"
     ]
    },
    {
     "data": {
      "text/html": [
       "<div>\n",
       "<style scoped>\n",
       "    .dataframe tbody tr th:only-of-type {\n",
       "        vertical-align: middle;\n",
       "    }\n",
       "\n",
       "    .dataframe tbody tr th {\n",
       "        vertical-align: top;\n",
       "    }\n",
       "\n",
       "    .dataframe thead th {\n",
       "        text-align: right;\n",
       "    }\n",
       "</style>\n",
       "<table border=\"1\" class=\"dataframe\">\n",
       "  <thead>\n",
       "    <tr style=\"text-align: right;\">\n",
       "      <th></th>\n",
       "      <th></th>\n",
       "      <th></th>\n",
       "      <th></th>\n",
       "      <th></th>\n",
       "      <th></th>\n",
       "      <th></th>\n",
       "      <th></th>\n",
       "      <th></th>\n",
       "      <th></th>\n",
       "      <th></th>\n",
       "    </tr>\n",
       "  </thead>\n",
       "  <tbody>\n",
       "    <tr>\n",
       "      <th></th>\n",
       "      <td>0.576957</td>\n",
       "      <td>0.217841</td>\n",
       "      <td>0.645940</td>\n",
       "      <td>0.911749</td>\n",
       "      <td>0.751770</td>\n",
       "      <td>0.488390</td>\n",
       "      <td>0.215389</td>\n",
       "      <td>0.371219</td>\n",
       "      <td>0.659790</td>\n",
       "      <td>0.508384</td>\n",
       "    </tr>\n",
       "    <tr>\n",
       "      <th></th>\n",
       "      <td>0.180978</td>\n",
       "      <td>0.395284</td>\n",
       "      <td>0.256669</td>\n",
       "      <td>0.422039</td>\n",
       "      <td>0.471093</td>\n",
       "      <td>0.471958</td>\n",
       "      <td>0.514784</td>\n",
       "      <td>0.430040</td>\n",
       "      <td>0.782387</td>\n",
       "      <td>0.690243</td>\n",
       "    </tr>\n",
       "    <tr>\n",
       "      <th></th>\n",
       "      <td>0.435311</td>\n",
       "      <td>0.830932</td>\n",
       "      <td>0.779397</td>\n",
       "      <td>0.473318</td>\n",
       "      <td>0.375320</td>\n",
       "      <td>0.310704</td>\n",
       "      <td>0.837915</td>\n",
       "      <td>0.732047</td>\n",
       "      <td>0.536972</td>\n",
       "      <td>0.222649</td>\n",
       "    </tr>\n",
       "    <tr>\n",
       "      <th></th>\n",
       "      <td>0.691210</td>\n",
       "      <td>0.852598</td>\n",
       "      <td>0.601109</td>\n",
       "      <td>0.574505</td>\n",
       "      <td>0.897075</td>\n",
       "      <td>0.669266</td>\n",
       "      <td>0.568122</td>\n",
       "      <td>0.508250</td>\n",
       "      <td>0.902284</td>\n",
       "      <td>0.726087</td>\n",
       "    </tr>\n",
       "    <tr>\n",
       "      <th></th>\n",
       "      <td>0.668642</td>\n",
       "      <td>0.422731</td>\n",
       "      <td>0.838362</td>\n",
       "      <td>0.338228</td>\n",
       "      <td>0.786713</td>\n",
       "      <td>0.742766</td>\n",
       "      <td>0.736294</td>\n",
       "      <td>0.748184</td>\n",
       "      <td>0.597927</td>\n",
       "      <td>0.242282</td>\n",
       "    </tr>\n",
       "    <tr>\n",
       "      <th></th>\n",
       "      <td>0.344709</td>\n",
       "      <td>0.290318</td>\n",
       "      <td>0.664949</td>\n",
       "      <td>0.888782</td>\n",
       "      <td>0.653546</td>\n",
       "      <td>0.815682</td>\n",
       "      <td>0.906679</td>\n",
       "      <td>0.744274</td>\n",
       "      <td>0.703857</td>\n",
       "      <td>0.637980</td>\n",
       "    </tr>\n",
       "    <tr>\n",
       "      <th></th>\n",
       "      <td>0.690098</td>\n",
       "      <td>0.541934</td>\n",
       "      <td>0.457795</td>\n",
       "      <td>0.757279</td>\n",
       "      <td>0.785173</td>\n",
       "      <td>0.644195</td>\n",
       "      <td>0.586195</td>\n",
       "      <td>0.459200</td>\n",
       "      <td>0.565335</td>\n",
       "      <td>0.842707</td>\n",
       "    </tr>\n",
       "    <tr>\n",
       "      <th></th>\n",
       "      <td>0.668583</td>\n",
       "      <td>0.771328</td>\n",
       "      <td>0.662567</td>\n",
       "      <td>0.922513</td>\n",
       "      <td>0.296453</td>\n",
       "      <td>0.751373</td>\n",
       "      <td>0.679314</td>\n",
       "      <td>0.655231</td>\n",
       "      <td>0.863834</td>\n",
       "      <td>0.753512</td>\n",
       "    </tr>\n",
       "    <tr>\n",
       "      <th></th>\n",
       "      <td>0.634164</td>\n",
       "      <td>0.934317</td>\n",
       "      <td>0.270547</td>\n",
       "      <td>0.397914</td>\n",
       "      <td>0.610175</td>\n",
       "      <td>0.896949</td>\n",
       "      <td>0.488487</td>\n",
       "      <td>0.612893</td>\n",
       "      <td>0.602844</td>\n",
       "      <td>0.770571</td>\n",
       "    </tr>\n",
       "    <tr>\n",
       "      <th></th>\n",
       "      <td>0.208057</td>\n",
       "      <td>0.800589</td>\n",
       "      <td>0.373739</td>\n",
       "      <td>0.376440</td>\n",
       "      <td>0.451384</td>\n",
       "      <td>0.690325</td>\n",
       "      <td>0.877735</td>\n",
       "      <td>0.824545</td>\n",
       "      <td>0.566444</td>\n",
       "      <td>0.674453</td>\n",
       "    </tr>\n",
       "    <tr>\n",
       "      <th></th>\n",
       "      <td>0.316874</td>\n",
       "      <td>0.310167</td>\n",
       "      <td>0.774259</td>\n",
       "      <td>0.517072</td>\n",
       "      <td>0.441489</td>\n",
       "      <td>0.632954</td>\n",
       "      <td>0.738081</td>\n",
       "      <td>0.266504</td>\n",
       "      <td>0.620855</td>\n",
       "      <td>0.274673</td>\n",
       "    </tr>\n",
       "    <tr>\n",
       "      <th></th>\n",
       "      <td>0.390946</td>\n",
       "      <td>0.753235</td>\n",
       "      <td>0.634676</td>\n",
       "      <td>0.160310</td>\n",
       "      <td>0.271174</td>\n",
       "      <td>0.275117</td>\n",
       "      <td>0.298389</td>\n",
       "      <td>0.629932</td>\n",
       "      <td>0.545102</td>\n",
       "      <td>0.736027</td>\n",
       "    </tr>\n",
       "    <tr>\n",
       "      <th></th>\n",
       "      <td>0.720008</td>\n",
       "      <td>0.528239</td>\n",
       "      <td>0.937293</td>\n",
       "      <td>0.332338</td>\n",
       "      <td>0.527808</td>\n",
       "      <td>0.777832</td>\n",
       "      <td>0.804242</td>\n",
       "      <td>0.569099</td>\n",
       "      <td>0.829050</td>\n",
       "      <td>0.353492</td>\n",
       "    </tr>\n",
       "    <tr>\n",
       "      <th></th>\n",
       "      <td>0.317966</td>\n",
       "      <td>0.840811</td>\n",
       "      <td>0.373298</td>\n",
       "      <td>0.565990</td>\n",
       "      <td>0.616931</td>\n",
       "      <td>0.331630</td>\n",
       "      <td>0.947199</td>\n",
       "      <td>0.947747</td>\n",
       "      <td>0.320043</td>\n",
       "      <td>0.747423</td>\n",
       "    </tr>\n",
       "    <tr>\n",
       "      <th></th>\n",
       "      <td>0.569829</td>\n",
       "      <td>0.607440</td>\n",
       "      <td>0.643513</td>\n",
       "      <td>0.551046</td>\n",
       "      <td>0.686742</td>\n",
       "      <td>0.951646</td>\n",
       "      <td>0.720802</td>\n",
       "      <td>0.773459</td>\n",
       "      <td>0.437214</td>\n",
       "      <td>0.722148</td>\n",
       "    </tr>\n",
       "    <tr>\n",
       "      <th></th>\n",
       "      <td>0.688200</td>\n",
       "      <td>0.781232</td>\n",
       "      <td>0.669725</td>\n",
       "      <td>0.327511</td>\n",
       "      <td>0.808242</td>\n",
       "      <td>0.847546</td>\n",
       "      <td>0.698450</td>\n",
       "      <td>0.303976</td>\n",
       "      <td>0.572703</td>\n",
       "      <td>0.743159</td>\n",
       "    </tr>\n",
       "    <tr>\n",
       "      <th></th>\n",
       "      <td>0.618639</td>\n",
       "      <td>0.382866</td>\n",
       "      <td>0.558674</td>\n",
       "      <td>0.601878</td>\n",
       "      <td>0.526632</td>\n",
       "      <td>0.723758</td>\n",
       "      <td>0.835282</td>\n",
       "      <td>0.397082</td>\n",
       "      <td>0.452917</td>\n",
       "      <td>0.656388</td>\n",
       "    </tr>\n",
       "  </tbody>\n",
       "</table>\n",
       "</div>"
      ],
      "text/plain": [
       "                                                                         \\\n",
       "   0.576957  0.217841  0.645940  0.911749  0.751770  0.488390  0.215389   \n",
       "   0.180978  0.395284  0.256669  0.422039  0.471093  0.471958  0.514784   \n",
       "   0.435311  0.830932  0.779397  0.473318  0.375320  0.310704  0.837915   \n",
       "   0.691210  0.852598  0.601109  0.574505  0.897075  0.669266  0.568122   \n",
       "   0.668642  0.422731  0.838362  0.338228  0.786713  0.742766  0.736294   \n",
       "   0.344709  0.290318  0.664949  0.888782  0.653546  0.815682  0.906679   \n",
       "   0.690098  0.541934  0.457795  0.757279  0.785173  0.644195  0.586195   \n",
       "   0.668583  0.771328  0.662567  0.922513  0.296453  0.751373  0.679314   \n",
       "   0.634164  0.934317  0.270547  0.397914  0.610175  0.896949  0.488487   \n",
       "   0.208057  0.800589  0.373739  0.376440  0.451384  0.690325  0.877735   \n",
       "   0.316874  0.310167  0.774259  0.517072  0.441489  0.632954  0.738081   \n",
       "   0.390946  0.753235  0.634676  0.160310  0.271174  0.275117  0.298389   \n",
       "   0.720008  0.528239  0.937293  0.332338  0.527808  0.777832  0.804242   \n",
       "   0.317966  0.840811  0.373298  0.565990  0.616931  0.331630  0.947199   \n",
       "   0.569829  0.607440  0.643513  0.551046  0.686742  0.951646  0.720802   \n",
       "   0.688200  0.781232  0.669725  0.327511  0.808242  0.847546  0.698450   \n",
       "   0.618639  0.382866  0.558674  0.601878  0.526632  0.723758  0.835282   \n",
       "\n",
       "                                 \n",
       "   0.371219  0.659790  0.508384  \n",
       "   0.430040  0.782387  0.690243  \n",
       "   0.732047  0.536972  0.222649  \n",
       "   0.508250  0.902284  0.726087  \n",
       "   0.748184  0.597927  0.242282  \n",
       "   0.744274  0.703857  0.637980  \n",
       "   0.459200  0.565335  0.842707  \n",
       "   0.655231  0.863834  0.753512  \n",
       "   0.612893  0.602844  0.770571  \n",
       "   0.824545  0.566444  0.674453  \n",
       "   0.266504  0.620855  0.274673  \n",
       "   0.629932  0.545102  0.736027  \n",
       "   0.569099  0.829050  0.353492  \n",
       "   0.947747  0.320043  0.747423  \n",
       "   0.773459  0.437214  0.722148  \n",
       "   0.303976  0.572703  0.743159  \n",
       "   0.397082  0.452917  0.656388  "
      ]
     },
     "execution_count": 211,
     "metadata": {},
     "output_type": "execute_result"
    }
   ],
   "source": [
    "vyborka=[sc.beta.ppf(q = i,a = 3,b = 2) for i in random_y]\n",
    "print(\"Полученая выборка из закона Бэта-раcпределение B(3,2)\")\n",
    "pd.DataFrame((np.reshape(vyborka,(17,10))),[\" \" for i in range(17)],[\" \" for i in range(10)])"
   ]
  },
  {
   "cell_type": "markdown",
   "metadata": {},
   "source": [
    "#### 2. Для полученной выборки найдем гистограмму относительных частот.  Построем на одном рисунке графики теоретической плотности  и гистограмму относительных частот."
   ]
  },
  {
   "cell_type": "markdown",
   "metadata": {},
   "source": [
    "##### Найдем крайние члены вариационного ряда и размах выборки"
   ]
  },
  {
   "cell_type": "code",
   "execution_count": 174,
   "metadata": {},
   "outputs": [
    {
     "name": "stdout",
     "output_type": "stream",
     "text": [
      "Крайние члены вариационного ряда:\n",
      "max = 0.9516455478442275 \n",
      "min = 0.1603096337741723 \n",
      "\n",
      "Размах выборки: 0.791\n"
     ]
    }
   ],
   "source": [
    "print(\"Крайние члены вариационного ряда:\")\n",
    "print('max =', max(vyborka),'\\nmin =',min(vyborka),'\\n')\n",
    "\n",
    "omega =max(vyborka)-min(vyborka)\n",
    "print('Размах выборки:',round(omega,3))"
   ]
  },
  {
   "cell_type": "markdown",
   "metadata": {},
   "source": [
    "##### Осуществите группировку данных"
   ]
  },
  {
   "cell_type": "code",
   "execution_count": 175,
   "metadata": {},
   "outputs": [
    {
     "name": "stdout",
     "output_type": "stream",
     "text": [
      "Количество интервалов найденых по правилу Стерджа: 7\n"
     ]
    }
   ],
   "source": [
    "l= math.trunc(1+math.log(120,2))\n",
    "print('Количество интервалов найденых по правилу Стерджа:',l)"
   ]
  },
  {
   "cell_type": "code",
   "execution_count": 176,
   "metadata": {},
   "outputs": [
    {
     "name": "stdout",
     "output_type": "stream",
     "text": [
      "Сгруппированые данные:\n"
     ]
    },
    {
     "data": {
      "text/html": [
       "<div>\n",
       "<style scoped>\n",
       "    .dataframe tbody tr th:only-of-type {\n",
       "        vertical-align: middle;\n",
       "    }\n",
       "\n",
       "    .dataframe tbody tr th {\n",
       "        vertical-align: top;\n",
       "    }\n",
       "\n",
       "    .dataframe thead th {\n",
       "        text-align: right;\n",
       "    }\n",
       "</style>\n",
       "<table border=\"1\" class=\"dataframe\">\n",
       "  <thead>\n",
       "    <tr style=\"text-align: right;\">\n",
       "      <th></th>\n",
       "      <th>(0.16 : 0.273)</th>\n",
       "      <th>(0.273 : 0.386)</th>\n",
       "      <th>(0.386 : 0.499)</th>\n",
       "      <th>(0.499 : 0.613)</th>\n",
       "      <th>(0.613 : 0.726)</th>\n",
       "      <th>(0.726 : 0.839)</th>\n",
       "      <th>(0.839 : 0.952)</th>\n",
       "    </tr>\n",
       "  </thead>\n",
       "  <tbody>\n",
       "    <tr>\n",
       "      <th>частоты</th>\n",
       "      <td>11.0000</td>\n",
       "      <td>23.0000</td>\n",
       "      <td>19.0000</td>\n",
       "      <td>28.000</td>\n",
       "      <td>36.0000</td>\n",
       "      <td>35.0000</td>\n",
       "      <td>18.0000</td>\n",
       "    </tr>\n",
       "    <tr>\n",
       "      <th>отн. частоты</th>\n",
       "      <td>0.5724</td>\n",
       "      <td>1.1968</td>\n",
       "      <td>0.9886</td>\n",
       "      <td>1.457</td>\n",
       "      <td>1.8732</td>\n",
       "      <td>1.8212</td>\n",
       "      <td>0.9366</td>\n",
       "    </tr>\n",
       "  </tbody>\n",
       "</table>\n",
       "</div>"
      ],
      "text/plain": [
       "               (0.16 : 0.273)  (0.273 : 0.386)  (0.386 : 0.499)  \\\n",
       "частоты               11.0000          23.0000          19.0000   \n",
       " отн. частоты          0.5724           1.1968           0.9886   \n",
       "\n",
       "               (0.499 : 0.613)  (0.613 : 0.726)  (0.726 : 0.839)  \\\n",
       "частоты                 28.000          36.0000          35.0000   \n",
       " отн. частоты            1.457           1.8732           1.8212   \n",
       "\n",
       "               (0.839 : 0.952)  \n",
       "частоты                18.0000  \n",
       " отн. частоты           0.9366  "
      ]
     },
     "metadata": {},
     "output_type": "display_data"
    }
   ],
   "source": [
    "print(\"Сгруппированые данные:\")\n",
    "interval = ['(' + str(round(i,3)) + \" : \" + str(round(i+ omega/l,3)) + ')' for i in out[1][:-1]]\n",
    "display(pd.DataFrame([out[0]*(n*(omega/l)), [round(i,4) for i in out[0]]], index = [\"частоты\",\" отн. частоты\"], columns = interval ))"
   ]
  },
  {
   "cell_type": "markdown",
   "metadata": {},
   "source": [
    "##### По сгруппированным данным постройте гистограмму относительных частот"
   ]
  },
  {
   "cell_type": "code",
   "execution_count": 177,
   "metadata": {},
   "outputs": [
    {
     "data": {
      "image/png": "[encoded data removed]",
      "text/plain": [
       "<Figure size 792x504 with 1 Axes>"
      ]
     },
     "metadata": {
      "needs_background": "light"
     },
     "output_type": "display_data"
    }
   ],
   "source": [
    "x2=np.linspace(0,1,1000)\n",
    "plt.figure(figsize=(11,7))\n",
    "plt.plot(x2,sc.beta.pdf(x2,a = 3,b = 2),'k',label = r'$\\beta(3,2)$')\n",
    "out = plt.hist(vyborka,7,density = True)\n",
    "plt.legend(fontsize = 15 ,loc = 2)\n",
    "plt.title(\"Гистограмма относительных частот для полученой выборки и графики теоретической плотности B(3,2)\",fontsize = 12)\n",
    "plt.show()"
   ]
  },
  {
   "cell_type": "markdown",
   "metadata": {},
   "source": [
    "#### 3. Вычислим выборочное среднее и выборочную дисперсию и сравним с истинными значениями этих характеристик."
   ]
  },
  {
   "cell_type": "code",
   "execution_count": 173,
   "metadata": {},
   "outputs": [
    {
     "data": {
      "text/html": [
       "<div>\n",
       "<style scoped>\n",
       "    .dataframe tbody tr th:only-of-type {\n",
       "        vertical-align: middle;\n",
       "    }\n",
       "\n",
       "    .dataframe tbody tr th {\n",
       "        vertical-align: top;\n",
       "    }\n",
       "\n",
       "    .dataframe thead th {\n",
       "        text-align: right;\n",
       "    }\n",
       "</style>\n",
       "<table border=\"1\" class=\"dataframe\">\n",
       "  <thead>\n",
       "    <tr style=\"text-align: right;\">\n",
       "      <th></th>\n",
       "      <th>Теоритическая</th>\n",
       "      <th>Эмпирическая</th>\n",
       "      <th>Разница</th>\n",
       "    </tr>\n",
       "  </thead>\n",
       "  <tbody>\n",
       "    <tr>\n",
       "      <th>Матожидание</th>\n",
       "      <td>0.60</td>\n",
       "      <td>0.59714</td>\n",
       "      <td>0.00286</td>\n",
       "    </tr>\n",
       "    <tr>\n",
       "      <th>Дисперсия</th>\n",
       "      <td>0.04</td>\n",
       "      <td>0.03966</td>\n",
       "      <td>1.00867</td>\n",
       "    </tr>\n",
       "  </tbody>\n",
       "</table>\n",
       "</div>"
      ],
      "text/plain": [
       "             Теоритическая  Эмпирическая  Разница\n",
       "Матожидание           0.60       0.59714  0.00286\n",
       "Дисперсия             0.04       0.03966  1.00867"
      ]
     },
     "execution_count": 173,
     "metadata": {},
     "output_type": "execute_result"
    }
   ],
   "source": [
    "D = sc.beta.var(a = 3,b = 2)\n",
    "M = sc.beta.mean(a = 3,b = 2)\n",
    "\n",
    "M2=np.average(np.array(vyborka))\n",
    "D2=np.average(np.array(vyborka)**2) - M2**2\n",
    "\n",
    "pd.DataFrame([[M,round(M2,5),round(abs(M-M2),5)],[D,round(D2,5),round(abs(D/D2),5)]],[\"Матожидание\",\"Дисперсия\"],[\"Теоритическая\",\"Эмпирическая\",\"Разница\"])"
   ]
  },
  {
   "cell_type": "markdown",
   "metadata": {},
   "source": [
    "### 4.Находим эмпирическую функцию распределения и строим доверительный [ L(z), R(z)] интервал  на основе неравенства Дворецкого-Кифера-Волфовица"
   ]
  },
  {
   "cell_type": "markdown",
   "metadata": {},
   "source": [
    "#### Эмпирическая функция распределения "
   ]
  },
  {
   "cell_type": "code",
   "execution_count": 178,
   "metadata": {},
   "outputs": [],
   "source": [
    "def ind(x):\n",
    "    if (x>0):\n",
    "        return 1\n",
    "    else :\n",
    "        return 0\n",
    "    \n",
    "def F_emp(x):\n",
    "    sum_array=[]\n",
    "    for j in x:\n",
    "        sum=0\n",
    "        for i in vyborka:\n",
    "            sum+=ind(j-i)/n\n",
    "        sum_array.append(sum)\n",
    "    return sum_array"
   ]
  },
  {
   "cell_type": "markdown",
   "metadata": {},
   "source": [
    "#### Используя неравенство Dvoretzky-Kiefer-Wolfowitz, построем 90% доверительный интервал"
   ]
  },
  {
   "cell_type": "code",
   "execution_count": 205,
   "metadata": {},
   "outputs": [
    {
     "name": "stdout",
     "output_type": "stream",
     "text": [
      "ε = 0.09386680603471494\n"
     ]
    }
   ],
   "source": [
    "eps=(-math.log(0.1/2)/(2*n))**(1/2)\n",
    "print(\"\\u03B5 =\",eps)\n",
    "\n",
    "def R_x(x):\n",
    "    femp=F_emp(x)\n",
    "    ret=[]\n",
    "    for i in femp:\n",
    "        if (i+eps<1):\n",
    "            ret.append(i+eps)\n",
    "        else:\n",
    "            ret.append(1)\n",
    "    return ret\n",
    "\n",
    "def L_x(x):\n",
    "    femp=F_emp(x)\n",
    "    ret=[]\n",
    "    for i in femp:\n",
    "        if (i-eps>0):\n",
    "            ret.append(i-eps)\n",
    "        else:\n",
    "            ret.append(0)\n",
    "    return ret"
   ]
  },
  {
   "cell_type": "markdown",
   "metadata": {},
   "source": [
    "#### 5. Приводим графическую иллюстрацию"
   ]
  },
  {
   "cell_type": "code",
   "execution_count": 209,
   "metadata": {},
   "outputs": [
    {
     "data": {
      "text/plain": [
       "<matplotlib.legend.Legend at 0x7fea42136640>"
      ]
     },
     "execution_count": 209,
     "metadata": {},
     "output_type": "execute_result"
    },
    {
     "data": {
      "image/png": "[encoded data removed]",
      "text/plain": [
       "<Figure size 792x504 with 1 Axes>"
      ]
     },
     "metadata": {
      "needs_background": "light"
     },
     "output_type": "display_data"
    }
   ],
   "source": [
    "x=np.linspace(0,1,1000)\n",
    "plt.figure(figsize=(11,7))\n",
    "plt.plot(x,F_emp(x),'b',linewidth = 2, label = 'Femp(z)')\n",
    "plt.plot(x,R_x(x),'r',linewidth = 2, label = 'R(z)')\n",
    "plt.plot(x,L_x(x),'y',linewidth = 2, label = 'L(z)')\n",
    "plt.plot(x,sc.beta.cdf(x,a = 3, b = 2),color = \"black\", label = 'F(z)')\n",
    "plt.legend(fontsize = 15)"
   ]
  },
  {
   "cell_type": "markdown",
   "metadata": {},
   "source": [
    "### Вывод: выборка смоделированая методом обратных функций подчиняется закону с плотностью распределения B(3,2)"
   ]
  }
 ],
 "metadata": {
  "kernelspec": {
   "display_name": "Python 3",
   "language": "python",
   "name": "python3"
  },
  "language_info": {
   "codemirror_mode": {
    "name": "ipython",
    "version": 3
   },
   "file_extension": ".py",
   "mimetype": "text/x-python",
   "name": "python",
   "nbconvert_exporter": "python",
   "pygments_lexer": "ipython3",
   "version": "3.8.10"
  }
 },
 "nbformat": 4,
 "nbformat_minor": 4
}
