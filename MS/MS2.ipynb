{
 "cells": [
  {
   "cell_type": "code",
   "execution_count": 1,
   "metadata": {},
   "outputs": [],
   "source": [
    "import math \n",
    "import numpy as np\n",
    "import matplotlib.pyplot as plt\n",
    "import scipy.stats as sc\n",
    "import pandas as pd\n",
    "from IPython.display import *\n",
    "\n",
    "\n",
    "k=8\n",
    "p=0.5 \n",
    "n=200\n",
    "\n",
    "binom = lambda i : (math.factorial(k)/(math.factorial(k-i)*math.factorial(i)))*(p**i)*((1-p)**(k-i))"
   ]
  },
  {
   "cell_type": "markdown",
   "metadata": {},
   "source": [
    "Задача 2 \n",
    "\n",
    "Гусейнов Миран ФН11-53б Вариант 5\n",
    "\n",
    "### Моделирование и обработка выборки из дискретного закона распределения.\n",
    "\n",
    "1. Для данного 𝑛 смоделируйте выборку из биномиального закона распределения: $𝑃(𝜉=𝑗)=𝑝_𝑗=𝐶^j_k𝑝^𝑗(1−𝑝)^{𝑘−𝑗},𝑗=\\overline{0,𝑘} $.\n",
    "2. Для полученной выборки постройте статистический ряд. Найдите эмпирическую функцию распределения $\\widehat{F}_𝑛(𝑥)$. Постройте на одном рисунке графики 𝐹(𝑥) и $\\widehat{F}_𝑛(𝑥)$. Вычислите статистику Колмогорова.\n",
    "3. Вычислите выборочное среднее и выборочную дисперсию и сравните с истинными значениями этих характеристик.\n",
    "\n",
    "k=8  p=0.5 n=200"
   ]
  },
  {
   "cell_type": "markdown",
   "metadata": {},
   "source": [
    "##             Решение"
   ]
  },
  {
   "cell_type": "markdown",
   "metadata": {},
   "source": [
    "### Смоделируем выборку из биномиального закона распределения"
   ]
  },
  {
   "cell_type": "markdown",
   "metadata": {},
   "source": [
    "#### 1. Находим теоретический закон "
   ]
  },
  {
   "cell_type": "code",
   "execution_count": 2,
   "metadata": {},
   "outputs": [
    {
     "name": "stdout",
     "output_type": "stream",
     "text": [
      "Вычесляем вероятности по формуле Бернулли \n",
      "\n",
      "[0.00390625 0.03125    0.109375   0.21875    0.2734375  0.21875\n",
      " 0.109375   0.03125    0.00390625]\n"
     ]
    }
   ],
   "source": [
    "vec_prob=np.array([binom(i) for i in range(0,k+1)])\n",
    "print('Вычесляем вероятности по формуле Бернулли \\n')\n",
    "print(vec_prob)"
   ]
  },
  {
   "cell_type": "code",
   "execution_count": 3,
   "metadata": {},
   "outputs": [
    {
     "name": "stdout",
     "output_type": "stream",
     "text": [
      "Кумулятивные вероятности \n",
      "\n",
      "[0.00390625, 0.03515625, 0.14453125, 0.36328125, 0.63671875, 0.85546875, 0.96484375, 0.99609375, 1.0]\n"
     ]
    }
   ],
   "source": [
    "vec_prob2=[]\n",
    "sum=0\n",
    "for i in range(k+1):\n",
    "    sum+=vec_prob[i]\n",
    "    vec_prob2.append(sum)\n",
    "print('Кумулятивные вероятности \\n')\n",
    "print(vec_prob2)"
   ]
  },
  {
   "cell_type": "code",
   "execution_count": 4,
   "metadata": {},
   "outputs": [
    {
     "data": {
      "text/html": [
       "<div>\n",
       "<style scoped>\n",
       "    .dataframe tbody tr th:only-of-type {\n",
       "        vertical-align: middle;\n",
       "    }\n",
       "\n",
       "    .dataframe tbody tr th {\n",
       "        vertical-align: top;\n",
       "    }\n",
       "\n",
       "    .dataframe thead th {\n",
       "        text-align: right;\n",
       "    }\n",
       "</style>\n",
       "<table border=\"1\" class=\"dataframe\">\n",
       "  <thead>\n",
       "    <tr style=\"text-align: right;\">\n",
       "      <th></th>\n",
       "      <th></th>\n",
       "      <th></th>\n",
       "      <th></th>\n",
       "      <th></th>\n",
       "      <th></th>\n",
       "      <th></th>\n",
       "      <th></th>\n",
       "      <th></th>\n",
       "      <th></th>\n",
       "    </tr>\n",
       "  </thead>\n",
       "  <tbody>\n",
       "    <tr>\n",
       "      <th>Значения СВ</th>\n",
       "      <td>0.000000</td>\n",
       "      <td>1.000000</td>\n",
       "      <td>2.000000</td>\n",
       "      <td>3.000000</td>\n",
       "      <td>4.000000</td>\n",
       "      <td>5.000000</td>\n",
       "      <td>6.000000</td>\n",
       "      <td>7.000000</td>\n",
       "      <td>8.000000</td>\n",
       "    </tr>\n",
       "    <tr>\n",
       "      <th>Вероятности</th>\n",
       "      <td>0.003906</td>\n",
       "      <td>0.031250</td>\n",
       "      <td>0.109375</td>\n",
       "      <td>0.218750</td>\n",
       "      <td>0.273438</td>\n",
       "      <td>0.218750</td>\n",
       "      <td>0.109375</td>\n",
       "      <td>0.031250</td>\n",
       "      <td>0.003906</td>\n",
       "    </tr>\n",
       "    <tr>\n",
       "      <th>Кумулятивные вероятности</th>\n",
       "      <td>0.003906</td>\n",
       "      <td>0.035156</td>\n",
       "      <td>0.144531</td>\n",
       "      <td>0.363281</td>\n",
       "      <td>0.636719</td>\n",
       "      <td>0.855469</td>\n",
       "      <td>0.964844</td>\n",
       "      <td>0.996094</td>\n",
       "      <td>1.000000</td>\n",
       "    </tr>\n",
       "  </tbody>\n",
       "</table>\n",
       "</div>"
      ],
      "text/plain": [
       "                                                                            \\\n",
       "Значения СВ               0.000000  1.000000  2.000000  3.000000  4.000000   \n",
       "Вероятности               0.003906  0.031250  0.109375  0.218750  0.273438   \n",
       "Кумулятивные вероятности  0.003906  0.035156  0.144531  0.363281  0.636719   \n",
       "\n",
       "                                                                  \n",
       "Значения СВ               5.000000  6.000000  7.000000  8.000000  \n",
       "Вероятности               0.218750  0.109375  0.031250  0.003906  \n",
       "Кумулятивные вероятности  0.855469  0.964844  0.996094  1.000000  "
      ]
     },
     "execution_count": 4,
     "metadata": {},
     "output_type": "execute_result"
    }
   ],
   "source": [
    "pd.DataFrame([range(k+1),vec_prob,vec_prob2],index = [\"Значения СВ\",\"Вероятности\",\"Кумулятивные вероятности\"],columns =[\" \" for i in vec_prob])"
   ]
  },
  {
   "cell_type": "markdown",
   "metadata": {},
   "source": [
    "#### 2. Моделируем вектор из  200 случайных чисел"
   ]
  },
  {
   "cell_type": "code",
   "execution_count": 11,
   "metadata": {
    "scrolled": false
   },
   "outputs": [
    {
     "name": "stdout",
     "output_type": "stream",
     "text": [
      "Вектор сдучайных велечин от 0 до 1\n"
     ]
    },
    {
     "data": {
      "text/html": [
       "<div>\n",
       "<style scoped>\n",
       "    .dataframe tbody tr th:only-of-type {\n",
       "        vertical-align: middle;\n",
       "    }\n",
       "\n",
       "    .dataframe tbody tr th {\n",
       "        vertical-align: top;\n",
       "    }\n",
       "\n",
       "    .dataframe thead th {\n",
       "        text-align: right;\n",
       "    }\n",
       "</style>\n",
       "<table border=\"1\" class=\"dataframe\">\n",
       "  <thead>\n",
       "    <tr style=\"text-align: right;\">\n",
       "      <th></th>\n",
       "      <th>0</th>\n",
       "      <th>1</th>\n",
       "      <th>2</th>\n",
       "      <th>3</th>\n",
       "      <th>4</th>\n",
       "      <th>5</th>\n",
       "      <th>6</th>\n",
       "      <th>7</th>\n",
       "      <th>8</th>\n",
       "      <th>9</th>\n",
       "      <th>...</th>\n",
       "      <th>190</th>\n",
       "      <th>191</th>\n",
       "      <th>192</th>\n",
       "      <th>193</th>\n",
       "      <th>194</th>\n",
       "      <th>195</th>\n",
       "      <th>196</th>\n",
       "      <th>197</th>\n",
       "      <th>198</th>\n",
       "      <th>199</th>\n",
       "    </tr>\n",
       "  </thead>\n",
       "  <tbody>\n",
       "    <tr>\n",
       "      <th>0</th>\n",
       "      <td>0.3867</td>\n",
       "      <td>0.5964</td>\n",
       "      <td>0.5496</td>\n",
       "      <td>0.1477</td>\n",
       "      <td>0.2159</td>\n",
       "      <td>0.2974</td>\n",
       "      <td>0.8484</td>\n",
       "      <td>0.9893</td>\n",
       "      <td>0.9276</td>\n",
       "      <td>0.8896</td>\n",
       "      <td>...</td>\n",
       "      <td>0.7953</td>\n",
       "      <td>0.0347</td>\n",
       "      <td>0.2521</td>\n",
       "      <td>0.2961</td>\n",
       "      <td>0.0736</td>\n",
       "      <td>0.6933</td>\n",
       "      <td>0.9593</td>\n",
       "      <td>0.283</td>\n",
       "      <td>0.5042</td>\n",
       "      <td>0.8411</td>\n",
       "    </tr>\n",
       "  </tbody>\n",
       "</table>\n",
       "<p>1 rows × 200 columns</p>\n",
       "</div>"
      ],
      "text/plain": [
       "      0       1       2       3       4       5       6       7       8    \\\n",
       "0  0.3867  0.5964  0.5496  0.1477  0.2159  0.2974  0.8484  0.9893  0.9276   \n",
       "\n",
       "      9    ...     190     191     192     193     194     195     196    197  \\\n",
       "0  0.8896  ...  0.7953  0.0347  0.2521  0.2961  0.0736  0.6933  0.9593  0.283   \n",
       "\n",
       "      198     199  \n",
       "0  0.5042  0.8411  \n",
       "\n",
       "[1 rows x 200 columns]"
      ]
     },
     "execution_count": 11,
     "metadata": {},
     "output_type": "execute_result"
    }
   ],
   "source": [
    "y=np.random.sample(n)\n",
    "print('Вектор сдучайных велечин от 0 до 1')\n",
    "pd.DataFrame([[round(i,4) for i in y]])"
   ]
  },
  {
   "cell_type": "markdown",
   "metadata": {},
   "source": [
    "#### 3. По вектору из случайных чисел  разыгрываем вектор X в соответсвии с алгоритмом"
   ]
  },
  {
   "cell_type": "code",
   "execution_count": 12,
   "metadata": {},
   "outputs": [
    {
     "name": "stdout",
     "output_type": "stream",
     "text": [
      "Получ вектор X:\n"
     ]
    },
    {
     "data": {
      "text/html": [
       "<div>\n",
       "<style scoped>\n",
       "    .dataframe tbody tr th:only-of-type {\n",
       "        vertical-align: middle;\n",
       "    }\n",
       "\n",
       "    .dataframe tbody tr th {\n",
       "        vertical-align: top;\n",
       "    }\n",
       "\n",
       "    .dataframe thead th {\n",
       "        text-align: right;\n",
       "    }\n",
       "</style>\n",
       "<table border=\"1\" class=\"dataframe\">\n",
       "  <thead>\n",
       "    <tr style=\"text-align: right;\">\n",
       "      <th></th>\n",
       "      <th>0</th>\n",
       "      <th>1</th>\n",
       "      <th>2</th>\n",
       "      <th>3</th>\n",
       "      <th>4</th>\n",
       "      <th>5</th>\n",
       "      <th>6</th>\n",
       "      <th>7</th>\n",
       "      <th>8</th>\n",
       "      <th>9</th>\n",
       "      <th>...</th>\n",
       "      <th>190</th>\n",
       "      <th>191</th>\n",
       "      <th>192</th>\n",
       "      <th>193</th>\n",
       "      <th>194</th>\n",
       "      <th>195</th>\n",
       "      <th>196</th>\n",
       "      <th>197</th>\n",
       "      <th>198</th>\n",
       "      <th>199</th>\n",
       "    </tr>\n",
       "  </thead>\n",
       "  <tbody>\n",
       "    <tr>\n",
       "      <th>0</th>\n",
       "      <td>4</td>\n",
       "      <td>4</td>\n",
       "      <td>4</td>\n",
       "      <td>3</td>\n",
       "      <td>3</td>\n",
       "      <td>3</td>\n",
       "      <td>5</td>\n",
       "      <td>7</td>\n",
       "      <td>6</td>\n",
       "      <td>6</td>\n",
       "      <td>...</td>\n",
       "      <td>5</td>\n",
       "      <td>1</td>\n",
       "      <td>3</td>\n",
       "      <td>3</td>\n",
       "      <td>2</td>\n",
       "      <td>5</td>\n",
       "      <td>6</td>\n",
       "      <td>3</td>\n",
       "      <td>4</td>\n",
       "      <td>5</td>\n",
       "    </tr>\n",
       "  </tbody>\n",
       "</table>\n",
       "<p>1 rows × 200 columns</p>\n",
       "</div>"
      ],
      "text/plain": [
       "   0    1    2    3    4    5    6    7    8    9    ...  190  191  192  193  \\\n",
       "0    4    4    4    3    3    3    5    7    6    6  ...    5    1    3    3   \n",
       "\n",
       "   194  195  196  197  198  199  \n",
       "0    2    5    6    3    4    5  \n",
       "\n",
       "[1 rows x 200 columns]"
      ]
     },
     "execution_count": 12,
     "metadata": {},
     "output_type": "execute_result"
    }
   ],
   "source": [
    "x=[]\n",
    "for i in range(n):\n",
    "    for j in range(k+1):\n",
    "        if y[i] < vec_prob2[j]:\n",
    "            x.append(j)\n",
    "            break\n",
    "print(\"Получ вектор X:\")\n",
    "pd.DataFrame([x])"
   ]
  },
  {
   "cell_type": "markdown",
   "metadata": {},
   "source": [
    "#### 4. Строим статистический ряд"
   ]
  },
  {
   "cell_type": "code",
   "execution_count": 37,
   "metadata": {},
   "outputs": [
    {
     "data": {
      "text/html": [
       "<div>\n",
       "<style scoped>\n",
       "    .dataframe tbody tr th:only-of-type {\n",
       "        vertical-align: middle;\n",
       "    }\n",
       "\n",
       "    .dataframe tbody tr th {\n",
       "        vertical-align: top;\n",
       "    }\n",
       "\n",
       "    .dataframe thead th {\n",
       "        text-align: right;\n",
       "    }\n",
       "</style>\n",
       "<table border=\"1\" class=\"dataframe\">\n",
       "  <thead>\n",
       "    <tr style=\"text-align: right;\">\n",
       "      <th></th>\n",
       "      <th></th>\n",
       "      <th></th>\n",
       "      <th></th>\n",
       "      <th></th>\n",
       "      <th></th>\n",
       "      <th></th>\n",
       "      <th></th>\n",
       "      <th></th>\n",
       "      <th></th>\n",
       "    </tr>\n",
       "  </thead>\n",
       "  <tbody>\n",
       "    <tr>\n",
       "      <th>Значение СВ</th>\n",
       "      <td>0.000</td>\n",
       "      <td>1.000</td>\n",
       "      <td>2.000</td>\n",
       "      <td>3.000</td>\n",
       "      <td>4.000</td>\n",
       "      <td>5.000</td>\n",
       "      <td>6.000</td>\n",
       "      <td>7.000</td>\n",
       "      <td>8.000</td>\n",
       "    </tr>\n",
       "    <tr>\n",
       "      <th>Частоты</th>\n",
       "      <td>1.000</td>\n",
       "      <td>6.000</td>\n",
       "      <td>24.000</td>\n",
       "      <td>37.000</td>\n",
       "      <td>59.000</td>\n",
       "      <td>46.000</td>\n",
       "      <td>20.000</td>\n",
       "      <td>6.000</td>\n",
       "      <td>1.000</td>\n",
       "    </tr>\n",
       "    <tr>\n",
       "      <th>Относительные частоты</th>\n",
       "      <td>0.005</td>\n",
       "      <td>0.030</td>\n",
       "      <td>0.120</td>\n",
       "      <td>0.185</td>\n",
       "      <td>0.295</td>\n",
       "      <td>0.230</td>\n",
       "      <td>0.100</td>\n",
       "      <td>0.030</td>\n",
       "      <td>0.005</td>\n",
       "    </tr>\n",
       "    <tr>\n",
       "      <th>Накопительные частоты</th>\n",
       "      <td>0.005</td>\n",
       "      <td>0.035</td>\n",
       "      <td>0.155</td>\n",
       "      <td>0.340</td>\n",
       "      <td>0.635</td>\n",
       "      <td>0.865</td>\n",
       "      <td>0.965</td>\n",
       "      <td>0.995</td>\n",
       "      <td>1.000</td>\n",
       "    </tr>\n",
       "  </tbody>\n",
       "</table>\n",
       "</div>"
      ],
      "text/plain": [
       "                                                                             \\\n",
       "Значение СВ            0.000  1.000   2.000   3.000   4.000   5.000   6.000   \n",
       "Частоты                1.000  6.000  24.000  37.000  59.000  46.000  20.000   \n",
       "Относительные частоты  0.005  0.030   0.120   0.185   0.295   0.230   0.100   \n",
       "Накопительные частоты  0.005  0.035   0.155   0.340   0.635   0.865   0.965   \n",
       "\n",
       "                                     \n",
       "Значение СВ            7.000  8.000  \n",
       "Частоты                6.000  1.000  \n",
       "Относительные частоты  0.030  0.005  \n",
       "Накопительные частоты  0.995  1.000  "
      ]
     },
     "execution_count": 37,
     "metadata": {},
     "output_type": "execute_result"
    },
    {
     "data": {
      "image/png": "[encoded data removed]",
      "text/plain": [
       "<Figure size 432x288 with 1 Axes>"
      ]
     },
     "metadata": {
      "needs_background": "light"
     },
     "output_type": "display_data"
    }
   ],
   "source": [
    "out=plt.hist(x,max(x)-min(x)+1)\n",
    "\n",
    "sum=0\n",
    "emp_func=[]\n",
    "for i in out[0]:\n",
    "    sum+=i\n",
    "    emp_func.append(sum/n)\n",
    "emp_func\n",
    "  \n",
    "pd.DataFrame([[i for i in range(len(out[0]))],out[0],out[0]/n,emp_func], index = [\"Значение СВ\",\"Частоты\",\"Относительные частоты\",\"Накопительные частоты\"],columns =[\" \" for i in out[0]])"
   ]
  },
  {
   "cell_type": "markdown",
   "metadata": {},
   "source": [
    "#### 5. Находим эмпирическую функцию распределения и строим совмещенные графики"
   ]
  },
  {
   "cell_type": "code",
   "execution_count": 49,
   "metadata": {},
   "outputs": [
    {
     "data": {
      "image/png": "[encoded data removed]",
      "text/plain": [
       "<Figure size 792x576 with 1 Axes>"
      ]
     },
     "metadata": {
      "needs_background": "light"
     },
     "output_type": "display_data"
    }
   ],
   "source": [
    "plt.figure(figsize=(11,8))\n",
    "plt.step(range(len(vec_prob2)),vec_prob2,color='red',where='post',linewidth = 3)\n",
    "plt.step(range(len(emp_func)),emp_func,'--',color='blue',where='post',linewidth = 3)\n",
    "plt.legend(['теоритическая функция распределения ','эмпирическая функция распределения '], loc=2, fontsize = 13)\n",
    "plt.title(r' Графики $𝐹(𝑥)$ и $\\widehat{F}_𝑛(𝑥)$',fontsize = 20)\n",
    "plt.show()"
   ]
  },
  {
   "cell_type": "markdown",
   "metadata": {},
   "source": [
    "#### 6. Вычисляем статистику Колмогорова:"
   ]
  },
  {
   "cell_type": "markdown",
   "metadata": {},
   "source": [
    "max( |$𝐹(𝑥)$ - $\\widehat{F}_𝑛(𝑥)$| )"
   ]
  },
  {
   "cell_type": "code",
   "execution_count": 87,
   "metadata": {},
   "outputs": [
    {
     "name": "stdout",
     "output_type": "stream",
     "text": [
      "Статистика Колмогорова: 0.02328\n"
     ]
    }
   ],
   "source": [
    "vec_k=abs(np.array(vec_prob2)-np.array(emp_func))\n",
    "print('Статистика Колмогорова:',round(max(vec_k),5))"
   ]
  },
  {
   "cell_type": "markdown",
   "metadata": {},
   "source": [
    "#### 7. Вычисляем выборочное среднее и выборочную дисперсию и сравниваем с истинными значениями этих характеристик."
   ]
  },
  {
   "cell_type": "code",
   "execution_count": 95,
   "metadata": {
    "scrolled": true
   },
   "outputs": [
    {
     "data": {
      "text/html": [
       "<div>\n",
       "<style scoped>\n",
       "    .dataframe tbody tr th:only-of-type {\n",
       "        vertical-align: middle;\n",
       "    }\n",
       "\n",
       "    .dataframe tbody tr th {\n",
       "        vertical-align: top;\n",
       "    }\n",
       "\n",
       "    .dataframe thead th {\n",
       "        text-align: right;\n",
       "    }\n",
       "</style>\n",
       "<table border=\"1\" class=\"dataframe\">\n",
       "  <thead>\n",
       "    <tr style=\"text-align: right;\">\n",
       "      <th></th>\n",
       "      <th>Теоритическая</th>\n",
       "      <th>Эмпирическая</th>\n",
       "      <th>Разница</th>\n",
       "    </tr>\n",
       "  </thead>\n",
       "  <tbody>\n",
       "    <tr>\n",
       "      <th>Матожидание</th>\n",
       "      <td>4.0</td>\n",
       "      <td>4.005</td>\n",
       "      <td>0.005</td>\n",
       "    </tr>\n",
       "    <tr>\n",
       "      <th>Дисперсия</th>\n",
       "      <td>2.0</td>\n",
       "      <td>1.995</td>\n",
       "      <td>1.003</td>\n",
       "    </tr>\n",
       "  </tbody>\n",
       "</table>\n",
       "</div>"
      ],
      "text/plain": [
       "             Теоритическая  Эмпирическая  Разница\n",
       "Матожидание            4.0         4.005    0.005\n",
       "Дисперсия              2.0         1.995    1.003"
      ]
     },
     "execution_count": 95,
     "metadata": {},
     "output_type": "execute_result"
    }
   ],
   "source": [
    "M=k*p\n",
    "D=M*(1-p)\n",
    "\n",
    "M2=np.average(np.array(x))\n",
    "D2=np.average(np.array(x)**2) - M2**2\n",
    "\n",
    "pd.DataFrame([[M,M2,round(abs(M-M2),3)],[D,round(D2,3),round(abs(D/D2),3)]],[\"Матожидание\",\"Дисперсия\"],[\"Теоритическая\",\"Эмпирическая\",\"Разница\"])"
   ]
  },
  {
   "cell_type": "markdown",
   "metadata": {},
   "source": [
    "### Вывод: смоделированая выбока подчиняется биномиальному закону с параметрами k=8  p=0.5 n=200"
   ]
  }
 ],
 "metadata": {
  "kernelspec": {
   "display_name": "Python 3",
   "language": "python",
   "name": "python3"
  },
  "language_info": {
   "codemirror_mode": {
    "name": "ipython",
    "version": 3
   },
   "file_extension": ".py",
   "mimetype": "text/x-python",
   "name": "python",
   "nbconvert_exporter": "python",
   "pygments_lexer": "ipython3",
   "version": "3.8.10"
  }
 },
 "nbformat": 4,
 "nbformat_minor": 4
}
