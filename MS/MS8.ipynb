{
 "cells": [
  {
   "cell_type": "code",
   "execution_count": 5,
   "metadata": {},
   "outputs": [],
   "source": [
    "import pandas as pd\n",
    "import math\n",
    "import numpy as np\n",
    "import matplotlib.pyplot as plt\n",
    "import scipy.stats as sc\n",
    "import sympy as sp\n",
    "from IPython.display import *\n",
    "import scipy\n",
    "\n",
    "s='''\n",
    "9.974   8.769  11.169   6.089   9.497  10.914  17.721   8.847  13.410  7.966\n",
    " 2.097   7.470   7.498  15.914   9.336  13.731  12.941  11.747   6.995  23.857\n",
    " 7.943   6.636   8.725   9.728   6.427   8.422   4.367  20.900   8.030  9.831\n",
    " 9.369   9.933   8.242   4.476   7.178  11.306  11.095  14.297  12.923  22.787\n",
    " 5.911  19.797   6.734   6.024   6.086   8.644  13.809   6.906   6.339  6.228\n",
    "13.436   9.803  13.899   3.473  13.693   6.658   3.544  14.835   8.934  12.180\n",
    " 7.366  14.966  11.168   7.616   5.919   4.987   9.858  14.669   9.285  13.856\n",
    " 4.873  10.896   7.461   7.497   7.088   7.122   8.463   9.898  15.343  3.870\n",
    " 8.198   6.425  17.598  12.493   8.655  10.662  14.056   8.354  11.957  22.368\n",
    "18.069   8.902   7.868  10.460   2.759  10.486   5.042   8.146   3.510  6.876\n",
    "10.082   6.567  14.522  11.860   3.998  15.943   7.685  12.459   5.407  9.684\n",
    " 6.562   4.830  12.677  14.424   9.893   7.860  19.988  15.974  11.315  10.337\n",
    " '''\n",
    "alfa = 0.05\n",
    "\n",
    "xx=[float(i) for i in s.split()]"
   ]
  },
  {
   "cell_type": "markdown",
   "metadata": {},
   "source": [
    "Задача 8"
   ]
  },
  {
   "cell_type": "markdown",
   "metadata": {},
   "source": [
    "Гусейнов М.А ФН11-53б"
   ]
  },
  {
   "cell_type": "markdown",
   "metadata": {},
   "source": [
    "Вариант 8"
   ]
  },
  {
   "cell_type": "markdown",
   "metadata": {},
   "source": [
    "### Задание \n",
    "#### 1. Используя группированную выборку из задачи 1, проверьте на уровне 1 − α гипотезу H0 : выборка взята из генеральной совокупности, распределённой по закону $\\chi^2(n) $, α = 0.05 \n",
    "#### 2. Неизвестные параметры распределения оценить методом моментов или методом максимального правдоподобия\n",
    "#### 3. Постройте совмещённые графики гистограммы относительных частот и плотности, соответствующей функции распределения F(x)"
   ]
  },
  {
   "cell_type": "markdown",
   "metadata": {},
   "source": [
    "### Решение"
   ]
  },
  {
   "cell_type": "markdown",
   "metadata": {},
   "source": [
    "#### Выведем выборку:"
   ]
  },
  {
   "cell_type": "code",
   "execution_count": 6,
   "metadata": {},
   "outputs": [
    {
     "data": {
      "text/html": [
       "<div>\n",
       "<style scoped>\n",
       "    .dataframe tbody tr th:only-of-type {\n",
       "        vertical-align: middle;\n",
       "    }\n",
       "\n",
       "    .dataframe tbody tr th {\n",
       "        vertical-align: top;\n",
       "    }\n",
       "\n",
       "    .dataframe thead th {\n",
       "        text-align: right;\n",
       "    }\n",
       "</style>\n",
       "<table border=\"1\" class=\"dataframe\">\n",
       "  <thead>\n",
       "    <tr style=\"text-align: right;\">\n",
       "      <th></th>\n",
       "      <th>0</th>\n",
       "      <th>1</th>\n",
       "      <th>2</th>\n",
       "      <th>3</th>\n",
       "      <th>4</th>\n",
       "      <th>5</th>\n",
       "      <th>6</th>\n",
       "      <th>7</th>\n",
       "      <th>8</th>\n",
       "      <th>9</th>\n",
       "    </tr>\n",
       "  </thead>\n",
       "  <tbody>\n",
       "    <tr>\n",
       "      <th>0</th>\n",
       "      <td>9.974</td>\n",
       "      <td>8.769</td>\n",
       "      <td>11.169</td>\n",
       "      <td>6.089</td>\n",
       "      <td>9.497</td>\n",
       "      <td>10.914</td>\n",
       "      <td>17.721</td>\n",
       "      <td>8.847</td>\n",
       "      <td>13.410</td>\n",
       "      <td>7.966</td>\n",
       "    </tr>\n",
       "    <tr>\n",
       "      <th>1</th>\n",
       "      <td>2.097</td>\n",
       "      <td>7.470</td>\n",
       "      <td>7.498</td>\n",
       "      <td>15.914</td>\n",
       "      <td>9.336</td>\n",
       "      <td>13.731</td>\n",
       "      <td>12.941</td>\n",
       "      <td>11.747</td>\n",
       "      <td>6.995</td>\n",
       "      <td>23.857</td>\n",
       "    </tr>\n",
       "    <tr>\n",
       "      <th>2</th>\n",
       "      <td>7.943</td>\n",
       "      <td>6.636</td>\n",
       "      <td>8.725</td>\n",
       "      <td>9.728</td>\n",
       "      <td>6.427</td>\n",
       "      <td>8.422</td>\n",
       "      <td>4.367</td>\n",
       "      <td>20.900</td>\n",
       "      <td>8.030</td>\n",
       "      <td>9.831</td>\n",
       "    </tr>\n",
       "    <tr>\n",
       "      <th>3</th>\n",
       "      <td>9.369</td>\n",
       "      <td>9.933</td>\n",
       "      <td>8.242</td>\n",
       "      <td>4.476</td>\n",
       "      <td>7.178</td>\n",
       "      <td>11.306</td>\n",
       "      <td>11.095</td>\n",
       "      <td>14.297</td>\n",
       "      <td>12.923</td>\n",
       "      <td>22.787</td>\n",
       "    </tr>\n",
       "    <tr>\n",
       "      <th>4</th>\n",
       "      <td>5.911</td>\n",
       "      <td>19.797</td>\n",
       "      <td>6.734</td>\n",
       "      <td>6.024</td>\n",
       "      <td>6.086</td>\n",
       "      <td>8.644</td>\n",
       "      <td>13.809</td>\n",
       "      <td>6.906</td>\n",
       "      <td>6.339</td>\n",
       "      <td>6.228</td>\n",
       "    </tr>\n",
       "    <tr>\n",
       "      <th>5</th>\n",
       "      <td>13.436</td>\n",
       "      <td>9.803</td>\n",
       "      <td>13.899</td>\n",
       "      <td>3.473</td>\n",
       "      <td>13.693</td>\n",
       "      <td>6.658</td>\n",
       "      <td>3.544</td>\n",
       "      <td>14.835</td>\n",
       "      <td>8.934</td>\n",
       "      <td>12.180</td>\n",
       "    </tr>\n",
       "    <tr>\n",
       "      <th>6</th>\n",
       "      <td>7.366</td>\n",
       "      <td>14.966</td>\n",
       "      <td>11.168</td>\n",
       "      <td>7.616</td>\n",
       "      <td>5.919</td>\n",
       "      <td>4.987</td>\n",
       "      <td>9.858</td>\n",
       "      <td>14.669</td>\n",
       "      <td>9.285</td>\n",
       "      <td>13.856</td>\n",
       "    </tr>\n",
       "    <tr>\n",
       "      <th>7</th>\n",
       "      <td>4.873</td>\n",
       "      <td>10.896</td>\n",
       "      <td>7.461</td>\n",
       "      <td>7.497</td>\n",
       "      <td>7.088</td>\n",
       "      <td>7.122</td>\n",
       "      <td>8.463</td>\n",
       "      <td>9.898</td>\n",
       "      <td>15.343</td>\n",
       "      <td>3.870</td>\n",
       "    </tr>\n",
       "    <tr>\n",
       "      <th>8</th>\n",
       "      <td>8.198</td>\n",
       "      <td>6.425</td>\n",
       "      <td>17.598</td>\n",
       "      <td>12.493</td>\n",
       "      <td>8.655</td>\n",
       "      <td>10.662</td>\n",
       "      <td>14.056</td>\n",
       "      <td>8.354</td>\n",
       "      <td>11.957</td>\n",
       "      <td>22.368</td>\n",
       "    </tr>\n",
       "    <tr>\n",
       "      <th>9</th>\n",
       "      <td>18.069</td>\n",
       "      <td>8.902</td>\n",
       "      <td>7.868</td>\n",
       "      <td>10.460</td>\n",
       "      <td>2.759</td>\n",
       "      <td>10.486</td>\n",
       "      <td>5.042</td>\n",
       "      <td>8.146</td>\n",
       "      <td>3.510</td>\n",
       "      <td>6.876</td>\n",
       "    </tr>\n",
       "    <tr>\n",
       "      <th>10</th>\n",
       "      <td>10.082</td>\n",
       "      <td>6.567</td>\n",
       "      <td>14.522</td>\n",
       "      <td>11.860</td>\n",
       "      <td>3.998</td>\n",
       "      <td>15.943</td>\n",
       "      <td>7.685</td>\n",
       "      <td>12.459</td>\n",
       "      <td>5.407</td>\n",
       "      <td>9.684</td>\n",
       "    </tr>\n",
       "    <tr>\n",
       "      <th>11</th>\n",
       "      <td>6.562</td>\n",
       "      <td>4.830</td>\n",
       "      <td>12.677</td>\n",
       "      <td>14.424</td>\n",
       "      <td>9.893</td>\n",
       "      <td>7.860</td>\n",
       "      <td>19.988</td>\n",
       "      <td>15.974</td>\n",
       "      <td>11.315</td>\n",
       "      <td>10.337</td>\n",
       "    </tr>\n",
       "  </tbody>\n",
       "</table>\n",
       "</div>"
      ],
      "text/plain": [
       "         0       1       2       3       4       5       6       7       8  \\\n",
       "0    9.974   8.769  11.169   6.089   9.497  10.914  17.721   8.847  13.410   \n",
       "1    2.097   7.470   7.498  15.914   9.336  13.731  12.941  11.747   6.995   \n",
       "2    7.943   6.636   8.725   9.728   6.427   8.422   4.367  20.900   8.030   \n",
       "3    9.369   9.933   8.242   4.476   7.178  11.306  11.095  14.297  12.923   \n",
       "4    5.911  19.797   6.734   6.024   6.086   8.644  13.809   6.906   6.339   \n",
       "5   13.436   9.803  13.899   3.473  13.693   6.658   3.544  14.835   8.934   \n",
       "6    7.366  14.966  11.168   7.616   5.919   4.987   9.858  14.669   9.285   \n",
       "7    4.873  10.896   7.461   7.497   7.088   7.122   8.463   9.898  15.343   \n",
       "8    8.198   6.425  17.598  12.493   8.655  10.662  14.056   8.354  11.957   \n",
       "9   18.069   8.902   7.868  10.460   2.759  10.486   5.042   8.146   3.510   \n",
       "10  10.082   6.567  14.522  11.860   3.998  15.943   7.685  12.459   5.407   \n",
       "11   6.562   4.830  12.677  14.424   9.893   7.860  19.988  15.974  11.315   \n",
       "\n",
       "         9  \n",
       "0    7.966  \n",
       "1   23.857  \n",
       "2    9.831  \n",
       "3   22.787  \n",
       "4    6.228  \n",
       "5   12.180  \n",
       "6   13.856  \n",
       "7    3.870  \n",
       "8   22.368  \n",
       "9    6.876  \n",
       "10   9.684  \n",
       "11  10.337  "
      ]
     },
     "execution_count": 6,
     "metadata": {},
     "output_type": "execute_result"
    }
   ],
   "source": [
    "pd.DataFrame(np.reshape(xx,(12,10)))"
   ]
  },
  {
   "cell_type": "markdown",
   "metadata": {},
   "source": [
    "#### Оценка параметров"
   ]
  },
  {
   "cell_type": "code",
   "execution_count": 7,
   "metadata": {},
   "outputs": [
    {
     "name": "stdout",
     "output_type": "stream",
     "text": [
      "Выборочное среднее: 10.02202\n"
     ]
    }
   ],
   "source": [
    "xx=np.array(xx)\n",
    "omega =max(xx)-min(xx)\n",
    "\n",
    "xm =np.average(xx)\n",
    "print('Выборочное среднее:',round(xm,5) )"
   ]
  },
  {
   "cell_type": "markdown",
   "metadata": {},
   "source": [
    "$n = \\overline{X}$"
   ]
  },
  {
   "cell_type": "markdown",
   "metadata": {},
   "source": [
    "#### По правилу Стёрджеса определим количество интервалов, разобьём отрезок на интервалы"
   ]
  },
  {
   "cell_type": "code",
   "execution_count": 66,
   "metadata": {},
   "outputs": [
    {
     "name": "stdout",
     "output_type": "stream",
     "text": [
      "Количество интервалов:7\n",
      "[ 2.097       5.20557143  8.31414286 11.42271429 14.53128571 17.63985714\n",
      " 20.74842857 23.857     ]\n"
     ]
    },
    {
     "data": {
      "image/png": "[encoded data removed]",
      "text/plain": [
       "<Figure size 648x360 with 1 Axes>"
      ]
     },
     "metadata": {
      "needs_background": "light"
     },
     "output_type": "display_data"
    }
   ],
   "source": [
    "l= math.trunc(1+math.log(120,2))\n",
    "h = omega/l\n",
    "size = 120\n",
    "print(\"Количество интервалов:\" + str(l))\n",
    "plt.figure(figsize=(9,5))\n",
    "out=plt.hist(xx,l)\n",
    "print(out[1])"
   ]
  },
  {
   "cell_type": "markdown",
   "metadata": {},
   "source": [
    "#### Подсчитаем эмпирические частоты и теоретические вероятности:"
   ]
  },
  {
   "cell_type": "code",
   "execution_count": 67,
   "metadata": {},
   "outputs": [
    {
     "data": {
      "text/html": [
       "<div>\n",
       "<style scoped>\n",
       "    .dataframe tbody tr th:only-of-type {\n",
       "        vertical-align: middle;\n",
       "    }\n",
       "\n",
       "    .dataframe tbody tr th {\n",
       "        vertical-align: top;\n",
       "    }\n",
       "\n",
       "    .dataframe thead th {\n",
       "        text-align: right;\n",
       "    }\n",
       "</style>\n",
       "<table border=\"1\" class=\"dataframe\">\n",
       "  <thead>\n",
       "    <tr style=\"text-align: right;\">\n",
       "      <th></th>\n",
       "      <th>(2.097;5.206]</th>\n",
       "      <th>(5.206;8.314]</th>\n",
       "      <th>(8.314;11.423]</th>\n",
       "      <th>(11.423;14.531]</th>\n",
       "      <th>(14.531;17.64]</th>\n",
       "      <th>(17.64;20.748]</th>\n",
       "      <th>(20.748;23.857]</th>\n",
       "    </tr>\n",
       "  </thead>\n",
       "  <tbody>\n",
       "    <tr>\n",
       "      <th>Эмпирические частоты:</th>\n",
       "      <td>13.000</td>\n",
       "      <td>36.000</td>\n",
       "      <td>35.000</td>\n",
       "      <td>20.000</td>\n",
       "      <td>8.000</td>\n",
       "      <td>4.000</td>\n",
       "      <td>4.000</td>\n",
       "    </tr>\n",
       "    <tr>\n",
       "      <th>Теоретические частоты:</th>\n",
       "      <td>13.771</td>\n",
       "      <td>34.424</td>\n",
       "      <td>33.181</td>\n",
       "      <td>21.033</td>\n",
       "      <td>10.518</td>\n",
       "      <td>4.516</td>\n",
       "      <td>1.742</td>\n",
       "    </tr>\n",
       "  </tbody>\n",
       "</table>\n",
       "</div>"
      ],
      "text/plain": [
       "                        (2.097;5.206]  (5.206;8.314]  (8.314;11.423]  \\\n",
       "Эмпирические частоты:          13.000         36.000          35.000   \n",
       "Теоретические частоты:         13.771         34.424          33.181   \n",
       "\n",
       "                        (11.423;14.531]  (14.531;17.64]  (17.64;20.748]  \\\n",
       "Эмпирические частоты:            20.000           8.000           4.000   \n",
       "Теоретические частоты:           21.033          10.518           4.516   \n",
       "\n",
       "                        (20.748;23.857]  \n",
       "Эмпирические частоты:             4.000  \n",
       "Теоретические частоты:            1.742  "
      ]
     },
     "execution_count": 67,
     "metadata": {},
     "output_type": "execute_result"
    }
   ],
   "source": [
    "p = lambda x: sc.chi2.pdf(x,xm)\n",
    "probs = np.array([p(out[1][i] + h/2) for i in range(len(out[1])-1)])\n",
    "intervals = [\"(\"+str(round(out[1][i-1],3))+\";\"+str(round(out[1][i],3))+\"]\" for i in range(1, len(out[1]))]\n",
    "\n",
    "pd.DataFrame([out[0], (h*size*probs).round(3)],[\"Эмпирические частоты:\",\"Теоретические частоты:\"],intervals)"
   ]
  },
  {
   "cell_type": "code",
   "execution_count": 68,
   "metadata": {},
   "outputs": [
    {
     "data": {
      "text/html": [
       "<div>\n",
       "<style scoped>\n",
       "    .dataframe tbody tr th:only-of-type {\n",
       "        vertical-align: middle;\n",
       "    }\n",
       "\n",
       "    .dataframe tbody tr th {\n",
       "        vertical-align: top;\n",
       "    }\n",
       "\n",
       "    .dataframe thead th {\n",
       "        text-align: right;\n",
       "    }\n",
       "</style>\n",
       "<table border=\"1\" class=\"dataframe\">\n",
       "  <thead>\n",
       "    <tr style=\"text-align: right;\">\n",
       "      <th></th>\n",
       "      <th>0</th>\n",
       "      <th>1</th>\n",
       "      <th>2</th>\n",
       "      <th>3</th>\n",
       "      <th>4</th>\n",
       "      <th>5</th>\n",
       "    </tr>\n",
       "  </thead>\n",
       "  <tbody>\n",
       "    <tr>\n",
       "      <th>Эмпирические частоты:</th>\n",
       "      <td>13.000</td>\n",
       "      <td>36.000</td>\n",
       "      <td>35.000</td>\n",
       "      <td>20.000</td>\n",
       "      <td>8.000</td>\n",
       "      <td>8.000</td>\n",
       "    </tr>\n",
       "    <tr>\n",
       "      <th>Теоретические частоты:</th>\n",
       "      <td>13.771</td>\n",
       "      <td>34.424</td>\n",
       "      <td>33.181</td>\n",
       "      <td>21.033</td>\n",
       "      <td>10.518</td>\n",
       "      <td>6.258</td>\n",
       "    </tr>\n",
       "  </tbody>\n",
       "</table>\n",
       "</div>"
      ],
      "text/plain": [
       "                             0       1       2       3       4      5\n",
       "Эмпирические частоты:   13.000  36.000  35.000  20.000   8.000  8.000\n",
       "Теоретические частоты:  13.771  34.424  33.181  21.033  10.518  6.258"
      ]
     },
     "execution_count": 68,
     "metadata": {},
     "output_type": "execute_result"
    }
   ],
   "source": [
    "probs2 = []\n",
    "out2 = []\n",
    "\n",
    "probs2 = probs[:-1]\n",
    "probs2[-1] += probs[-1]\n",
    "\n",
    "out2 = out[0][:-1]\n",
    "out2[-1] += out[0][-1]\n",
    "\n",
    "\n",
    "pd.DataFrame([out2, (h*size*probs2).round(3)],[\"Эмпирические частоты:\",\"Теоретические частоты:\"])"
   ]
  },
  {
   "cell_type": "markdown",
   "metadata": {},
   "source": [
    "#### Подсчитаем 0.98 квантиль распределения $ χ^2 (m − 1) $:"
   ]
  },
  {
   "cell_type": "code",
   "execution_count": 30,
   "metadata": {},
   "outputs": [
    {
     "data": {
      "text/plain": [
       "9.487729036781154"
      ]
     },
     "execution_count": 30,
     "metadata": {},
     "output_type": "execute_result"
    }
   ],
   "source": [
    "chi = sc.chi2.ppf(1-alfa, l - 3)\n",
    "chi"
   ]
  },
  {
   "cell_type": "markdown",
   "metadata": {},
   "source": [
    "#### Построем совмещенные графики гистограммы относительных частот и плотности функции распределения  "
   ]
  },
  {
   "cell_type": "code",
   "execution_count": 142,
   "metadata": {},
   "outputs": [
    {
     "data": {
      "text/plain": [
       "[<matplotlib.lines.Line2D at 0x7f5ca8b7eb80>]"
      ]
     },
     "execution_count": 142,
     "metadata": {},
     "output_type": "execute_result"
    },
    {
     "data": {
      "image/png": "[encoded data removed]",
      "text/plain": [
       "<Figure size 648x360 with 1 Axes>"
      ]
     },
     "metadata": {
      "needs_background": "light"
     },
     "output_type": "display_data"
    }
   ],
   "source": [
    "xlin = np.linspace(0,25,1000)\n",
    "plt.figure(figsize=(9,5))\n",
    "out2 = plt.hist(xx,l,density = True)\n",
    "plt.plot(xlin,sc.chi2.pdf(xlin,xm))"
   ]
  },
  {
   "cell_type": "markdown",
   "metadata": {},
   "source": [
    "#### Проверим гипотезу:"
   ]
  },
  {
   "cell_type": "code",
   "execution_count": 69,
   "metadata": {},
   "outputs": [
    {
     "name": "stdout",
     "output_type": "stream",
     "text": [
      "Вывод: 1.353595 (Статистика) < Верхняя квантиль: 9.49 => принимаем гипотезу\n"
     ]
    }
   ],
   "source": [
    "D = ((out2 - h*size*probs2)**2/(h*size*probs2)).sum()\n",
    "print(\"Вывод: \" + str(round(D,6)) + \" (Статистика)\" + \" < \" +\\\n",
    "\"Верхняя квантиль: \" + str(round(chi,2)) + \" => принимаем гипотезу\")"
   ]
  }
 ],
 "metadata": {
  "kernelspec": {
   "display_name": "Python 3",
   "language": "python",
   "name": "python3"
  },
  "language_info": {
   "codemirror_mode": {
    "name": "ipython",
    "version": 3
   },
   "file_extension": ".py",
   "mimetype": "text/x-python",
   "name": "python",
   "nbconvert_exporter": "python",
   "pygments_lexer": "ipython3",
   "version": "3.8.10"
  }
 },
 "nbformat": 4,
 "nbformat_minor": 4
}
