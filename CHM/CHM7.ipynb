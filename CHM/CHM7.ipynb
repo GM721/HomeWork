{
 "cells": [
  {
   "cell_type": "code",
   "execution_count": 2,
   "metadata": {},
   "outputs": [],
   "source": [
    "import pandas as pd\n",
    "import math\n",
    "import numpy as np\n",
    "import matplotlib.pyplot as plt\n",
    "import scipy.stats as sc\n",
    "import sympy as sp\n",
    "from sympy.matrices import Matrix \n",
    "from sympy import dsolve, Symbol, Eq, Function, integrate, diff, solve, symbols, linsolve, plot, exp, sin, cos, sqrt, Matrix, init_printing"
   ]
  },
  {
   "cell_type": "code",
   "execution_count": 42,
   "metadata": {
    "scrolled": true
   },
   "outputs": [
    {
     "name": "stdout",
     "output_type": "stream",
     "text": [
      "λ = 0.375\n"
     ]
    }
   ],
   "source": [
    "n = 40\n",
    "h = 1.5/(n-1)\n",
    "lm = 3/(2*(53-49))\n",
    "a = 0\n",
    "b = 1.5\n",
    "\n",
    "y = sp.Function('y')\n",
    "t = sp.Symbol('\\u03C4')\n",
    "s = sp.Symbol('s')\n",
    "x = Function('x')(s)\n",
    "C1, C2 = symbols('C1, C2')\n",
    "\n",
    "print('\\u03BB',\"=\",lm)"
   ]
  },
  {
   "cell_type": "code",
   "execution_count": 43,
   "metadata": {},
   "outputs": [
    {
     "data": {
      "text/latex": [
       "$\\displaystyle 1.125 s \\left(1.0 \\int\\limits_{s}^{1.5} 0.333333333333333 τ x{\\left(τ \\right)}\\, dτ + 1.0 \\int\\limits_{s}^{1.5} \\left(- 1.0 x{\\left(τ \\right)}\\right)\\, dτ\\right) + 1.125 \\left(0.333333333333333 s - 1.0\\right) \\int\\limits_{0}^{s} τ x{\\left(τ \\right)}\\, dτ + x{\\left(s \\right)} = 1.5 s^{2} - 19.5$"
      ],
      "text/plain": [
       "Eq(1.125*s*(1.0*Integral(0.333333333333333*τ*x(τ), (τ, s, 1.5)) + 1.0*Integral(-1.0*x(τ), (τ, s, 1.5))) + 1.125*(0.333333333333333*s - 1.0)*Integral(τ*x(τ), (τ, 0, s)) + x(s), 1.5*s**2 - 19.5)"
      ]
     },
     "execution_count": 43,
     "metadata": {},
     "output_type": "execute_result"
    }
   ],
   "source": [
    "y = 1.5*(s**2 + 40 - 53)\n",
    "\n",
    "eq = lambda x: Eq(x-lm*integrate(s*(2*b - t)*x.subs(s,t), (t, s, b))-lm*integrate(t* (2*b - s)*x.subs(s,t), (t, a, s)) , y)\n",
    "eq(x)"
   ]
  },
  {
   "cell_type": "code",
   "execution_count": 44,
   "metadata": {},
   "outputs": [
    {
     "data": {
      "text/latex": [
       "$\\displaystyle 1.125 x{\\left(s \\right)} + \\frac{d^{2}}{d s^{2}} x{\\left(s \\right)} = 3.0$"
      ],
      "text/plain": [
       "Eq(1.125*x(s) + Derivative(x(s), (s, 2)), 3.0)"
      ]
     },
     "execution_count": 44,
     "metadata": {},
     "output_type": "execute_result"
    }
   ],
   "source": [
    "dif_eq = Eq(diff(diff(x, s), s) + 2*lm*b*x, diff(diff(y, s), s))\n",
    "dif_eq"
   ]
  },
  {
   "cell_type": "code",
   "execution_count": 49,
   "metadata": {},
   "outputs": [
    {
     "data": {
      "text/latex": [
       "$\\displaystyle C_{1} \\sin{\\left(1.06066017177982 s \\right)} + C_{2} \\cos{\\left(1.06066017177982 s \\right)} + 2.66666666666667$"
      ],
      "text/plain": [
       "C1*sin(1.06066017177982*s) + C2*cos(1.06066017177982*s) + 2.66666666666667"
      ]
     },
     "metadata": {},
     "output_type": "display_data"
    },
    {
     "data": {
      "text/latex": [
       "$\\displaystyle 1.0 C_{2} + 2.66666666666667 = -19.5$"
      ],
      "text/plain": [
       "Eq(1.0*C2 + 2.66666666666667, -19.5)"
      ]
     },
     "metadata": {},
     "output_type": "display_data"
    },
    {
     "data": {
      "text/latex": [
       "$\\displaystyle 0.483834972902732 C_{1} - 0.305429214143746 C_{2} + 0.979166666666666 = -16.125$"
      ],
      "text/plain": [
       "Eq(0.483834972902732*C1 - 0.305429214143746*C2 + 0.979166666666666, -16.125)"
      ]
     },
     "metadata": {},
     "output_type": "display_data"
    }
   ],
   "source": [
    "ans = dsolve(dif_eq, x).rhs\n",
    "display(ans)\n",
    "display(eq(ans).subs(s, a))\n",
    "display(eq(ans).subs(s, b))"
   ]
  },
  {
   "cell_type": "code",
   "execution_count": 46,
   "metadata": {},
   "outputs": [
    {
     "name": "stdout",
     "output_type": "stream",
     "text": [
      "C1 = -49.3443334689505\n",
      "C2 = -22.1666666666667\n"
     ]
    }
   ],
   "source": [
    "sett = linsolve([eq(ans).subs(s,a), eq(ans).subs(s,b)], (C1, C2))\n",
    "C11 = list(list(sett)[0])[0].evalf()\n",
    "C22 = list(list(sett)[0])[1].evalf()\n",
    "print(\"C1 =\", C11)\n",
    "print(\"C2 =\", C22)"
   ]
  },
  {
   "cell_type": "code",
   "execution_count": 47,
   "metadata": {},
   "outputs": [
    {
     "data": {
      "text/latex": [
       "$\\displaystyle - 49.3443334689505 \\sin{\\left(1.0606601717798 s \\right)} - 22.1666666666667 \\cos{\\left(1.0606601717798 s \\right)} + 2.666666666667$"
      ],
      "text/plain": [
       "-49.3443334689505*sin(1.0606601717798*s) - 22.1666666666667*cos(1.0606601717798*s) + 2.666666666667"
      ]
     },
     "metadata": {},
     "output_type": "display_data"
    },
    {
     "name": "stdout",
     "output_type": "stream",
     "text": [
      "[-19.4999999999997 -23.1712369051296 -26.6942404395932 -30.0487989524207\n",
      " -33.2156671703232 -36.1766766088069 -38.9148398056954 -41.4144477790669\n",
      " -43.6611601504844 -45.6420874164784 -47.3458648962857 -48.7627179316027\n",
      " -49.8845179642985 -50.7048291703675 -51.2189453825802 -51.4239170900043\n",
      " -51.3185683594996 -50.9035035821065 -50.1811040056235 -49.1555140732670\n",
      " -47.8326176467899 -46.2200042504657]\n"
     ]
    }
   ],
   "source": [
    "result = C11*sin(1.0606601717798*s) + 2.666666666667 + C22*cos(1.0606601717798*s)\n",
    "\n",
    "display(result)\n",
    "print(np.array([result.subs(s,i) for i in np.linspace(a, b, 22)]))"
   ]
  },
  {
   "cell_type": "code",
   "execution_count": 48,
   "metadata": {},
   "outputs": [],
   "source": [
    "def K(s,t):\n",
    "    if s>=0 and s<=t:\n",
    "        return s*(3 - t)\n",
    "    elif s>=t and s<=1.5:\n",
    "            return t*(3 - s)\n",
    "        \n",
    "y_func = lambda s: 1.5*(s**2 + 40 - 53)"
   ]
  },
  {
   "cell_type": "code",
   "execution_count": 51,
   "metadata": {},
   "outputs": [
    {
     "name": "stdout",
     "output_type": "stream",
     "text": [
      "[-20.15414323 -21.44685254 -22.72260704 -23.98050971 -25.21967608\n",
      " -26.43923487 -27.63832857 -28.81611407 -29.97176324 -31.10446351\n",
      " -32.21341846 -33.29784835 -34.35699069 -35.39010077 -36.39645218\n",
      " -37.37533734 -38.32606797 -39.24797558 -40.14041195 -41.0027496\n",
      " -41.83438219 -42.63472498 -43.40321523 -44.1393126  -44.8424995\n",
      " -45.51228153 -46.14818774 -46.749771   -47.31660832 -47.84830116\n",
      " -48.34447566 -48.80478295 -49.22889938 -49.61652674 -49.96739247\n",
      " -50.28124989 -50.5578783  -50.7970832  -50.9986964  -51.16257615\n",
      " -51.28860721 -51.37670096 -51.42679548 -51.43885552 -51.41287263\n",
      " -51.34886505 -51.24687781 -51.10698261 -50.9292778  -50.71388835\n",
      " -50.4609657  -50.17068768 -49.8432584  -49.47890807 -49.07789289\n",
      " -48.64049481 -48.16702139 -47.65780553 -47.11320527 -46.53360354]\n"
     ]
    },
    {
     "data": {
      "text/plain": [
       "[<matplotlib.lines.Line2D at 0x7f90d1723130>]"
      ]
     },
     "execution_count": 51,
     "metadata": {},
     "output_type": "execute_result"
    },
    {
     "data": {
      "image/png": "[encoded data removed]",
      "text/plain": [
       "<Figure size 432x288 with 1 Axes>"
      ]
     },
     "metadata": {
      "needs_background": "light"
     },
     "output_type": "display_data"
    }
   ],
   "source": [
    "k = 60\n",
    "net = np.linspace(a, b, k+1)\n",
    "net = (net[1:] + net[:-1])/2\n",
    "h = net[1] - net[0]\n",
    "\n",
    "F = np.array([[int(i==j) - lm*K(net[i], net[j])*h for j in range(k)] for i in range(k)])\n",
    "yy = y_func(net)\n",
    "xx = np.linalg.inv(F)@yy\n",
    "print(xx)\n",
    "plt.plot(np.linspace(0, b, 1000), [result.subs(s, i) for i in np.linspace(0, b, 1000)], linewidth=7.0)\n",
    "plt.plot(net, xx)"
   ]
  }
 ],
 "metadata": {
  "kernelspec": {
   "display_name": "Python 3",
   "language": "python",
   "name": "python3"
  },
  "language_info": {
   "codemirror_mode": {
    "name": "ipython",
    "version": 3
   },
   "file_extension": ".py",
   "mimetype": "text/x-python",
   "name": "python",
   "nbconvert_exporter": "python",
   "pygments_lexer": "ipython3",
   "version": "3.8.10"
  }
 },
 "nbformat": 4,
 "nbformat_minor": 4
}
