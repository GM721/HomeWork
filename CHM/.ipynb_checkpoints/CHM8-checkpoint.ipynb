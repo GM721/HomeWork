{
 "cells": [
  {
   "cell_type": "code",
   "execution_count": 21,
   "metadata": {},
   "outputs": [],
   "source": [
    "import pandas as pd\n",
    "import math\n",
    "import numpy as np\n",
    "import matplotlib.pyplot as plt\n",
    "import scipy.stats as sc\n",
    "import sympy as sp\n",
    "from IPython.display import *"
   ]
  },
  {
   "cell_type": "code",
   "execution_count": 19,
   "metadata": {},
   "outputs": [
    {
     "data": {
      "text/latex": [
       "$\\displaystyle \\frac{5 x^{4} + 8 x^{2} + 2}{\\left(3 x + 2\\right) \\left(x^{2} + 9\\right)}$"
      ],
      "text/plain": [
       "(5*x**4 + 8*x**2 + 2)/((3*x + 2)*(x**2 + 9))"
      ]
     },
     "execution_count": 19,
     "metadata": {},
     "output_type": "execute_result"
    }
   ],
   "source": [
    "f = sp.Function('f')\n",
    "x = sp.Symbol('x')\n",
    "\n",
    "a = 3\n",
    "b = 5\n",
    "c = 2\n",
    "n = 53\n",
    "k = 20\n",
    "h = 2/k\n",
    "\n",
    "f = ((a + 55 - n)*x**4 + (b + 56 - n)*x**2 + c)/((3*x + 2)*(x**2 + 9))\n",
    "f"
   ]
  },
  {
   "cell_type": "code",
   "execution_count": 68,
   "metadata": {},
   "outputs": [
    {
     "name": "stdout",
     "output_type": "stream",
     "text": [
      "0.0  0.1  0.2  0.3  0.4  0.5  0.6  0.7  0.8  0.9  1.0  1.1  1.2  1.3  1.4  1.5  1.6  1.7  1.8  1.9  2.0  "
     ]
    }
   ],
   "source": [
    "t = [round(i*h,2) for i in range(k+1)]\n",
    "for i in t: print(i,end = \"  \")"
   ]
  },
  {
   "cell_type": "markdown",
   "metadata": {},
   "source": [
    "### Аналитическое решение "
   ]
  },
  {
   "cell_type": "code",
   "execution_count": 67,
   "metadata": {},
   "outputs": [
    {
     "data": {
      "text/latex": [
       "$\\displaystyle 0.802303161845373$"
      ],
      "text/plain": [
       "0.802303161845373"
      ]
     },
     "execution_count": 67,
     "metadata": {},
     "output_type": "execute_result"
    }
   ],
   "source": [
    "sp.simplify(sp.integrate(f,(x,0,2))).evalf()"
   ]
  },
  {
   "cell_type": "markdown",
   "metadata": {},
   "source": [
    "### Квадратурная формула прямоугольников"
   ]
  },
  {
   "cell_type": "code",
   "execution_count": 38,
   "metadata": {},
   "outputs": [
    {
     "name": "stdout",
     "output_type": "stream",
     "text": [
      "0.05  0.15  0.25  0.35  0.45  0.55  0.65  0.75  0.85  0.95  1.05  1.15  1.25  1.35  1.45  1.55  1.65  1.75  1.85  1.95  "
     ]
    }
   ],
   "source": [
    "q = [round((t[i]+t[i+1])/2,2) for i in range(k)]\n",
    "for i in q: print(i,end = \"  \")"
   ]
  },
  {
   "cell_type": "code",
   "execution_count": 43,
   "metadata": {},
   "outputs": [
    {
     "data": {
      "text/latex": [
       "$\\displaystyle 0.801776998100632$"
      ],
      "text/plain": [
       "0.801776998100632"
      ]
     },
     "execution_count": 43,
     "metadata": {},
     "output_type": "execute_result"
    }
   ],
   "source": [
    "sum = 0 \n",
    "for i in q : sum += f.subs(x,i) \n",
    "sum *= h\n",
    "sum"
   ]
  },
  {
   "cell_type": "markdown",
   "metadata": {},
   "source": [
    "### Квадратурная формула трапеций"
   ]
  },
  {
   "cell_type": "code",
   "execution_count": 69,
   "metadata": {},
   "outputs": [
    {
     "data": {
      "text/latex": [
       "$\\displaystyle 0.803356092427267$"
      ],
      "text/plain": [
       "0.803356092427267"
      ]
     },
     "execution_count": 69,
     "metadata": {},
     "output_type": "execute_result"
    }
   ],
   "source": [
    "sum = f.subs(x,t[0])/2 + f.subs(x,t[k])/2\n",
    "for i in range(1,20) : sum += f.subs(x,t[i]) \n",
    "sum *= h\n",
    "sum"
   ]
  },
  {
   "cell_type": "markdown",
   "metadata": {},
   "source": [
    "### Квадратурная формула парабол"
   ]
  },
  {
   "cell_type": "code",
   "execution_count": 72,
   "metadata": {},
   "outputs": [
    {
     "data": {
      "text/latex": [
       "$\\displaystyle 0.802306237192651$"
      ],
      "text/plain": [
       "0.802306237192651"
      ]
     },
     "execution_count": 72,
     "metadata": {},
     "output_type": "execute_result"
    }
   ],
   "source": [
    "sum = f.subs(x,t[0]) + f.subs(x,t[k])\n",
    "for i in range(1,20) : \n",
    "    if i%2 == 0:\n",
    "        sum += 2 * f.subs(x,t[i])\n",
    "    else:\n",
    "        sum += 4 * f.subs(x,t[i])\n",
    "sum *= h/3\n",
    "sum"
   ]
  },
  {
   "cell_type": "markdown",
   "metadata": {},
   "source": [
    "### Вычисление интеграла для B - интерполяционого полинома Лагранджа для сеточной функции "
   ]
  },
  {
   "cell_type": "code",
   "execution_count": 104,
   "metadata": {},
   "outputs": [
    {
     "name": "stdout",
     "output_type": "stream",
     "text": [
      "чебышёвская сетка на отрезке [0;2] \n",
      "\n",
      "0.008555138626189618\n",
      "0.07612046748871326\n",
      "0.20664665970876483\n",
      "0.39123857099127934\n",
      "0.6173165676349102\n",
      "0.8694738077799483\n",
      "1.1305261922200516\n",
      "1.3826834323650896\n",
      "1.6087614290087207\n",
      "1.793353340291235\n",
      "1.9238795325112867\n"
     ]
    }
   ],
   "source": [
    "a = 0\n",
    "b = 2\n",
    "tt = [((a+b)/2)-(((b-a)/2)*math.cos(((2*i + 1)*math.pi)/(2*(11+1))))for i in range(11)]\n",
    "print(\"чебышёвская сетка на отрезке [0;2]\", '\\n')\n",
    "for i in tt: print(i)"
   ]
  },
  {
   "cell_type": "code",
   "execution_count": 105,
   "metadata": {},
   "outputs": [
    {
     "name": "stdout",
     "output_type": "stream",
     "text": [
      "0.109734546436798\n",
      "0.101978558043851\n",
      "0.0992236204788302\n",
      "0.115035369799010\n",
      "0.159808366638475\n",
      "0.242560441042527\n",
      "0.367991203063596\n",
      "0.530206915547510\n",
      "0.710415822547370\n",
      "0.881208537182796\n",
      "1.01417342571759\n"
     ]
    }
   ],
   "source": [
    "yy = [f.subs(x,i) for i in tt]\n",
    "for i in yy: print(i)"
   ]
  },
  {
   "cell_type": "code",
   "execution_count": 119,
   "metadata": {},
   "outputs": [
    {
     "data": {
      "text/latex": [
       "$\\displaystyle 0.00473988378927714 x^{10} - 0.0504935962848094 x^{9} + 0.236732559846814 x^{8} - 0.648149519719937 x^{7} + 1.16870234191856 x^{6} - 1.49985484100444 x^{5} + 1.42868881612571 x^{4} - 0.960927137561953 x^{3} + 0.6758646924159 x^{2} - 0.166413971260031 x + 0.111109368328559$"
      ],
      "text/plain": [
       "0.00473988378927714*x**10 - 0.0504935962848094*x**9 + 0.236732559846814*x**8 - 0.648149519719937*x**7 + 1.16870234191856*x**6 - 1.49985484100444*x**5 + 1.42868881612571*x**4 - 0.960927137561953*x**3 + 0.6758646924159*x**2 - 0.166413971260031*x + 0.111109368328559"
      ]
     },
     "execution_count": 119,
     "metadata": {},
     "output_type": "execute_result"
    }
   ],
   "source": [
    "def A(t,x):\n",
    "    g = sp.Function('g')\n",
    "    g = 1\n",
    "    for j in x:\n",
    "        if t != j:\n",
    "            g = g * (t - j)\n",
    "    return g\n",
    "\n",
    "L = sp.Function('L')\n",
    "L = 0\n",
    "for i in range(len(tt)):\n",
    "    L = L + (yy[i]/A(tt[i],tt))*sp.simplify(A(x,tt)/(x - tt[i]))\n",
    "L = sp.simplify(L)\n",
    "L"
   ]
  },
  {
   "cell_type": "markdown",
   "metadata": {},
   "source": [
    "### Аналитическое решение для B - интерполяционого полинома Лагранджа"
   ]
  },
  {
   "cell_type": "code",
   "execution_count": 129,
   "metadata": {},
   "outputs": [
    {
     "data": {
      "text/latex": [
       "$\\displaystyle 0.802305570286885$"
      ],
      "text/plain": [
       "0.802305570286885"
      ]
     },
     "execution_count": 129,
     "metadata": {},
     "output_type": "execute_result"
    }
   ],
   "source": [
    "sp.simplify(sp.integrate(L,(x,0,2))).evalf()"
   ]
  },
  {
   "cell_type": "markdown",
   "metadata": {},
   "source": [
    "### Приближеное решениея  для B - интерполяционого полинома Лагранджа с использованием квадратурной формулы прямоугольников"
   ]
  },
  {
   "cell_type": "code",
   "execution_count": 128,
   "metadata": {},
   "outputs": [
    {
     "data": {
      "text/latex": [
       "$\\displaystyle 0.801778423377329$"
      ],
      "text/plain": [
       "0.801778423377329"
      ]
     },
     "execution_count": 128,
     "metadata": {},
     "output_type": "execute_result"
    }
   ],
   "source": [
    "sum = 0 \n",
    "for i in q : sum += L.subs(x,i) \n",
    "sum *= h\n",
    "sum"
   ]
  },
  {
   "cell_type": "markdown",
   "metadata": {},
   "source": [
    "### Приближеное решениея  для B - интерполяционого полинома Лагранджа с использованием квадратурной формулы трапеций"
   ]
  },
  {
   "cell_type": "code",
   "execution_count": 130,
   "metadata": {},
   "outputs": [
    {
     "data": {
      "text/latex": [
       "$\\displaystyle 0.803360506316616$"
      ],
      "text/plain": [
       "0.803360506316616"
      ]
     },
     "execution_count": 130,
     "metadata": {},
     "output_type": "execute_result"
    }
   ],
   "source": [
    "sum = L.subs(x,t[0])/2 + L.subs(x,t[k])/2\n",
    "for i in range(1,20) : sum += L.subs(x,t[i]) \n",
    "sum *= h\n",
    "sum"
   ]
  },
  {
   "cell_type": "markdown",
   "metadata": {},
   "source": [
    "### Приближеное решениея  для B - интерполяционого полинома Лагранджа с использованием квадратурной формулы парабол"
   ]
  },
  {
   "cell_type": "code",
   "execution_count": 131,
   "metadata": {},
   "outputs": [
    {
     "data": {
      "text/latex": [
       "$\\displaystyle 0.802306237192651$"
      ],
      "text/plain": [
       "0.802306237192651"
      ]
     },
     "execution_count": 131,
     "metadata": {},
     "output_type": "execute_result"
    }
   ],
   "source": [
    "sum = f.subs(x,t[0]) + f.subs(x,t[k])\n",
    "for i in range(1,20) : \n",
    "    if i%2 == 0:\n",
    "        sum += 2 * f.subs(x,t[i])\n",
    "    else:\n",
    "        sum += 4 * f.subs(x,t[i])\n",
    "sum *= h/3\n",
    "sum"
   ]
  }
 ],
 "metadata": {
  "kernelspec": {
   "display_name": "Python 3",
   "language": "python",
   "name": "python3"
  },
  "language_info": {
   "codemirror_mode": {
    "name": "ipython",
    "version": 3
   },
   "file_extension": ".py",
   "mimetype": "text/x-python",
   "name": "python",
   "nbconvert_exporter": "python",
   "pygments_lexer": "ipython3",
   "version": "3.7.5"
  }
 },
 "nbformat": 4,
 "nbformat_minor": 4
}
